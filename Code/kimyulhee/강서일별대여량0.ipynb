{
 "cells": [
  {
   "cell_type": "code",
   "execution_count": 1,
   "metadata": {},
   "outputs": [],
   "source": [
    "import pandas as pd\n",
    "\n",
    "# CSV 파일 경로\n",
    "file_path = './강서_따릉이_데이터_02.csv'\n",
    "\n",
    "# CSV 파일 읽기, 날짜와 시간이 포함된 컬럼을 datetime으로 파싱\n",
    "df = pd.read_csv(file_path, parse_dates=['기준_날짜'])\n",
    "\n",
    "# 'datetime_column' 컬럼을 날짜만 포함하도록 변환\n",
    "df['기준_날짜'] = df['기준_날짜'].dt.date\n",
    "\n",
    "# 'date' 기준으로 그룹화하고 대여량을 'sum'으로 집계\n",
    "daily_rentals_sum = df.groupby('기준_날짜').agg({'전체_건수': 'sum'}).reset_index()\n",
    "\n",
    "# 전체 기간을 위한 날짜 범위 생성 (예를 들어 1월 1일부터 1월 31일까지)\n",
    "date_range = pd.date_range(start='2023-04-01', end='2024-03-31')\n",
    "\n",
    "# date_range를 사용하여 모든 날짜를 포함하는 DataFrame 생성\n",
    "full_date_df = pd.DataFrame(date_range, columns=['기준_날짜'])\n",
    "\n",
    "# 'date' 컬럼을 datetime으로 변환 (merge를 위해 두 DataFrame의 컬럼 타입을 일치)\n",
    "daily_rentals_sum['기준_날짜'] = pd.to_datetime(daily_rentals_sum['기준_날짜'])\n",
    "full_date_df['기준_날짜'] = pd.to_datetime(full_date_df['기준_날짜'])\n",
    "\n",
    "# 원본 데이터와 전체 날짜 DataFrame 병합, 없는 날은 0으로 채우기\n",
    "complete_daily_rentals = full_date_df.merge(daily_rentals_sum, on='기준_날짜', how='left')\n",
    "complete_daily_rentals['전체_건수'] = complete_daily_rentals['전체_건수'].fillna(0)\n",
    "\n",
    "# 결과를 새로운 CSV 파일로 저장\n",
    "complete_daily_rentals.to_csv('./11111.csv', index=False, encoding='utf-8')\n"
   ]
  }
 ],
 "metadata": {
  "kernelspec": {
   "display_name": "base",
   "language": "python",
   "name": "python3"
  },
  "language_info": {
   "codemirror_mode": {
    "name": "ipython",
    "version": 3
   },
   "file_extension": ".py",
   "mimetype": "text/x-python",
   "name": "python",
   "nbconvert_exporter": "python",
   "pygments_lexer": "ipython3",
   "version": "3.11.7"
  }
 },
 "nbformat": 4,
 "nbformat_minor": 2
}
