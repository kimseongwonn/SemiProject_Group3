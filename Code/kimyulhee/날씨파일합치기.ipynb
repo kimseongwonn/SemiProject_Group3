{
 "cells": [
  {
   "cell_type": "code",
   "execution_count": 1,
   "metadata": {},
   "outputs": [],
   "source": [
    "import pandas as pd\n",
    "\n",
    "# 파일 목록\n",
    "files = ['./data_past_day (1).csv', './data_past_day (2).csv', './data_past_day (3).csv', './data_past_day (4).csv', './data_past_day (5).csv', './data_past_day (6).csv', './data_past_day (7).csv', './data_past_day (8).csv']\n",
    "\n",
    "# 파일들을 데이터프레임으로 읽어들이고 하나의 리스트에 저장\n",
    "dataframes = [pd.read_csv(f) for f in files]\n",
    "\n",
    "# 모든 데이터프레임을 하나로 합치기\n",
    "merged_df = pd.concat(dataframes, ignore_index=True)\n",
    "\n",
    "# 결과를 새로운 CSV 파일로 저장\n",
    "merged_df.to_csv('4-12미세먼지.csv', index=False)\n"
   ]
  },
  {
   "cell_type": "code",
   "execution_count": 2,
   "metadata": {},
   "outputs": [],
   "source": [
    "import pandas as pd\n",
    "\n",
    "# 파일 목록\n",
    "files = ['./data_past_day (1).csv', './data_past_day (2).csv', './data_past_day (3).csv', './data_past_day (4).csv', './data_past_day (5).csv', './data_past_day (6).csv', './data_past_day (7).csv', './data_past_day (8).csv']\n",
    "\n",
    "# 파일들을 데이터프레임으로 읽어들이고 하나의 리스트에 저장\n",
    "dataframes = [pd.read_csv(f) for f in files]\n",
    "\n",
    "# 모든 데이터프레임을 하나로 합치기\n",
    "merged_df = pd.concat(dataframes, ignore_index=True)\n",
    "\n",
    "# 결과를 새로운 CSV 파일로 저장\n",
    "merged_df.to_csv('4-7.csv', index=False)\n"
   ]
  },
  {
   "cell_type": "code",
   "execution_count": 20,
   "metadata": {},
   "outputs": [],
   "source": [
    "import pandas as pd\n",
    "\n",
    "# 파일 목록\n",
    "files = ['./4-7.csv','./data_past_day.csv']\n",
    "# 파일들을 데이터프레임으로 읽어들이고 하나의 리스트에 저장\n",
    "dataframes = [pd.read_csv(f, encoding= 'cp949') for f in files]\n",
    "\n",
    "# 모든 데이터프레임을 하나로 합치기\n",
    "merged_df = pd.concat(dataframes, ignore_index=True)\n",
    "\n",
    "# 결과를 새로운 CSV 파일로 저장\n",
    "merged_df.to_csv('4퐘.csv', index=False)"
   ]
  },
  {
   "cell_type": "code",
   "execution_count": 22,
   "metadata": {},
   "outputs": [],
   "source": [
    "import pandas as pd\n",
    "\n",
    "# 파일 경로\n",
    "weather_path = './4-3미세먼지.csv'  # 기온과 강수량 데이터\n",
    "pollution_path = './기온강수량.csv'  # 미세먼지 데이터\n",
    "\n",
    "# 파일 읽기, 날짜 컬럼을 datetime으로 파싱\n",
    "weather_data = pd.read_csv(weather_path, encoding='cp949', parse_dates=['일시'])\n",
    "pollution_data = pd.read_csv(pollution_path, encoding='cp949', parse_dates=['일시'])\n",
    "\n",
    "# 날짜 컬럼을 기준으로 두 데이터프레임 병합, how='inner'는 두 데이터 세트 모두에 날짜가 있는 경우만 병합\n",
    "combined_data = pd.merge(weather_data, pollution_data, on='일시', how='inner')\n",
    "\n",
    "# 병합된 데이터를 새로운 CSV 파일로 저장\n",
    "combined_data.to_csv('./기온강수량미세먼지2.csv', index=False, encoding='utf-8')"
   ]
  },
  {
   "cell_type": "code",
   "execution_count": 19,
   "metadata": {},
   "outputs": [
    {
     "name": "stdout",
     "output_type": "stream",
     "text": [
      "./4-7.csv 파일을 utf-8으로 읽는데 실패했습니다.\n",
      "./4-7.csv 파일은 latin1으로 성공적으로 읽혔습니다.\n",
      "./data_past_day.csv 파일은 utf-8으로 성공적으로 읽혔습니다.\n"
     ]
    }
   ],
   "source": [
    "import pandas as pd\n",
    "\n",
    "files = ['./4-7.csv', './data_past_day.csv']\n",
    "encodings = ['utf-8', 'latin1', 'iso-8859-1', 'windows-1252']  # 시도할 인코딩 목록\n",
    "\n",
    "dataframes = []\n",
    "\n",
    "for file in files:\n",
    "    for encoding in encodings:\n",
    "        try:\n",
    "            df = pd.read_csv(file, encoding=encoding)\n",
    "            dataframes.append(df)\n",
    "            print(f\"{file} 파일은 {encoding}으로 성공적으로 읽혔습니다.\")\n",
    "            break\n",
    "        except UnicodeDecodeError:\n",
    "            print(f\"{file} 파일을 {encoding}으로 읽는데 실패했습니다.\")\n",
    "            continue\n",
    "\n",
    "# 모든 데이터프레임을 하나로 합치기\n",
    "if dataframes:\n",
    "    merged_df = pd.concat(dataframes, ignore_index=True)\n",
    "    # 결과를 새로운 CSV 파일로 저장\n",
    "    merged_df.to_csv('merged_file.csv', index=False, encoding='utf-8')\n",
    "else:\n",
    "    print(\"파일을 읽을 수 있는 인코딩을 찾지 못했습니다.\")\n"
   ]
  }
 ],
 "metadata": {
  "kernelspec": {
   "display_name": "base",
   "language": "python",
   "name": "python3"
  },
  "language_info": {
   "codemirror_mode": {
    "name": "ipython",
    "version": 3
   },
   "file_extension": ".py",
   "mimetype": "text/x-python",
   "name": "python",
   "nbconvert_exporter": "python",
   "pygments_lexer": "ipython3",
   "version": "3.11.7"
  }
 },
 "nbformat": 4,
 "nbformat_minor": 2
}
