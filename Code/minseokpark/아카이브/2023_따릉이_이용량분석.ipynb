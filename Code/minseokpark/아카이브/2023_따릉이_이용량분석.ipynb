{
 "cells": [
  {
   "cell_type": "markdown",
   "metadata": {},
   "source": [
    "### 대여소 ID, 구단위 저장"
   ]
  },
  {
   "cell_type": "code",
   "execution_count": 2,
   "metadata": {},
   "outputs": [
    {
     "name": "stdout",
     "output_type": "stream",
     "text": [
      "       대여소_ID                      주소1            주소2         위도          경도\n",
      "0      ST-999       서울특별시 양천구 목동서로 280  목동아파트 8단지 상가동   0.000000    0.000000\n",
      "1      ST-998       서울특별시 양천구 목동서로 130  목동아파트 4단지 상가동   0.000000    0.000000\n",
      "2      ST-997       서울특별시 양천구 목동중앙로 49  목동3단지 시내버스정류장  37.534390  126.869598\n",
      "3      ST-996   서울특별시 양천구 남부순환로88길5-16     양강중학교앞 교차로  37.524334  126.850548\n",
      "4      ST-995  서울특별시 양천구 중앙로 153 공중화장실            NaN  37.510597  126.857323\n",
      "...       ...                      ...            ...        ...         ...\n",
      "3277  ST-1002     서울특별시 양천구 목동동로 316-6   서울시 도로환경관리센터  37.529900  126.876541\n",
      "3278  ST-1001      서울특별시 양천구 남부순환로4길20        서서울호수공원   0.000000    0.000000\n",
      "3279  ST-1000        서울특별시 양천구 신정동 236    서부식자재마트 건너편  37.510380  126.866798\n",
      "3280   ST-100       서울특별시 광진구 아차산로 262    더샵스타시티 C동 앞  37.536667  127.073593\n",
      "3281    ST-10         서울특별시 마포구 양화로 93            427  37.552746  126.918617\n",
      "\n",
      "[3282 rows x 5 columns]\n",
      "       대여소_ID 주소1\n",
      "0      ST-999  양천\n",
      "1      ST-998  양천\n",
      "2      ST-997  양천\n",
      "3      ST-996  양천\n",
      "4      ST-995  양천\n",
      "...       ...  ..\n",
      "3277  ST-1002  양천\n",
      "3278  ST-1001  양천\n",
      "3279  ST-1000  양천\n",
      "3280   ST-100  광진\n",
      "3281    ST-10  마포\n",
      "\n",
      "[3282 rows x 2 columns]\n"
     ]
    },
    {
     "name": "stderr",
     "output_type": "stream",
     "text": [
      "/var/folders/_j/yl1g13yd0_s25zcx_fwnjdkm0000gn/T/ipykernel_7279/156875041.py:9: SettingWithCopyWarning: \n",
      "A value is trying to be set on a copy of a slice from a DataFrame.\n",
      "Try using .loc[row_indexer,col_indexer] = value instead\n",
      "\n",
      "See the caveats in the documentation: https://pandas.pydata.org/pandas-docs/stable/user_guide/indexing.html#returning-a-view-versus-a-copy\n",
      "  대여소_data['주소1'] = data['주소1'].str.extract(r'(\\S+)구')\n"
     ]
    }
   ],
   "source": [
    "import numpy as np\n",
    "import pandas as pd\n",
    "\n",
    "\n",
    "data= pd.read_csv('../../Data/따릉이/서울시 따릉이대여소 마스터 정보.csv',encoding='cp949')\n",
    "\n",
    "대여소_data = data[['대여소_ID', '주소1']]\n",
    "print(data)\n",
    "대여소_data['주소1'] = data['주소1'].str.extract(r'(\\S+)구')\n",
    "print(대여소_data)"
   ]
  },
  {
   "cell_type": "code",
   "execution_count": 13,
   "metadata": {},
   "outputs": [
    {
     "name": "stdout",
     "output_type": "stream",
     "text": [
      "    주소1                                             대여소_ID\n",
      "0    강남  [ST-966, ST-963, ST-962, ST-961, ST-960, ST-95...\n",
      "1    강동  [ST-830, ST-505, ST-504, ST-503, ST-502, ST-50...\n",
      "2    강북  [ST-948, ST-865, ST-863, ST-862, ST-861, ST-86...\n",
      "3    강서  [ST-975, ST-837, ST-836, ST-835, ST-834, ST-83...\n",
      "4    관악  [ST-976, ST-965, ST-951, ST-950, ST-934, ST-88...\n",
      "5    광진  [ST-99, ST-988, ST-987, ST-986, ST-985, ST-984...\n",
      "6    구로  [ST-936, ST-920, ST-919, ST-918, ST-876, ST-87...\n",
      "7    금천  [ST-952, ST-917, ST-661, ST-660, ST-642, ST-64...\n",
      "8    노원  [ST-971, ST-970, ST-964, ST-915, ST-914, ST-91...\n",
      "9    도봉  [ST-916, ST-864, ST-734, ST-659, ST-658, ST-65...\n",
      "10  동대문  [ST-412, ST-411, ST-410, ST-409, ST-408, ST-40...\n",
      "11   동작  [ST-932, ST-924, ST-923, ST-922, ST-921, ST-87...\n",
      "12   마포  [ST-992, ST-991, ST-982, ST-968, ST-96, ST-95,...\n",
      "13   분당                                          [ST-2426]\n",
      "14  서대문  [ST-555, ST-554, ST-43, ST-42, ST-41, ST-40, S...\n",
      "15   서초  [ST-969, ST-949, ST-935, ST-929, ST-928, ST-92...\n",
      "16   성동  [ST-967, ST-506, ST-482, ST-48, ST-447, ST-446...\n",
      "17   성북  [ST-947, ST-931, ST-911, ST-910, ST-846, ST-84...\n",
      "18   송파  [ST-981, ST-933, ST-930, ST-909, ST-908, ST-90...\n",
      "19   양천  [ST-999, ST-998, ST-997, ST-996, ST-995, ST-99...\n",
      "20  영등포  [ST-73, ST-72, ST-71, ST-70, ST-69, ST-68, ST-...\n",
      "21   용산  [ST-442, ST-441, ST-440, ST-439, ST-438, ST-43...\n",
      "22   은평  [ST-93, ST-481, ST-480, ST-479, ST-478, ST-477...\n",
      "23   종로  [ST-979, ST-978, ST-941, ST-940, ST-939, ST-93...\n",
      "24    중  [ST-977, ST-946, ST-945, ST-944, ST-943, ST-33...\n",
      "25   중랑  [ST-942, ST-912, ST-857, ST-856, ST-855, ST-85...\n"
     ]
    }
   ],
   "source": [
    "# 대여소를 구별로 묶기\n",
    "구_data = 대여소_data.groupby('주소1')['대여소_ID'].apply(list).reset_index()\n",
    "print(구_data)"
   ]
  },
  {
   "cell_type": "code",
   "execution_count": 3,
   "metadata": {},
   "outputs": [
    {
     "data": {
      "text/plain": [
       "array(['양천', '마포', nan, '광진', '송파', '종로', '중', '관악', '강서', '노원', '서초',\n",
       "       '성동', '강남', '금천', '강북', '성북', '중랑', '구로', '동작', '은평', '도봉', '강동',\n",
       "       '영등포', '서대문', '용산', '동대문', '분당'], dtype=object)"
      ]
     },
     "execution_count": 3,
     "metadata": {},
     "output_type": "execute_result"
    }
   ],
   "source": [
    "대여소_data['주소1'].unique()"
   ]
  },
  {
   "cell_type": "markdown",
   "metadata": {},
   "source": [
    "### 따릉이 이용량 데이터 "
   ]
  },
  {
   "cell_type": "code",
   "execution_count": 45,
   "metadata": {},
   "outputs": [
    {
     "name": "stdout",
     "output_type": "stream",
     "text": [
      "               기준_날짜  기준_시간대 시작_대여소_ID 종료_대여소_ID  전체_건수\n",
      "0         20230101.0       0   ST-1590   ST-1590      1\n",
      "1         20230101.0       0   ST-2127   ST-2127      1\n",
      "2         20230101.0       5   ST-1286   ST-1286      1\n",
      "3         20230101.0       5   ST-1780   ST-1780      1\n",
      "4         20230101.0       5   ST-2018   ST-2018      2\n",
      "...              ...     ...       ...       ...    ...\n",
      "86434233  20231231.0    2355   ST-1609    ST-271      1\n",
      "86434234  20231231.0    2355   ST-2305    ST-987      1\n",
      "86434235  20231231.0    2355   ST-2481   ST-2481      1\n",
      "86434236  20231231.0    2355   ST-2742   ST-1061      1\n",
      "86434237  20231231.0    2355   ST-3011    ST-280      1\n",
      "\n",
      "[86434238 rows x 5 columns]\n"
     ]
    }
   ],
   "source": [
    "path = '../../../../data_semi/2023_combined_data.csv'\n",
    "data_seoul = pd.read_csv(path, encoding='utf-8')\n",
    "print(data_seoul)"
   ]
  },
  {
   "cell_type": "code",
   "execution_count": 21,
   "metadata": {},
   "outputs": [
    {
     "data": {
      "text/plain": [
       "list"
      ]
     },
     "execution_count": 21,
     "metadata": {},
     "output_type": "execute_result"
    }
   ],
   "source": [
    "type(구_data.loc[0, '대여소_ID'])"
   ]
  },
  {
   "cell_type": "code",
   "execution_count": 24,
   "metadata": {},
   "outputs": [
    {
     "data": {
      "text/plain": [
       "0     [ST-966, ST-963, ST-962, ST-961, ST-960, ST-95...\n",
       "1     [ST-830, ST-505, ST-504, ST-503, ST-502, ST-50...\n",
       "2     [ST-948, ST-865, ST-863, ST-862, ST-861, ST-86...\n",
       "3     [ST-975, ST-837, ST-836, ST-835, ST-834, ST-83...\n",
       "4     [ST-976, ST-965, ST-951, ST-950, ST-934, ST-88...\n",
       "5     [ST-99, ST-988, ST-987, ST-986, ST-985, ST-984...\n",
       "6     [ST-936, ST-920, ST-919, ST-918, ST-876, ST-87...\n",
       "7     [ST-952, ST-917, ST-661, ST-660, ST-642, ST-64...\n",
       "8     [ST-971, ST-970, ST-964, ST-915, ST-914, ST-91...\n",
       "9     [ST-916, ST-864, ST-734, ST-659, ST-658, ST-65...\n",
       "10    [ST-412, ST-411, ST-410, ST-409, ST-408, ST-40...\n",
       "11    [ST-932, ST-924, ST-923, ST-922, ST-921, ST-87...\n",
       "12    [ST-992, ST-991, ST-982, ST-968, ST-96, ST-95,...\n",
       "13                                            [ST-2426]\n",
       "14    [ST-555, ST-554, ST-43, ST-42, ST-41, ST-40, S...\n",
       "15    [ST-969, ST-949, ST-935, ST-929, ST-928, ST-92...\n",
       "16    [ST-967, ST-506, ST-482, ST-48, ST-447, ST-446...\n",
       "17    [ST-947, ST-931, ST-911, ST-910, ST-846, ST-84...\n",
       "18    [ST-981, ST-933, ST-930, ST-909, ST-908, ST-90...\n",
       "19    [ST-999, ST-998, ST-997, ST-996, ST-995, ST-99...\n",
       "20    [ST-73, ST-72, ST-71, ST-70, ST-69, ST-68, ST-...\n",
       "21    [ST-442, ST-441, ST-440, ST-439, ST-438, ST-43...\n",
       "22    [ST-93, ST-481, ST-480, ST-479, ST-478, ST-477...\n",
       "23    [ST-979, ST-978, ST-941, ST-940, ST-939, ST-93...\n",
       "24    [ST-977, ST-946, ST-945, ST-944, ST-943, ST-33...\n",
       "25    [ST-942, ST-912, ST-857, ST-856, ST-855, ST-85...\n",
       "Name: 대여소_ID, dtype: object"
      ]
     },
     "execution_count": 24,
     "metadata": {},
     "output_type": "execute_result"
    }
   ],
   "source": [
    "구_data['대여소_ID']"
   ]
  },
  {
   "cell_type": "code",
   "execution_count": 25,
   "metadata": {},
   "outputs": [
    {
     "name": "stdout",
     "output_type": "stream",
     "text": [
      "              기준_날짜  기준_시간대 시작_대여소_ID 종료_대여소_ID  전체_건수  전체_이용_분  전체_이용_거리\n",
      "0        20230101.0    1810   ST-2689   ST-2689      1        1       111\n",
      "1        20230101.0    1810   ST-2689   ST-2689      1        1       111\n",
      "2        20230101.0       0    ST-961   ST-2882      1       52      2330\n",
      "3        20230101.0      10   ST-1893   ST-1882      1        7      1196\n",
      "4        20230101.0      10   ST-1897   ST-1574      1        9      1300\n",
      "...             ...     ...       ...       ...    ...      ...       ...\n",
      "1807385  20231231.0    2345    ST-803    ST-797      1       91      4180\n",
      "1807386  20231231.0    2345   ST-1186   ST-2474      1       10      1060\n",
      "1807387  20231231.0    2350   ST-2870    ST-958      1        9      2470\n",
      "1807388  20231231.0    2350   ST-1185   ST-1364      1        7      1437\n",
      "1807389  20231231.0    2355   ST-1185   ST-1364      1        7      1437\n",
      "\n",
      "[1807390 rows x 7 columns]\n"
     ]
    }
   ],
   "source": [
    "import numpy as np\n",
    "import pandas as pd\n",
    "\n",
    "path = '../../Data/강남_따릉이_data_2023.csv'\n",
    "data2 = pd.read_csv(path, encoding='utf-8')\n",
    "print(data2)\n",
    "따릉이_data = data2"
   ]
  },
  {
   "cell_type": "code",
   "execution_count": 40,
   "metadata": {},
   "outputs": [],
   "source": [
    "# 구_data에서 대여소 ID를 키로 하여 대여소명을 매핑하는 함수 정의\n",
    "\n",
    "def map_station_name(id_list):\n",
    "    names = []\n",
    "    for id in id_list:\n",
    "        name = 구_data[구_data['대여소_ID'].apply(lambda x: id in x)]['주소1'].values\n",
    "        if len(name) > 0:\n",
    "            names.append(name[0])\n",
    "        else:\n",
    "            names.append(None)\n",
    "    return names"
   ]
  },
  {
   "cell_type": "code",
   "execution_count": 41,
   "metadata": {},
   "outputs": [],
   "source": [
    "# 데이터 프레임 2에 새로운 컬럼 추가\n",
    "따릉이_data['구'] = map_station_name(따릉이_data['시작_대여소_ID'])"
   ]
  },
  {
   "cell_type": "code",
   "execution_count": 43,
   "metadata": {},
   "outputs": [
    {
     "data": {
      "text/plain": [
       "array(['강남'], dtype=object)"
      ]
     },
     "execution_count": 43,
     "metadata": {},
     "output_type": "execute_result"
    }
   ],
   "source": [
    "따릉이_data['구'].unique()"
   ]
  },
  {
   "cell_type": "code",
   "execution_count": null,
   "metadata": {},
   "outputs": [],
   "source": [
    "\n",
    "# 출발 대여소 ID가 강남구 대여소 ID에 해당하는지 확인하는 조건 추가\n",
    "강남출발_mask = 따릉이_data['시작_대여소_ID'].isin(강남_대여소_ID)\n",
    "\n",
    "# 도착 대여소 ID가 강남구 대여소 ID에 해당하는지 확인하는 조건 추가\n",
    "강남도착_mask = 따릉이_data['종료_대여소_ID'].isin(강남_대여소_ID)\n",
    "\n",
    "# 출발 혹은 도착 대여소 ID가 강남구 대여소 ID에 해당하는 데이터만 남기기\n",
    "강남_따릉이_data = 따릉이_data[강남출발_mask | 강남도착_mask]\n",
    "# 시작 대여소명에서 동만 추출하여 새로운 열 추가하기\n",
    "강남_따릉이_data['시작_대여소명'] = 강남_따릉이_data['시작_대여소명'].str.split('_').str[0]\n",
    "\n",
    "print(강남_따릉이_data)"
   ]
  }
 ],
 "metadata": {
  "kernelspec": {
   "display_name": "base",
   "language": "python",
   "name": "python3"
  },
  "language_info": {
   "codemirror_mode": {
    "name": "ipython",
    "version": 3
   },
   "file_extension": ".py",
   "mimetype": "text/x-python",
   "name": "python",
   "nbconvert_exporter": "python",
   "pygments_lexer": "ipython3",
   "version": "3.9.13"
  }
 },
 "nbformat": 4,
 "nbformat_minor": 2
}
