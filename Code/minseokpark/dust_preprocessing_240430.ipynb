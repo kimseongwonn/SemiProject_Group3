{
 "cells": [
  {
   "cell_type": "markdown",
   "metadata": {},
   "source": [
    "대여소 ID, 구 단위 저장\n"
   ]
  },
  {
   "cell_type": "code",
   "execution_count": 7,
   "metadata": {},
   "outputs": [
    {
     "name": "stdout",
     "output_type": "stream",
     "text": [
      "36       ST-966\n",
      "39       ST-963\n",
      "40       ST-962\n",
      "41       ST-961\n",
      "42       ST-960\n",
      "         ...   \n",
      "3090    ST-1174\n",
      "3091    ST-1173\n",
      "3092    ST-1172\n",
      "3093    ST-1171\n",
      "3094    ST-1170\n",
      "Name: 대여소_ID, Length: 191, dtype: object\n"
     ]
    },
    {
     "name": "stderr",
     "output_type": "stream",
     "text": [
      "/var/folders/_j/yl1g13yd0_s25zcx_fwnjdkm0000gn/T/ipykernel_4742/3055752527.py:9: SettingWithCopyWarning: \n",
      "A value is trying to be set on a copy of a slice from a DataFrame.\n",
      "Try using .loc[row_indexer,col_indexer] = value instead\n",
      "\n",
      "See the caveats in the documentation: https://pandas.pydata.org/pandas-docs/stable/user_guide/indexing.html#returning-a-view-versus-a-copy\n",
      "  대여소_data['주소1'] = data['주소1'].str.extract(r'(\\S+)구')\n"
     ]
    }
   ],
   "source": [
    "import numpy as np\n",
    "import pandas as pd\n",
    "\n",
    "\n",
    "data= pd.read_csv('../../Data/따릉이/서울시 따릉이대여소 마스터 정보.csv',encoding='cp949')\n",
    "\n",
    "대여소_data = data[['대여소_ID', '주소1']]\n",
    "\n",
    "대여소_data['주소1'] = data['주소1'].str.extract(r'(\\S+)구')\n",
    "\n",
    "강남_대여소_ID = 대여소_data.loc[대여소_data['주소1'] == '강남', '대여소_ID']\n",
    "강남_대여소_ID_df = pd.DataFrame({'대여소_ID': 강남_대여소_ID})\n",
    "\n",
    "print(강남_대여소_ID)"
   ]
  },
  {
   "cell_type": "code",
   "execution_count": 40,
   "metadata": {},
   "outputs": [
    {
     "data": {
      "text/plain": [
       "pandas.core.series.Series"
      ]
     },
     "execution_count": 40,
     "metadata": {},
     "output_type": "execute_result"
    }
   ],
   "source": [
    "type(강남_대여소_ID)"
   ]
  },
  {
   "cell_type": "markdown",
   "metadata": {},
   "source": [
    "### 미세먼지"
   ]
  },
  {
   "cell_type": "code",
   "execution_count": 8,
   "metadata": {},
   "outputs": [
    {
     "name": "stdout",
     "output_type": "stream",
     "text": [
      "미세먼지\n",
      "         기준_날짜  미세먼지(㎍/㎥)  초미세먼지(㎍/㎥)\n",
      "0     20230101       52.0        36.0\n",
      "25    20230102       24.0        11.0\n",
      "50    20230103       29.0        15.0\n",
      "75    20230104       35.0        22.0\n",
      "100   20230105       47.0        32.0\n",
      "...        ...        ...         ...\n",
      "9000  20231227       69.0        51.0\n",
      "9025  20231228       48.0        37.0\n",
      "9050  20231229       44.0        33.0\n",
      "9075  20231230       42.0        33.0\n",
      "9100  20231231       23.0        18.0\n",
      "\n",
      "[365 rows x 3 columns]\n"
     ]
    }
   ],
   "source": [
    "import numpy as np\n",
    "import pandas as pd\n",
    "\n",
    "data5 = pd.read_csv('../../Data/기상청/미세먼지.csv')\n",
    "\n",
    "미세먼지_강남구_data = data5[data5['측정소명']=='강남구']\n",
    "미세먼지_강남구_data = 미세먼지_강남구_data.rename(columns={'측정일시': '기준_날짜'})\n",
    "미세먼지 = 미세먼지_강남구_data[['기준_날짜','미세먼지(㎍/㎥)', '초미세먼지(㎍/㎥)']]\n",
    "\n",
    "print('미세먼지')\n",
    "print(미세먼지)"
   ]
  },
  {
   "cell_type": "code",
   "execution_count": 9,
   "metadata": {},
   "outputs": [
    {
     "data": {
      "text/html": [
       "<div>\n",
       "<style scoped>\n",
       "    .dataframe tbody tr th:only-of-type {\n",
       "        vertical-align: middle;\n",
       "    }\n",
       "\n",
       "    .dataframe tbody tr th {\n",
       "        vertical-align: top;\n",
       "    }\n",
       "\n",
       "    .dataframe thead th {\n",
       "        text-align: right;\n",
       "    }\n",
       "</style>\n",
       "<table border=\"1\" class=\"dataframe\">\n",
       "  <thead>\n",
       "    <tr style=\"text-align: right;\">\n",
       "      <th></th>\n",
       "      <th>기준_날짜</th>\n",
       "      <th>미세먼지(㎍/㎥)</th>\n",
       "      <th>초미세먼지(㎍/㎥)</th>\n",
       "    </tr>\n",
       "  </thead>\n",
       "  <tbody>\n",
       "    <tr>\n",
       "      <th>0</th>\n",
       "      <td>20230101</td>\n",
       "      <td>52.0</td>\n",
       "      <td>36.0</td>\n",
       "    </tr>\n",
       "    <tr>\n",
       "      <th>1</th>\n",
       "      <td>20230102</td>\n",
       "      <td>24.0</td>\n",
       "      <td>11.0</td>\n",
       "    </tr>\n",
       "    <tr>\n",
       "      <th>2</th>\n",
       "      <td>20230103</td>\n",
       "      <td>29.0</td>\n",
       "      <td>15.0</td>\n",
       "    </tr>\n",
       "    <tr>\n",
       "      <th>3</th>\n",
       "      <td>20230104</td>\n",
       "      <td>35.0</td>\n",
       "      <td>22.0</td>\n",
       "    </tr>\n",
       "    <tr>\n",
       "      <th>4</th>\n",
       "      <td>20230105</td>\n",
       "      <td>47.0</td>\n",
       "      <td>32.0</td>\n",
       "    </tr>\n",
       "    <tr>\n",
       "      <th>...</th>\n",
       "      <td>...</td>\n",
       "      <td>...</td>\n",
       "      <td>...</td>\n",
       "    </tr>\n",
       "    <tr>\n",
       "      <th>360</th>\n",
       "      <td>20231227</td>\n",
       "      <td>69.0</td>\n",
       "      <td>51.0</td>\n",
       "    </tr>\n",
       "    <tr>\n",
       "      <th>361</th>\n",
       "      <td>20231228</td>\n",
       "      <td>48.0</td>\n",
       "      <td>37.0</td>\n",
       "    </tr>\n",
       "    <tr>\n",
       "      <th>362</th>\n",
       "      <td>20231229</td>\n",
       "      <td>44.0</td>\n",
       "      <td>33.0</td>\n",
       "    </tr>\n",
       "    <tr>\n",
       "      <th>363</th>\n",
       "      <td>20231230</td>\n",
       "      <td>42.0</td>\n",
       "      <td>33.0</td>\n",
       "    </tr>\n",
       "    <tr>\n",
       "      <th>364</th>\n",
       "      <td>20231231</td>\n",
       "      <td>23.0</td>\n",
       "      <td>18.0</td>\n",
       "    </tr>\n",
       "  </tbody>\n",
       "</table>\n",
       "<p>365 rows × 3 columns</p>\n",
       "</div>"
      ],
      "text/plain": [
       "        기준_날짜  미세먼지(㎍/㎥)  초미세먼지(㎍/㎥)\n",
       "0    20230101       52.0        36.0\n",
       "1    20230102       24.0        11.0\n",
       "2    20230103       29.0        15.0\n",
       "3    20230104       35.0        22.0\n",
       "4    20230105       47.0        32.0\n",
       "..        ...        ...         ...\n",
       "360  20231227       69.0        51.0\n",
       "361  20231228       48.0        37.0\n",
       "362  20231229       44.0        33.0\n",
       "363  20231230       42.0        33.0\n",
       "364  20231231       23.0        18.0\n",
       "\n",
       "[365 rows x 3 columns]"
      ]
     },
     "execution_count": 9,
     "metadata": {},
     "output_type": "execute_result"
    }
   ],
   "source": [
    "미세먼지_2023 = 미세먼지.reset_index()[['기준_날짜', '미세먼지(㎍/㎥)', '초미세먼지(㎍/㎥)']]\n",
    "미세먼지_2023"
   ]
  },
  {
   "cell_type": "code",
   "execution_count": 10,
   "metadata": {},
   "outputs": [
    {
     "data": {
      "text/plain": [
       "dtype('int64')"
      ]
     },
     "execution_count": 10,
     "metadata": {},
     "output_type": "execute_result"
    }
   ],
   "source": [
    "미세먼지_2023['기준_날짜'].dtype"
   ]
  },
  {
   "cell_type": "code",
   "execution_count": 11,
   "metadata": {},
   "outputs": [
    {
     "name": "stdout",
     "output_type": "stream",
     "text": [
      "0     2023-01-01\n",
      "1     2023-01-02\n",
      "2     2023-01-03\n",
      "3     2023-01-04\n",
      "4     2023-01-05\n",
      "         ...    \n",
      "360   2023-12-27\n",
      "361   2023-12-28\n",
      "362   2023-12-29\n",
      "363   2023-12-30\n",
      "364   2023-12-31\n",
      "Name: 기준_날짜, Length: 365, dtype: datetime64[ns]\n"
     ]
    }
   ],
   "source": [
    "미세먼지_2023['기준_날짜'] = (미세먼지_2023['기준_날짜'].astype(str).str[0:4]) + '-' + (미세먼지_2023['기준_날짜'].astype(str).str[4:6]) + '-' + (미세먼지_2023['기준_날짜'].astype(str).str[6:8])\n",
    "미세먼지_2023['기준_날짜'] = pd.to_datetime(미세먼지_2023['기준_날짜'])\n",
    "print(미세먼지_2023['기준_날짜'])"
   ]
  },
  {
   "cell_type": "code",
   "execution_count": 12,
   "metadata": {},
   "outputs": [
    {
     "name": "stdout",
     "output_type": "stream",
     "text": [
      "<class 'pandas.core.frame.DataFrame'>\n",
      "RangeIndex: 365 entries, 0 to 364\n",
      "Data columns (total 3 columns):\n",
      " #   Column      Non-Null Count  Dtype         \n",
      "---  ------      --------------  -----         \n",
      " 0   기준_날짜       365 non-null    datetime64[ns]\n",
      " 1   미세먼지(㎍/㎥)   365 non-null    float64       \n",
      " 2   초미세먼지(㎍/㎥)  365 non-null    float64       \n",
      "dtypes: datetime64[ns](1), float64(2)\n",
      "memory usage: 8.7 KB\n"
     ]
    }
   ],
   "source": [
    "미세먼지_2023.info()"
   ]
  },
  {
   "cell_type": "code",
   "execution_count": 13,
   "metadata": {},
   "outputs": [
    {
     "data": {
      "text/html": [
       "<div>\n",
       "<style scoped>\n",
       "    .dataframe tbody tr th:only-of-type {\n",
       "        vertical-align: middle;\n",
       "    }\n",
       "\n",
       "    .dataframe tbody tr th {\n",
       "        vertical-align: top;\n",
       "    }\n",
       "\n",
       "    .dataframe thead th {\n",
       "        text-align: right;\n",
       "    }\n",
       "</style>\n",
       "<table border=\"1\" class=\"dataframe\">\n",
       "  <thead>\n",
       "    <tr style=\"text-align: right;\">\n",
       "      <th></th>\n",
       "      <th>미세먼지(㎍/㎥)</th>\n",
       "      <th>초미세먼지(㎍/㎥)</th>\n",
       "    </tr>\n",
       "  </thead>\n",
       "  <tbody>\n",
       "    <tr>\n",
       "      <th>count</th>\n",
       "      <td>365.000000</td>\n",
       "      <td>365.000000</td>\n",
       "    </tr>\n",
       "    <tr>\n",
       "      <th>mean</th>\n",
       "      <td>37.260274</td>\n",
       "      <td>19.391781</td>\n",
       "    </tr>\n",
       "    <tr>\n",
       "      <th>std</th>\n",
       "      <td>25.122572</td>\n",
       "      <td>11.450440</td>\n",
       "    </tr>\n",
       "    <tr>\n",
       "      <th>min</th>\n",
       "      <td>3.000000</td>\n",
       "      <td>1.000000</td>\n",
       "    </tr>\n",
       "    <tr>\n",
       "      <th>25%</th>\n",
       "      <td>22.000000</td>\n",
       "      <td>12.000000</td>\n",
       "    </tr>\n",
       "    <tr>\n",
       "      <th>50%</th>\n",
       "      <td>32.000000</td>\n",
       "      <td>17.000000</td>\n",
       "    </tr>\n",
       "    <tr>\n",
       "      <th>75%</th>\n",
       "      <td>45.000000</td>\n",
       "      <td>24.000000</td>\n",
       "    </tr>\n",
       "    <tr>\n",
       "      <th>max</th>\n",
       "      <td>246.000000</td>\n",
       "      <td>86.000000</td>\n",
       "    </tr>\n",
       "  </tbody>\n",
       "</table>\n",
       "</div>"
      ],
      "text/plain": [
       "        미세먼지(㎍/㎥)  초미세먼지(㎍/㎥)\n",
       "count  365.000000  365.000000\n",
       "mean    37.260274   19.391781\n",
       "std     25.122572   11.450440\n",
       "min      3.000000    1.000000\n",
       "25%     22.000000   12.000000\n",
       "50%     32.000000   17.000000\n",
       "75%     45.000000   24.000000\n",
       "max    246.000000   86.000000"
      ]
     },
     "execution_count": 13,
     "metadata": {},
     "output_type": "execute_result"
    }
   ],
   "source": [
    "미세먼지_2023.describe()"
   ]
  },
  {
   "cell_type": "markdown",
   "metadata": {},
   "source": [
    "### 이상치 확인"
   ]
  },
  {
   "cell_type": "code",
   "execution_count": 127,
   "metadata": {},
   "outputs": [
    {
     "data": {
      "image/png": "[encoded data removed]",
      "text/plain": [
       "<Figure size 1200x600 with 1 Axes>"
      ]
     },
     "metadata": {},
     "output_type": "display_data"
    }
   ],
   "source": [
    "fig, ax = plt.subplots(figsize = (12, 6))\n",
    "\n",
    "ax.boxplot(미세먼지_2023['미세먼지(㎍/㎥)'], vert=False)\n",
    "\n",
    "plt.show()"
   ]
  },
  {
   "cell_type": "markdown",
   "metadata": {},
   "source": [
    "### 미세먼지 시각화"
   ]
  },
  {
   "cell_type": "code",
   "execution_count": 113,
   "metadata": {},
   "outputs": [
    {
     "data": {
      "image/png": "[encoded data removed]",
      "text/plain": [
       "<Figure size 2000x800 with 1 Axes>"
      ]
     },
     "metadata": {},
     "output_type": "display_data"
    }
   ],
   "source": [
    "import numpy as np \n",
    "import pandas as pd\n",
    "import matplotlib.pyplot as plt\n",
    "\n",
    "fig, ax = plt.subplots(figsize = (20, 8))\n",
    "\n",
    "ax.plot(미세먼지_2023['기준_날짜'], 미세먼지_2023['미세먼지(㎍/㎥)'], label = '미세먼지')\n",
    "# ax.plot(미세먼지_2023['기준_날짜'], 미세먼지_2023['초미세먼지(㎍/㎥)'], label = '초미세먼지')\n",
    "\n",
    "plt.show()"
   ]
  },
  {
   "cell_type": "code",
   "execution_count": 117,
   "metadata": {},
   "outputs": [
    {
     "data": {
      "image/png": "[encoded data removed]",
      "text/plain": [
       "<Figure size 2000x800 with 1 Axes>"
      ]
     },
     "metadata": {},
     "output_type": "display_data"
    }
   ],
   "source": [
    "import numpy as np \n",
    "import pandas as pd\n",
    "import matplotlib.pyplot as plt\n",
    "\n",
    "fig, ax = plt.subplots(figsize = (20, 8))\n",
    "\n",
    "ax.bar(미세먼지_2023['기준_날짜'], 미세먼지_2023['미세먼지(㎍/㎥)'], label = '미세먼지')\n",
    "# ax.bar(미세먼지_2023['기준_날짜'], 미세먼지_2023['초미세먼지(㎍/㎥)'], label = '초미세먼지')\n",
    "\n",
    "plt.show()"
   ]
  },
  {
   "cell_type": "markdown",
   "metadata": {},
   "source": [
    "### 따릉이 데이터"
   ]
  },
  {
   "cell_type": "code",
   "execution_count": 3,
   "metadata": {},
   "outputs": [
    {
     "name": "stdout",
     "output_type": "stream",
     "text": [
      "           기준_날짜   기준_시간대 시작_대여소_ID 종료_대여소_ID  전체_건수\n",
      "34      20240423    0시 0분   ST-1365   ST-3188      1\n",
      "53      20240423    0시 0분   ST-1578   ST-2796      1\n",
      "75      20240423    0시 0분    ST-187    ST-823      1\n",
      "76      20240423    0시 0분   ST-1888   ST-1185      1\n",
      "77      20240423    0시 0분   ST-1893   ST-1560      1\n",
      "...          ...      ...       ...       ...    ...\n",
      "296479  20240423  23시 50분   ST-1888   ST-1364      1\n",
      "296480  20240423  23시 50분   ST-1922    ST-813      1\n",
      "296542  20240423  23시 50분    ST-815   ST-1247      1\n",
      "296543  20240423  23시 50분    ST-823    ST-823      1\n",
      "296808  20240423  23시 55분   ST-1407   ST-1364      1\n",
      "\n",
      "[6933 rows x 5 columns]\n"
     ]
    },
    {
     "name": "stderr",
     "output_type": "stream",
     "text": [
      "/var/folders/_j/yl1g13yd0_s25zcx_fwnjdkm0000gn/T/ipykernel_7609/3488095193.py:9: SettingWithCopyWarning: \n",
      "A value is trying to be set on a copy of a slice from a DataFrame.\n",
      "Try using .loc[row_indexer,col_indexer] = value instead\n",
      "\n",
      "See the caveats in the documentation: https://pandas.pydata.org/pandas-docs/stable/user_guide/indexing.html#returning-a-view-versus-a-copy\n",
      "  따릉이_data['기준_시간대'] = 따릉이_data['기준_시간대'].astype(str).apply(lambda x: f\"{int(x)//100}시 {int(x)%100}분\")\n"
     ]
    }
   ],
   "source": [
    "import numpy as np\n",
    "import pandas as pd\n",
    "\n",
    "data2 = pd.read_csv('../../Data/따릉이/tpss_bcycl_od_statnhm_20240423.csv', encoding='cp949')\n",
    "\n",
    "data2 = data2[data2['집계_기준'] != '도착시간']\n",
    "\n",
    "따릉이_data = data2[['기준_날짜', '기준_시간대', '시작_대여소_ID', '종료_대여소_ID', '전체_건수']]\n",
    "따릉이_data['기준_시간대'] = 따릉이_data['기준_시간대'].astype(str).apply(lambda x: f\"{int(x)//100}시 {int(x)%100}분\")\n",
    "\n",
    "\n",
    "# 출발 대여소 ID가 강남구 대여소 ID에 해당하는지 확인하는 조건 추가\n",
    "강남출발_mask = 따릉이_data['시작_대여소_ID'].isin(강남_대여소_ID)\n",
    "\n",
    "# 도착 대여소 ID가 강남구 대여소 ID에 해당하는지 확인하는 조건 추가\n",
    "강남도착_mask = 따릉이_data['종료_대여소_ID'].isin(강남_대여소_ID)\n",
    "\n",
    "# 출발 혹은 도착 대여소 ID가 강남구 대여소 ID에 해당하는 데이터만 남기기\n",
    "강남_따릉이_data = 따릉이_data[강남출발_mask | 강남도착_mask]\n",
    "\n",
    "print(강남_따릉이_data)"
   ]
  },
  {
   "cell_type": "code",
   "execution_count": 5,
   "metadata": {},
   "outputs": [
    {
     "data": {
      "text/plain": [
       "array([1, 2, 6, 3, 4])"
      ]
     },
     "execution_count": 5,
     "metadata": {},
     "output_type": "execute_result"
    }
   ],
   "source": [
    "gangnam_temp['전체_건수'].unique()"
   ]
  },
  {
   "cell_type": "code",
   "execution_count": 6,
   "metadata": {},
   "outputs": [
    {
     "data": {
      "text/plain": [
       "기준_날짜\n",
       "20240423    7156\n",
       "Name: 전체_건수, dtype: int64"
      ]
     },
     "execution_count": 6,
     "metadata": {},
     "output_type": "execute_result"
    }
   ],
   "source": [
    "gangnam_temp.groupby('기준_날짜')['전체_건수'].agg('sum')"
   ]
  },
  {
   "cell_type": "code",
   "execution_count": 7,
   "metadata": {},
   "outputs": [
    {
     "name": "stdout",
     "output_type": "stream",
     "text": [
      "기준_날짜\n",
      "20240423    7156\n",
      "Name: 전체_건수, dtype: int64\n",
      "<class 'pandas.core.series.Series'>\n"
     ]
    }
   ],
   "source": [
    "gangnam_20240423 = gangnam_temp.groupby('기준_날짜')['전체_건수'].agg('sum')\n",
    "print(gangnam_20240423)\n",
    "print(type(gangnam_20240423))"
   ]
  },
  {
   "cell_type": "markdown",
   "metadata": {},
   "source": [
    "2023년 1월 1일 강남구 이용량데이터 "
   ]
  },
  {
   "cell_type": "markdown",
   "metadata": {},
   "source": [
    "강남 출발 or 강남 도착"
   ]
  },
  {
   "cell_type": "code",
   "execution_count": 8,
   "metadata": {},
   "outputs": [
    {
     "name": "stdout",
     "output_type": "stream",
     "text": [
      "          기준_날짜   기준_시간대 시작_대여소_ID 종료_대여소_ID  전체_건수  전체_이용_분  전체_이용_거리\n",
      "64     20230101   1시 15분    ST-808    ST-808      1        0         0\n",
      "134    20230101   2시 55분   ST-3078   ST-3078      2        0         0\n",
      "281    20230101   9시 10분   ST-3077   ST-3077      1        0         0\n",
      "289    20230101   9시 20분   ST-2678   ST-2678      1        1         0\n",
      "333    20230101  10시 35분   ST-1181   ST-1181      1        0       142\n",
      "...         ...      ...       ...       ...    ...      ...       ...\n",
      "72790  20230101  16시 40분   ST-1923   ST-2673      3       21      2527\n",
      "72796  20230101   17시 0분    ST-899   ST-2868      3       54      5742\n",
      "72806  20230101  17시 50분    ST-818   ST-1879      3       99      3855\n",
      "72854  20230101   1시 25분   ST-1880   ST-1654      4       42      5065\n",
      "72860  20230101   3시 10분   ST-1556    ST-818      4       87      6918\n",
      "\n",
      "[2310 rows x 7 columns]\n"
     ]
    }
   ],
   "source": [
    "import numpy as np\n",
    "import pandas as pd\n",
    "\n",
    "data_230101 = pd.read_csv('../../Data/따릉이/tpss_bcycl_od_statnhm_20230101.csv', encoding='cp949')\n",
    "\n",
    "\n",
    "따릉이_data_230101 = data_230101\n",
    "따릉이_data_230101['기준_시간대'] = 따릉이_data_230101['기준_시간대'].astype(str).apply(lambda x: f\"{int(x)//100}시 {int(x)%100}분\")\n",
    "\n",
    "\n",
    "# 출발 대여소 ID가 강남구 대여소 ID에 해당하는지 확인하는 조건 추가\n",
    "강남출발_mask = 따릉이_data_230101['시작_대여소_ID'].isin(강남_대여소_ID)\n",
    "\n",
    "# 도착 대여소 ID가 강남구 대여소 ID에 해당하는지 확인하는 조건 추가\n",
    "강남도착_mask = 따릉이_data_230101['종료_대여소_ID'].isin(강남_대여소_ID)\n",
    "\n",
    "# 출발 혹은 도착 대여소 ID가 강남구 대여소 ID에 해당하는 데이터만 남기기\n",
    "강남_따릉이_data_230101 = 따릉이_data_230101[강남출발_mask | 강남도착_mask]\n",
    "\n",
    "print(강남_따릉이_data_230101)"
   ]
  },
  {
   "cell_type": "markdown",
   "metadata": {},
   "source": [
    "강남 출발 & 강남 도착"
   ]
  },
  {
   "cell_type": "code",
   "execution_count": 35,
   "metadata": {},
   "outputs": [
    {
     "name": "stdout",
     "output_type": "stream",
     "text": [
      "          기준_날짜  기준_시간대 시작_대여소_ID 종료_대여소_ID  전체_건수  전체_이용_분  전체_이용_거리\n",
      "64     20230101     115    ST-808    ST-808      1        0         0\n",
      "134    20230101     255   ST-3078   ST-3078      2        0         0\n",
      "281    20230101     910   ST-3077   ST-3077      1        0         0\n",
      "289    20230101     920   ST-2678   ST-2678      1        1         0\n",
      "333    20230101    1035   ST-1181   ST-1181      1        0       142\n",
      "...         ...     ...       ...       ...    ...      ...       ...\n",
      "72409  20230101    2125   ST-1181   ST-1181      2       78      8913\n",
      "72493  20230101    2315   ST-2673    ST-777      2      285     18776\n",
      "72763  20230101    1440   ST-1578   ST-1703      3      159      6444\n",
      "72771  20230101    1510   ST-2927   ST-3049      3       19      1507\n",
      "72806  20230101    1750    ST-818   ST-1879      3       99      3855\n",
      "\n",
      "[1367 rows x 7 columns]\n"
     ]
    }
   ],
   "source": [
    "import numpy as np\n",
    "import pandas as pd\n",
    "\n",
    "data_230101 = pd.read_csv('../../Data/따릉이/tpss_bcycl_od_statnhm_20230101.csv',encoding='cp949')\n",
    "\n",
    "따릉이_data_230101 = data_230101\n",
    "\n",
    "# 출발 대여소 ID가 강남구 대여소 ID에 해당하는지 확인하는 조건 추가\n",
    "강남출발_mask = 따릉이_data_230101['시작_대여소_ID'].isin(강남_대여소_ID)\n",
    "강남출발_true_only = 따릉이_data_230101[강남출발_mask]\n",
    "# print(강남출발_true_only)\n",
    "\n",
    "# 도착 대여소 ID가 강남구 대여소 ID에 해당하는지 확인하는 조건 추가\n",
    "강남도착_mask = 따릉이_data_230101['종료_대여소_ID'].isin(강남_대여소_ID)\n",
    "강남도착_true_only = 따릉이_data_230101[강남도착_mask]\n",
    "# print(강남도착_true_only)\n",
    "\n",
    "# 출발 혹은 도착 대여소 ID가 강남구 대여소 ID에 해당하는 데이터만 남기기\n",
    "강남_따릉이_data_230101 = 따릉이_data_230101[강남출발_mask & 강남도착_mask] \n",
    "\n",
    "print(강남_따릉이_data_230101)"
   ]
  },
  {
   "cell_type": "code",
   "execution_count": 10,
   "metadata": {},
   "outputs": [
    {
     "name": "stdout",
     "output_type": "stream",
     "text": [
      "기준_날짜\n",
      "20230101    2470\n",
      "Name: 전체_건수, dtype: int64\n",
      "<class 'pandas.core.series.Series'>\n"
     ]
    }
   ],
   "source": [
    "gangnam_20230101 = 강남_따릉이_data_230101.groupby('기준_날짜')['전체_건수'].agg('sum')\n",
    "print(gangnam_20230101)\n",
    "print(type(gangnam_20230101))"
   ]
  },
  {
   "cell_type": "code",
   "execution_count": 16,
   "metadata": {},
   "outputs": [
    {
     "name": "stdout",
     "output_type": "stream",
     "text": [
      "<class 'pandas.core.series.Series'>\n",
      "Int64Index: 2310 entries, 64 to 72860\n",
      "Series name: 기준_시간대\n",
      "Non-Null Count  Dtype \n",
      "--------------  ----- \n",
      "2310 non-null   object\n",
      "dtypes: object(1)\n",
      "memory usage: 36.1+ KB\n"
     ]
    }
   ],
   "source": [
    "강남_따릉이_data_230101['기준_시간대'].info()"
   ]
  },
  {
   "cell_type": "code",
   "execution_count": 17,
   "metadata": {},
   "outputs": [
    {
     "name": "stdout",
     "output_type": "stream",
     "text": [
      "<class 'pandas.core.series.Series'>\n",
      "Int64Index: 2310 entries, 64 to 72860\n",
      "Series name: 기준_날짜\n",
      "Non-Null Count  Dtype\n",
      "--------------  -----\n",
      "2310 non-null   int64\n",
      "dtypes: int64(1)\n",
      "memory usage: 36.1 KB\n"
     ]
    }
   ],
   "source": [
    "강남_따릉이_data_230101['기준_날짜'].info()"
   ]
  },
  {
   "cell_type": "markdown",
   "metadata": {},
   "source": [
    "### 2023년 따릉이 일별 이용 총계"
   ]
  },
  {
   "cell_type": "code",
   "execution_count": 21,
   "metadata": {},
   "outputs": [],
   "source": [
    "import numpy as np\n",
    "import pandas as pd\n",
    "\n",
    "data_2023_01_01 = pd.read_csv('../../../../data_semi/강남 따릉이_data/강남_따릉이_data_2023_01_part_1.csv')\n",
    "data_2023_01_02 = pd.read_csv('../../../../data_semi/강남 따릉이_data/강남_따릉이_data_2023_01_part_2.csv')\n",
    "data_2023_01_03 = pd.read_csv('../../../../data_semi/강남 따릉이_data/강남_따릉이_data_2023_01_part_3.csv')\n",
    "data_2023_01_04 = pd.read_csv('../../../../data_semi/강남 따릉이_data/강남_따릉이_data_2023_01_part_4.csv')\n",
    "data_2023_01_05 = pd.read_csv('../../../../data_semi/강남 따릉이_data/강남_따릉이_data_2023_01_part_5.csv')"
   ]
  },
  {
   "cell_type": "code",
   "execution_count": 19,
   "metadata": {},
   "outputs": [
    {
     "data": {
      "text/html": [
       "<div>\n",
       "<style scoped>\n",
       "    .dataframe tbody tr th:only-of-type {\n",
       "        vertical-align: middle;\n",
       "    }\n",
       "\n",
       "    .dataframe tbody tr th {\n",
       "        vertical-align: top;\n",
       "    }\n",
       "\n",
       "    .dataframe thead th {\n",
       "        text-align: right;\n",
       "    }\n",
       "</style>\n",
       "<table border=\"1\" class=\"dataframe\">\n",
       "  <thead>\n",
       "    <tr style=\"text-align: right;\">\n",
       "      <th></th>\n",
       "      <th>기준_날짜</th>\n",
       "      <th>기준_시간대</th>\n",
       "      <th>시작_대여소_ID</th>\n",
       "      <th>종료_대여소_ID</th>\n",
       "      <th>전체_건수</th>\n",
       "    </tr>\n",
       "  </thead>\n",
       "  <tbody>\n",
       "    <tr>\n",
       "      <th>2998008</th>\n",
       "      <td>20230130.0</td>\n",
       "      <td>1735</td>\n",
       "      <td>ST-1321</td>\n",
       "      <td>ST-3073</td>\n",
       "      <td>2</td>\n",
       "    </tr>\n",
       "    <tr>\n",
       "      <th>2998009</th>\n",
       "      <td>20230130.0</td>\n",
       "      <td>1735</td>\n",
       "      <td>ST-151</td>\n",
       "      <td>ST-2693</td>\n",
       "      <td>2</td>\n",
       "    </tr>\n",
       "    <tr>\n",
       "      <th>2998010</th>\n",
       "      <td>20230130.0</td>\n",
       "      <td>1735</td>\n",
       "      <td>ST-1582</td>\n",
       "      <td>ST-1868</td>\n",
       "      <td>2</td>\n",
       "    </tr>\n",
       "    <tr>\n",
       "      <th>2998011</th>\n",
       "      <td>20230130.0</td>\n",
       "      <td>1735</td>\n",
       "      <td>ST-2333</td>\n",
       "      <td>ST-243</td>\n",
       "      <td>2</td>\n",
       "    </tr>\n",
       "    <tr>\n",
       "      <th>2998012</th>\n",
       "      <td>20230130.0</td>\n",
       "      <td>1735</td>\n",
       "      <td>ST-37</td>\n",
       "      <td>ST-2531</td>\n",
       "      <td>2</td>\n",
       "    </tr>\n",
       "  </tbody>\n",
       "</table>\n",
       "</div>"
      ],
      "text/plain": [
       "              기준_날짜  기준_시간대 시작_대여소_ID 종료_대여소_ID  전체_건수\n",
       "2998008  20230130.0    1735   ST-1321   ST-3073      2\n",
       "2998009  20230130.0    1735    ST-151   ST-2693      2\n",
       "2998010  20230130.0    1735   ST-1582   ST-1868      2\n",
       "2998011  20230130.0    1735   ST-2333    ST-243      2\n",
       "2998012  20230130.0    1735     ST-37   ST-2531      2"
      ]
     },
     "execution_count": 19,
     "metadata": {},
     "output_type": "execute_result"
    }
   ],
   "source": [
    "data_2023_01_01.tail()"
   ]
  },
  {
   "cell_type": "code",
   "execution_count": 20,
   "metadata": {},
   "outputs": [
    {
     "name": "stdout",
     "output_type": "stream",
     "text": [
      "<class 'pandas.core.frame.DataFrame'>\n",
      "RangeIndex: 2998013 entries, 0 to 2998012\n",
      "Data columns (total 5 columns):\n",
      " #   Column     Dtype  \n",
      "---  ------     -----  \n",
      " 0   기준_날짜      float64\n",
      " 1   기준_시간대     int64  \n",
      " 2   시작_대여소_ID  object \n",
      " 3   종료_대여소_ID  object \n",
      " 4   전체_건수      int64  \n",
      "dtypes: float64(1), int64(2), object(2)\n",
      "memory usage: 114.4+ MB\n"
     ]
    }
   ],
   "source": [
    "data_2023_01_01.info()"
   ]
  },
  {
   "cell_type": "code",
   "execution_count": 25,
   "metadata": {},
   "outputs": [
    {
     "name": "stdout",
     "output_type": "stream",
     "text": [
      "<class 'pandas.core.frame.DataFrame'>\n",
      "RangeIndex: 2998013 entries, 0 to 2998012\n",
      "Data columns (total 5 columns):\n",
      " #   Column     Dtype  \n",
      "---  ------     -----  \n",
      " 0   기준_날짜      float64\n",
      " 1   기준_시간대     int64  \n",
      " 2   시작_대여소_ID  object \n",
      " 3   종료_대여소_ID  object \n",
      " 4   전체_건수      int64  \n",
      "dtypes: float64(1), int64(2), object(2)\n",
      "memory usage: 114.4+ MB\n"
     ]
    }
   ],
   "source": [
    "data_2023_01_02.info()"
   ]
  },
  {
   "cell_type": "code",
   "execution_count": 24,
   "metadata": {},
   "outputs": [
    {
     "data": {
      "text/html": [
       "<div>\n",
       "<style scoped>\n",
       "    .dataframe tbody tr th:only-of-type {\n",
       "        vertical-align: middle;\n",
       "    }\n",
       "\n",
       "    .dataframe tbody tr th {\n",
       "        vertical-align: top;\n",
       "    }\n",
       "\n",
       "    .dataframe thead th {\n",
       "        text-align: right;\n",
       "    }\n",
       "</style>\n",
       "<table border=\"1\" class=\"dataframe\">\n",
       "  <thead>\n",
       "    <tr style=\"text-align: right;\">\n",
       "      <th></th>\n",
       "      <th>기준_날짜</th>\n",
       "      <th>기준_시간대</th>\n",
       "      <th>시작_대여소_ID</th>\n",
       "      <th>종료_대여소_ID</th>\n",
       "      <th>전체_건수</th>\n",
       "    </tr>\n",
       "  </thead>\n",
       "  <tbody>\n",
       "    <tr>\n",
       "      <th>0</th>\n",
       "      <td>20230130.0</td>\n",
       "      <td>1735</td>\n",
       "      <td>ST-819</td>\n",
       "      <td>ST-1882</td>\n",
       "      <td>2</td>\n",
       "    </tr>\n",
       "    <tr>\n",
       "      <th>1</th>\n",
       "      <td>20230130.0</td>\n",
       "      <td>1740</td>\n",
       "      <td>ST-10</td>\n",
       "      <td>ST-18</td>\n",
       "      <td>2</td>\n",
       "    </tr>\n",
       "    <tr>\n",
       "      <th>2</th>\n",
       "      <td>20230130.0</td>\n",
       "      <td>1740</td>\n",
       "      <td>ST-1574</td>\n",
       "      <td>ST-695</td>\n",
       "      <td>2</td>\n",
       "    </tr>\n",
       "    <tr>\n",
       "      <th>3</th>\n",
       "      <td>20230130.0</td>\n",
       "      <td>1740</td>\n",
       "      <td>ST-1575</td>\n",
       "      <td>ST-2986</td>\n",
       "      <td>2</td>\n",
       "    </tr>\n",
       "    <tr>\n",
       "      <th>4</th>\n",
       "      <td>20230130.0</td>\n",
       "      <td>1740</td>\n",
       "      <td>ST-1999</td>\n",
       "      <td>ST-1999</td>\n",
       "      <td>2</td>\n",
       "    </tr>\n",
       "  </tbody>\n",
       "</table>\n",
       "</div>"
      ],
      "text/plain": [
       "        기준_날짜  기준_시간대 시작_대여소_ID 종료_대여소_ID  전체_건수\n",
       "0  20230130.0    1735    ST-819   ST-1882      2\n",
       "1  20230130.0    1740     ST-10     ST-18      2\n",
       "2  20230130.0    1740   ST-1574    ST-695      2\n",
       "3  20230130.0    1740   ST-1575   ST-2986      2\n",
       "4  20230130.0    1740   ST-1999   ST-1999      2"
      ]
     },
     "execution_count": 24,
     "metadata": {},
     "output_type": "execute_result"
    }
   ],
   "source": [
    "data_2023_01_02.head()"
   ]
  },
  {
   "cell_type": "code",
   "execution_count": 22,
   "metadata": {},
   "outputs": [
    {
     "data": {
      "text/html": [
       "<div>\n",
       "<style scoped>\n",
       "    .dataframe tbody tr th:only-of-type {\n",
       "        vertical-align: middle;\n",
       "    }\n",
       "\n",
       "    .dataframe tbody tr th {\n",
       "        vertical-align: top;\n",
       "    }\n",
       "\n",
       "    .dataframe thead th {\n",
       "        text-align: right;\n",
       "    }\n",
       "</style>\n",
       "<table border=\"1\" class=\"dataframe\">\n",
       "  <thead>\n",
       "    <tr style=\"text-align: right;\">\n",
       "      <th></th>\n",
       "      <th>기준_날짜</th>\n",
       "      <th>기준_시간대</th>\n",
       "      <th>시작_대여소_ID</th>\n",
       "      <th>종료_대여소_ID</th>\n",
       "      <th>전체_건수</th>\n",
       "    </tr>\n",
       "  </thead>\n",
       "  <tbody>\n",
       "    <tr>\n",
       "      <th>2998008</th>\n",
       "      <td>20230219.0</td>\n",
       "      <td>1755</td>\n",
       "      <td>ST-1270</td>\n",
       "      <td>ST-286</td>\n",
       "      <td>1</td>\n",
       "    </tr>\n",
       "    <tr>\n",
       "      <th>2998009</th>\n",
       "      <td>20230219.0</td>\n",
       "      <td>1755</td>\n",
       "      <td>ST-1270</td>\n",
       "      <td>ST-3105</td>\n",
       "      <td>1</td>\n",
       "    </tr>\n",
       "    <tr>\n",
       "      <th>2998010</th>\n",
       "      <td>20230219.0</td>\n",
       "      <td>1755</td>\n",
       "      <td>ST-1279</td>\n",
       "      <td>ST-1121</td>\n",
       "      <td>1</td>\n",
       "    </tr>\n",
       "    <tr>\n",
       "      <th>2998011</th>\n",
       "      <td>20230219.0</td>\n",
       "      <td>1755</td>\n",
       "      <td>ST-1279</td>\n",
       "      <td>ST-2799</td>\n",
       "      <td>1</td>\n",
       "    </tr>\n",
       "    <tr>\n",
       "      <th>2998012</th>\n",
       "      <td>20230219.0</td>\n",
       "      <td>1755</td>\n",
       "      <td>ST-1284</td>\n",
       "      <td>ST-1349</td>\n",
       "      <td>1</td>\n",
       "    </tr>\n",
       "  </tbody>\n",
       "</table>\n",
       "</div>"
      ],
      "text/plain": [
       "              기준_날짜  기준_시간대 시작_대여소_ID 종료_대여소_ID  전체_건수\n",
       "2998008  20230219.0    1755   ST-1270    ST-286      1\n",
       "2998009  20230219.0    1755   ST-1270   ST-3105      1\n",
       "2998010  20230219.0    1755   ST-1279   ST-1121      1\n",
       "2998011  20230219.0    1755   ST-1279   ST-2799      1\n",
       "2998012  20230219.0    1755   ST-1284   ST-1349      1"
      ]
     },
     "execution_count": 22,
     "metadata": {},
     "output_type": "execute_result"
    }
   ],
   "source": [
    "data_2023_01_02.tail()"
   ]
  },
  {
   "cell_type": "code",
   "execution_count": 26,
   "metadata": {},
   "outputs": [
    {
     "data": {
      "text/plain": [
       "0          False\n",
       "1          False\n",
       "2          False\n",
       "3          False\n",
       "4          False\n",
       "           ...  \n",
       "2998008    False\n",
       "2998009    False\n",
       "2998010    False\n",
       "2998011    False\n",
       "2998012    False\n",
       "Name: 기준_날짜, Length: 2998013, dtype: bool"
      ]
     },
     "execution_count": 26,
     "metadata": {},
     "output_type": "execute_result"
    }
   ],
   "source": [
    "data_2023_01_01['기준_날짜'] == 2023010."
   ]
  },
  {
   "cell_type": "code",
   "execution_count": 27,
   "metadata": {},
   "outputs": [
    {
     "data": {
      "text/html": [
       "<div>\n",
       "<style scoped>\n",
       "    .dataframe tbody tr th:only-of-type {\n",
       "        vertical-align: middle;\n",
       "    }\n",
       "\n",
       "    .dataframe tbody tr th {\n",
       "        vertical-align: top;\n",
       "    }\n",
       "\n",
       "    .dataframe thead th {\n",
       "        text-align: right;\n",
       "    }\n",
       "</style>\n",
       "<table border=\"1\" class=\"dataframe\">\n",
       "  <thead>\n",
       "    <tr style=\"text-align: right;\">\n",
       "      <th></th>\n",
       "      <th>기준_날짜</th>\n",
       "      <th>기준_시간대</th>\n",
       "      <th>시작_대여소_ID</th>\n",
       "      <th>종료_대여소_ID</th>\n",
       "      <th>전체_건수</th>\n",
       "    </tr>\n",
       "  </thead>\n",
       "  <tbody>\n",
       "    <tr>\n",
       "      <th>0</th>\n",
       "      <td>20230101.0</td>\n",
       "      <td>0</td>\n",
       "      <td>ST-1590</td>\n",
       "      <td>ST-1590</td>\n",
       "      <td>1</td>\n",
       "    </tr>\n",
       "    <tr>\n",
       "      <th>1</th>\n",
       "      <td>20230101.0</td>\n",
       "      <td>0</td>\n",
       "      <td>ST-2127</td>\n",
       "      <td>ST-2127</td>\n",
       "      <td>1</td>\n",
       "    </tr>\n",
       "    <tr>\n",
       "      <th>2</th>\n",
       "      <td>20230101.0</td>\n",
       "      <td>5</td>\n",
       "      <td>ST-1286</td>\n",
       "      <td>ST-1286</td>\n",
       "      <td>1</td>\n",
       "    </tr>\n",
       "    <tr>\n",
       "      <th>3</th>\n",
       "      <td>20230101.0</td>\n",
       "      <td>5</td>\n",
       "      <td>ST-1780</td>\n",
       "      <td>ST-1780</td>\n",
       "      <td>1</td>\n",
       "    </tr>\n",
       "    <tr>\n",
       "      <th>4</th>\n",
       "      <td>20230101.0</td>\n",
       "      <td>5</td>\n",
       "      <td>ST-2018</td>\n",
       "      <td>ST-2018</td>\n",
       "      <td>2</td>\n",
       "    </tr>\n",
       "    <tr>\n",
       "      <th>...</th>\n",
       "      <td>...</td>\n",
       "      <td>...</td>\n",
       "      <td>...</td>\n",
       "      <td>...</td>\n",
       "      <td>...</td>\n",
       "    </tr>\n",
       "    <tr>\n",
       "      <th>72917</th>\n",
       "      <td>20230101.0</td>\n",
       "      <td>210</td>\n",
       "      <td>ST-2826</td>\n",
       "      <td>ST-702</td>\n",
       "      <td>6</td>\n",
       "    </tr>\n",
       "    <tr>\n",
       "      <th>72918</th>\n",
       "      <td>20230101.0</td>\n",
       "      <td>450</td>\n",
       "      <td>ST-891</td>\n",
       "      <td>ST-3131</td>\n",
       "      <td>6</td>\n",
       "    </tr>\n",
       "    <tr>\n",
       "      <th>72919</th>\n",
       "      <td>20230101.0</td>\n",
       "      <td>255</td>\n",
       "      <td>ST-1420</td>\n",
       "      <td>ST-1842</td>\n",
       "      <td>7</td>\n",
       "    </tr>\n",
       "    <tr>\n",
       "      <th>72920</th>\n",
       "      <td>20230101.0</td>\n",
       "      <td>440</td>\n",
       "      <td>ST-1203</td>\n",
       "      <td>ST-2234</td>\n",
       "      <td>8</td>\n",
       "    </tr>\n",
       "    <tr>\n",
       "      <th>72921</th>\n",
       "      <td>20230101.0</td>\n",
       "      <td>1440</td>\n",
       "      <td>ST-297</td>\n",
       "      <td>ST-297</td>\n",
       "      <td>9</td>\n",
       "    </tr>\n",
       "  </tbody>\n",
       "</table>\n",
       "<p>72922 rows × 5 columns</p>\n",
       "</div>"
      ],
      "text/plain": [
       "            기준_날짜  기준_시간대 시작_대여소_ID 종료_대여소_ID  전체_건수\n",
       "0      20230101.0       0   ST-1590   ST-1590      1\n",
       "1      20230101.0       0   ST-2127   ST-2127      1\n",
       "2      20230101.0       5   ST-1286   ST-1286      1\n",
       "3      20230101.0       5   ST-1780   ST-1780      1\n",
       "4      20230101.0       5   ST-2018   ST-2018      2\n",
       "...           ...     ...       ...       ...    ...\n",
       "72917  20230101.0     210   ST-2826    ST-702      6\n",
       "72918  20230101.0     450    ST-891   ST-3131      6\n",
       "72919  20230101.0     255   ST-1420   ST-1842      7\n",
       "72920  20230101.0     440   ST-1203   ST-2234      8\n",
       "72921  20230101.0    1440    ST-297    ST-297      9\n",
       "\n",
       "[72922 rows x 5 columns]"
      ]
     },
     "execution_count": 27,
     "metadata": {},
     "output_type": "execute_result"
    }
   ],
   "source": [
    "data_2023_01_01[data_2023_01_01['기준_날짜'] == 20230101.]"
   ]
  },
  {
   "cell_type": "markdown",
   "metadata": {},
   "source": [
    ">> 강남구 데이터만 뽑아서 전처리되어 있지 않음"
   ]
  },
  {
   "cell_type": "markdown",
   "metadata": {},
   "source": [
    "### 2023년 전체 강남구 이용량"
   ]
  },
  {
   "cell_type": "markdown",
   "metadata": {},
   "source": [
    "강남 출발 or 강남 도착"
   ]
  },
  {
   "cell_type": "code",
   "execution_count": 38,
   "metadata": {},
   "outputs": [
    {
     "name": "stdout",
     "output_type": "stream",
     "text": [
      "               기준_날짜   기준_시간대 시작_대여소_ID 종료_대여소_ID  전체_건수\n",
      "64        20230101.0   1시 15분    ST-808    ST-808      1\n",
      "134       20230101.0   2시 55분   ST-3078   ST-3078      2\n",
      "281       20230101.0   9시 10분   ST-3077   ST-3077      1\n",
      "289       20230101.0   9시 20분   ST-2678   ST-2678      1\n",
      "333       20230101.0  10시 35분   ST-1181   ST-1181      1\n",
      "...              ...      ...       ...       ...    ...\n",
      "86434150  20231231.0  23시 55분    ST-815   ST-1864      2\n",
      "86434178  20231231.0  23시 55분   ST-1186   ST-2984      1\n",
      "86434196  20231231.0  23시 55분   ST-3077   ST-2756      1\n",
      "86434204  20231231.0  23시 55분   ST-1185   ST-1364      1\n",
      "86434223  20231231.0  23시 55분    ST-821    ST-769      1\n",
      "\n",
      "[3472936 rows x 5 columns]\n"
     ]
    }
   ],
   "source": [
    "import numpy as np\n",
    "import pandas as pd\n",
    "\n",
    "data_23 = pd.read_csv('../../../../data_semi/gangnam_2023_combined_data.csv', encoding='utf-8')\n",
    "\n",
    "\n",
    "따릉이_data_23 = data_23\n",
    "따릉이_data_23['기준_시간대'] = 따릉이_data_23['기준_시간대'].astype(str).apply(lambda x: f\"{int(x)//100}시 {int(x)%100}분\")\n",
    "\n",
    "\n",
    "# 출발 대여소 ID가 강남구 대여소 ID에 해당하는지 확인하는 조건 추가\n",
    "강남출발_mask = 따릉이_data_23['시작_대여소_ID'].isin(강남_대여소_ID)\n",
    "\n",
    "# 도착 대여소 ID가 강남구 대여소 ID에 해당하는지 확인하는 조건 추가\n",
    "강남도착_mask = 따릉이_data_23['종료_대여소_ID'].isin(강남_대여소_ID)\n",
    "\n",
    "# 출발 혹은 도착 대여소 ID가 강남구 대여소 ID에 해당하는 데이터만 남기기\n",
    "강남_따릉이_data_23 = 따릉이_data_23[강남출발_mask | 강남도착_mask]\n",
    "\n",
    "print(강남_따릉이_data_23)"
   ]
  },
  {
   "cell_type": "markdown",
   "metadata": {},
   "source": [
    "강남 출발 & 강남 도착"
   ]
  },
  {
   "cell_type": "code",
   "execution_count": 39,
   "metadata": {},
   "outputs": [
    {
     "name": "stdout",
     "output_type": "stream",
     "text": [
      "               기준_날짜   기준_시간대 시작_대여소_ID 종료_대여소_ID  전체_건수\n",
      "64        20230101.0   1시 15분    ST-808    ST-808      1\n",
      "134       20230101.0   2시 55분   ST-3078   ST-3078      2\n",
      "281       20230101.0   9시 10분   ST-3077   ST-3077      1\n",
      "289       20230101.0   9시 20분   ST-2678   ST-2678      1\n",
      "333       20230101.0  10시 35분   ST-1181   ST-1181      1\n",
      "...              ...      ...       ...       ...    ...\n",
      "86433931  20231231.0  23시 45분    ST-803    ST-797      1\n",
      "86433963  20231231.0  23시 45분   ST-1186   ST-2474      1\n",
      "86434033  20231231.0  23시 50분   ST-2870    ST-958      1\n",
      "86434053  20231231.0  23시 50분   ST-1185   ST-1364      1\n",
      "86434204  20231231.0  23시 55분   ST-1185   ST-1364      1\n",
      "\n",
      "[1937449 rows x 5 columns]\n"
     ]
    }
   ],
   "source": [
    "import numpy as np\n",
    "import pandas as pd\n",
    "\n",
    "data_23 = pd.read_csv('../../../../data_semi/gangnam_2023_combined_data.csv', encoding='utf-8')\n",
    "\n",
    "\n",
    "따릉이_data_23 = data_23\n",
    "따릉이_data_23['기준_시간대'] = 따릉이_data_23['기준_시간대'].astype(str).apply(lambda x: f\"{int(x)//100}시 {int(x)%100}분\")\n",
    "\n",
    "\n",
    "# 출발 대여소 ID가 강남구 대여소 ID에 해당하는지 확인하는 조건 추가\n",
    "강남출발_mask = 따릉이_data_23['시작_대여소_ID'].isin(강남_대여소_ID)\n",
    "\n",
    "# 도착 대여소 ID가 강남구 대여소 ID에 해당하는지 확인하는 조건 추가\n",
    "강남도착_mask = 따릉이_data_23['종료_대여소_ID'].isin(강남_대여소_ID)\n",
    "\n",
    "# 출발 혹은 도착 대여소 ID가 강남구 대여소 ID에 해당하는 데이터만 남기기\n",
    "강남_따릉이_data_23 = 따릉이_data_23[강남출발_mask & 강남도착_mask]\n",
    "\n",
    "print(강남_따릉이_data_23)"
   ]
  },
  {
   "cell_type": "code",
   "execution_count": null,
   "metadata": {},
   "outputs": [],
   "source": []
  }
 ],
 "metadata": {
  "kernelspec": {
   "display_name": "base",
   "language": "python",
   "name": "python3"
  },
  "language_info": {
   "codemirror_mode": {
    "name": "ipython",
    "version": 3
   },
   "file_extension": ".py",
   "mimetype": "text/x-python",
   "name": "python",
   "nbconvert_exporter": "python",
   "pygments_lexer": "ipython3",
   "version": "3.9.13"
  }
 },
 "nbformat": 4,
 "nbformat_minor": 2
}
