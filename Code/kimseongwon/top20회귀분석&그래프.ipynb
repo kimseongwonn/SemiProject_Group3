{
 "cells": [
  {
   "cell_type": "code",
   "execution_count": 2,
   "metadata": {},
   "outputs": [],
   "source": [
    "import pandas as pd\n",
    "import numpy as np\n",
    "import matplotlib.pyplot as plt\n",
    "import matplotlib as mpl\n",
    "import matplotlib.font_manager as fm\n",
    "import seaborn as sns\n",
    "import statsmodels.api as sm\n",
    "from scipy.stats import chisquare \n",
    "from scipy import stats \n",
    "import scipy as sp \n",
    "\n",
    "from statsmodels.formula.api import ols, logit, glm \n",
    "\n",
    "font_path = 'C:\\\\Windows\\\\Fonts\\\\gulim.ttc'\n",
    "font = fm.FontProperties(fname=font_path).get_name()\n",
    "mpl.rc('font', family=font)"
   ]
  },
  {
   "cell_type": "code",
   "execution_count": 3,
   "metadata": {},
   "outputs": [],
   "source": [
    "상위20대여소 = pd.read_csv('../../Data/따릉이/쏠림정도_top20_대여소.csv',encoding='utf-8')"
   ]
  },
  {
   "cell_type": "code",
   "execution_count": 4,
   "metadata": {},
   "outputs": [
    {
     "data": {
      "text/html": [
       "<div>\n",
       "<style scoped>\n",
       "    .dataframe tbody tr th:only-of-type {\n",
       "        vertical-align: middle;\n",
       "    }\n",
       "\n",
       "    .dataframe tbody tr th {\n",
       "        vertical-align: top;\n",
       "    }\n",
       "\n",
       "    .dataframe thead th {\n",
       "        text-align: right;\n",
       "    }\n",
       "</style>\n",
       "<table border=\"1\" class=\"dataframe\">\n",
       "  <thead>\n",
       "    <tr style=\"text-align: right;\">\n",
       "      <th></th>\n",
       "      <th>Unnamed: 0</th>\n",
       "      <th>최종용도</th>\n",
       "      <th>대여소_ID</th>\n",
       "      <th>temp_num</th>\n",
       "      <th>출근대여량</th>\n",
       "      <th>출근반납량</th>\n",
       "      <th>대여-반납량_출근</th>\n",
       "      <th>차이절대값_출근</th>\n",
       "      <th>총이용량_출근</th>\n",
       "      <th>퇴근대여량</th>\n",
       "      <th>퇴근반납량</th>\n",
       "      <th>대여-반납량_퇴근</th>\n",
       "      <th>차이절대값_퇴근</th>\n",
       "      <th>총이용량_퇴근</th>\n",
       "      <th>출퇴근_총이용량</th>\n",
       "      <th>차이절대값합</th>\n",
       "    </tr>\n",
       "  </thead>\n",
       "  <tbody>\n",
       "    <tr>\n",
       "      <th>0</th>\n",
       "      <td>0</td>\n",
       "      <td>상업</td>\n",
       "      <td>ST-1064</td>\n",
       "      <td>180</td>\n",
       "      <td>3764</td>\n",
       "      <td>8489</td>\n",
       "      <td>-4725</td>\n",
       "      <td>4725</td>\n",
       "      <td>12253</td>\n",
       "      <td>9005</td>\n",
       "      <td>5562</td>\n",
       "      <td>3443</td>\n",
       "      <td>3443</td>\n",
       "      <td>14567</td>\n",
       "      <td>26820</td>\n",
       "      <td>8168</td>\n",
       "    </tr>\n",
       "    <tr>\n",
       "      <th>1</th>\n",
       "      <td>1</td>\n",
       "      <td>상업</td>\n",
       "      <td>ST-1688</td>\n",
       "      <td>188</td>\n",
       "      <td>881</td>\n",
       "      <td>7017</td>\n",
       "      <td>-6136</td>\n",
       "      <td>6136</td>\n",
       "      <td>7898</td>\n",
       "      <td>7922</td>\n",
       "      <td>3320</td>\n",
       "      <td>4602</td>\n",
       "      <td>4602</td>\n",
       "      <td>11242</td>\n",
       "      <td>19140</td>\n",
       "      <td>10738</td>\n",
       "    </tr>\n",
       "    <tr>\n",
       "      <th>2</th>\n",
       "      <td>2</td>\n",
       "      <td>상업</td>\n",
       "      <td>ST-1712</td>\n",
       "      <td>193</td>\n",
       "      <td>698</td>\n",
       "      <td>11208</td>\n",
       "      <td>-10510</td>\n",
       "      <td>10510</td>\n",
       "      <td>11906</td>\n",
       "      <td>7548</td>\n",
       "      <td>754</td>\n",
       "      <td>6794</td>\n",
       "      <td>6794</td>\n",
       "      <td>8302</td>\n",
       "      <td>20208</td>\n",
       "      <td>17304</td>\n",
       "    </tr>\n",
       "    <tr>\n",
       "      <th>3</th>\n",
       "      <td>3</td>\n",
       "      <td>상업</td>\n",
       "      <td>ST-2031</td>\n",
       "      <td>182</td>\n",
       "      <td>18661</td>\n",
       "      <td>22323</td>\n",
       "      <td>-3662</td>\n",
       "      <td>3662</td>\n",
       "      <td>40984</td>\n",
       "      <td>27533</td>\n",
       "      <td>22552</td>\n",
       "      <td>4981</td>\n",
       "      <td>4981</td>\n",
       "      <td>50085</td>\n",
       "      <td>91069</td>\n",
       "      <td>8643</td>\n",
       "    </tr>\n",
       "    <tr>\n",
       "      <th>4</th>\n",
       "      <td>4</td>\n",
       "      <td>상업</td>\n",
       "      <td>ST-2033</td>\n",
       "      <td>195</td>\n",
       "      <td>927</td>\n",
       "      <td>17721</td>\n",
       "      <td>-16794</td>\n",
       "      <td>16794</td>\n",
       "      <td>18648</td>\n",
       "      <td>14171</td>\n",
       "      <td>3574</td>\n",
       "      <td>10597</td>\n",
       "      <td>10597</td>\n",
       "      <td>17745</td>\n",
       "      <td>36393</td>\n",
       "      <td>27391</td>\n",
       "    </tr>\n",
       "    <tr>\n",
       "      <th>5</th>\n",
       "      <td>5</td>\n",
       "      <td>상업</td>\n",
       "      <td>ST-2035</td>\n",
       "      <td>194</td>\n",
       "      <td>1306</td>\n",
       "      <td>13073</td>\n",
       "      <td>-11767</td>\n",
       "      <td>11767</td>\n",
       "      <td>14379</td>\n",
       "      <td>10752</td>\n",
       "      <td>3553</td>\n",
       "      <td>7199</td>\n",
       "      <td>7199</td>\n",
       "      <td>14305</td>\n",
       "      <td>28684</td>\n",
       "      <td>18966</td>\n",
       "    </tr>\n",
       "    <tr>\n",
       "      <th>6</th>\n",
       "      <td>6</td>\n",
       "      <td>상업</td>\n",
       "      <td>ST-2044</td>\n",
       "      <td>190</td>\n",
       "      <td>1911</td>\n",
       "      <td>11044</td>\n",
       "      <td>-9133</td>\n",
       "      <td>9133</td>\n",
       "      <td>12955</td>\n",
       "      <td>6995</td>\n",
       "      <td>1434</td>\n",
       "      <td>5561</td>\n",
       "      <td>5561</td>\n",
       "      <td>8429</td>\n",
       "      <td>21384</td>\n",
       "      <td>14694</td>\n",
       "    </tr>\n",
       "    <tr>\n",
       "      <th>7</th>\n",
       "      <td>7</td>\n",
       "      <td>상업</td>\n",
       "      <td>ST-2569</td>\n",
       "      <td>176</td>\n",
       "      <td>889</td>\n",
       "      <td>4972</td>\n",
       "      <td>-4083</td>\n",
       "      <td>4083</td>\n",
       "      <td>5861</td>\n",
       "      <td>4068</td>\n",
       "      <td>1503</td>\n",
       "      <td>2565</td>\n",
       "      <td>2565</td>\n",
       "      <td>5571</td>\n",
       "      <td>11432</td>\n",
       "      <td>6648</td>\n",
       "    </tr>\n",
       "    <tr>\n",
       "      <th>8</th>\n",
       "      <td>8</td>\n",
       "      <td>상업</td>\n",
       "      <td>ST-2871</td>\n",
       "      <td>186</td>\n",
       "      <td>5501</td>\n",
       "      <td>10328</td>\n",
       "      <td>-4827</td>\n",
       "      <td>4827</td>\n",
       "      <td>15829</td>\n",
       "      <td>10568</td>\n",
       "      <td>6131</td>\n",
       "      <td>4437</td>\n",
       "      <td>4437</td>\n",
       "      <td>16699</td>\n",
       "      <td>32528</td>\n",
       "      <td>9264</td>\n",
       "    </tr>\n",
       "    <tr>\n",
       "      <th>9</th>\n",
       "      <td>9</td>\n",
       "      <td>상업</td>\n",
       "      <td>ST-2945</td>\n",
       "      <td>177</td>\n",
       "      <td>1201</td>\n",
       "      <td>6098</td>\n",
       "      <td>-4897</td>\n",
       "      <td>4897</td>\n",
       "      <td>7299</td>\n",
       "      <td>5019</td>\n",
       "      <td>2183</td>\n",
       "      <td>2836</td>\n",
       "      <td>2836</td>\n",
       "      <td>7202</td>\n",
       "      <td>14501</td>\n",
       "      <td>7733</td>\n",
       "    </tr>\n",
       "    <tr>\n",
       "      <th>10</th>\n",
       "      <td>10</td>\n",
       "      <td>상업</td>\n",
       "      <td>ST-3094</td>\n",
       "      <td>185</td>\n",
       "      <td>3151</td>\n",
       "      <td>9502</td>\n",
       "      <td>-6351</td>\n",
       "      <td>6351</td>\n",
       "      <td>12653</td>\n",
       "      <td>8887</td>\n",
       "      <td>6352</td>\n",
       "      <td>2535</td>\n",
       "      <td>2535</td>\n",
       "      <td>15239</td>\n",
       "      <td>27892</td>\n",
       "      <td>8886</td>\n",
       "    </tr>\n",
       "    <tr>\n",
       "      <th>11</th>\n",
       "      <td>11</td>\n",
       "      <td>상업</td>\n",
       "      <td>ST-3128</td>\n",
       "      <td>191</td>\n",
       "      <td>574</td>\n",
       "      <td>9570</td>\n",
       "      <td>-8996</td>\n",
       "      <td>8996</td>\n",
       "      <td>10144</td>\n",
       "      <td>6531</td>\n",
       "      <td>715</td>\n",
       "      <td>5816</td>\n",
       "      <td>5816</td>\n",
       "      <td>7246</td>\n",
       "      <td>17390</td>\n",
       "      <td>14812</td>\n",
       "    </tr>\n",
       "    <tr>\n",
       "      <th>12</th>\n",
       "      <td>12</td>\n",
       "      <td>상업</td>\n",
       "      <td>ST-3251</td>\n",
       "      <td>192</td>\n",
       "      <td>769</td>\n",
       "      <td>10360</td>\n",
       "      <td>-9591</td>\n",
       "      <td>9591</td>\n",
       "      <td>11129</td>\n",
       "      <td>6434</td>\n",
       "      <td>444</td>\n",
       "      <td>5990</td>\n",
       "      <td>5990</td>\n",
       "      <td>6878</td>\n",
       "      <td>18007</td>\n",
       "      <td>15581</td>\n",
       "    </tr>\n",
       "    <tr>\n",
       "      <th>13</th>\n",
       "      <td>13</td>\n",
       "      <td>주거</td>\n",
       "      <td>ST-1253</td>\n",
       "      <td>184</td>\n",
       "      <td>6247</td>\n",
       "      <td>652</td>\n",
       "      <td>5595</td>\n",
       "      <td>5595</td>\n",
       "      <td>6899</td>\n",
       "      <td>3257</td>\n",
       "      <td>6462</td>\n",
       "      <td>-3205</td>\n",
       "      <td>3205</td>\n",
       "      <td>9719</td>\n",
       "      <td>16618</td>\n",
       "      <td>8800</td>\n",
       "    </tr>\n",
       "    <tr>\n",
       "      <th>14</th>\n",
       "      <td>14</td>\n",
       "      <td>주거</td>\n",
       "      <td>ST-1352</td>\n",
       "      <td>181</td>\n",
       "      <td>6358</td>\n",
       "      <td>1513</td>\n",
       "      <td>4845</td>\n",
       "      <td>4845</td>\n",
       "      <td>7871</td>\n",
       "      <td>4304</td>\n",
       "      <td>7732</td>\n",
       "      <td>-3428</td>\n",
       "      <td>3428</td>\n",
       "      <td>12036</td>\n",
       "      <td>19907</td>\n",
       "      <td>8273</td>\n",
       "    </tr>\n",
       "    <tr>\n",
       "      <th>15</th>\n",
       "      <td>15</td>\n",
       "      <td>주거</td>\n",
       "      <td>ST-1645</td>\n",
       "      <td>187</td>\n",
       "      <td>7193</td>\n",
       "      <td>903</td>\n",
       "      <td>6290</td>\n",
       "      <td>6290</td>\n",
       "      <td>8096</td>\n",
       "      <td>3332</td>\n",
       "      <td>7134</td>\n",
       "      <td>-3802</td>\n",
       "      <td>3802</td>\n",
       "      <td>10466</td>\n",
       "      <td>18562</td>\n",
       "      <td>10092</td>\n",
       "    </tr>\n",
       "    <tr>\n",
       "      <th>16</th>\n",
       "      <td>16</td>\n",
       "      <td>주거</td>\n",
       "      <td>ST-2050</td>\n",
       "      <td>189</td>\n",
       "      <td>8593</td>\n",
       "      <td>806</td>\n",
       "      <td>7787</td>\n",
       "      <td>7787</td>\n",
       "      <td>9399</td>\n",
       "      <td>2765</td>\n",
       "      <td>7986</td>\n",
       "      <td>-5221</td>\n",
       "      <td>5221</td>\n",
       "      <td>10751</td>\n",
       "      <td>20150</td>\n",
       "      <td>13008</td>\n",
       "    </tr>\n",
       "    <tr>\n",
       "      <th>17</th>\n",
       "      <td>17</td>\n",
       "      <td>주거</td>\n",
       "      <td>ST-2056</td>\n",
       "      <td>179</td>\n",
       "      <td>6728</td>\n",
       "      <td>1794</td>\n",
       "      <td>4934</td>\n",
       "      <td>4934</td>\n",
       "      <td>8522</td>\n",
       "      <td>4114</td>\n",
       "      <td>7311</td>\n",
       "      <td>-3197</td>\n",
       "      <td>3197</td>\n",
       "      <td>11425</td>\n",
       "      <td>19947</td>\n",
       "      <td>8131</td>\n",
       "    </tr>\n",
       "    <tr>\n",
       "      <th>18</th>\n",
       "      <td>18</td>\n",
       "      <td>주거</td>\n",
       "      <td>ST-2557</td>\n",
       "      <td>178</td>\n",
       "      <td>8743</td>\n",
       "      <td>3994</td>\n",
       "      <td>4749</td>\n",
       "      <td>4749</td>\n",
       "      <td>12737</td>\n",
       "      <td>6461</td>\n",
       "      <td>9527</td>\n",
       "      <td>-3066</td>\n",
       "      <td>3066</td>\n",
       "      <td>15988</td>\n",
       "      <td>28725</td>\n",
       "      <td>7815</td>\n",
       "    </tr>\n",
       "    <tr>\n",
       "      <th>19</th>\n",
       "      <td>19</td>\n",
       "      <td>주거</td>\n",
       "      <td>ST-2965</td>\n",
       "      <td>183</td>\n",
       "      <td>6400</td>\n",
       "      <td>1023</td>\n",
       "      <td>5377</td>\n",
       "      <td>5377</td>\n",
       "      <td>7423</td>\n",
       "      <td>2366</td>\n",
       "      <td>5696</td>\n",
       "      <td>-3330</td>\n",
       "      <td>3330</td>\n",
       "      <td>8062</td>\n",
       "      <td>15485</td>\n",
       "      <td>8707</td>\n",
       "    </tr>\n",
       "  </tbody>\n",
       "</table>\n",
       "</div>"
      ],
      "text/plain": [
       "    Unnamed: 0 최종용도   대여소_ID  temp_num  출근대여량  출근반납량  대여-반납량_출근  차이절대값_출근  \\\n",
       "0            0   상업  ST-1064       180   3764   8489      -4725      4725   \n",
       "1            1   상업  ST-1688       188    881   7017      -6136      6136   \n",
       "2            2   상업  ST-1712       193    698  11208     -10510     10510   \n",
       "3            3   상업  ST-2031       182  18661  22323      -3662      3662   \n",
       "4            4   상업  ST-2033       195    927  17721     -16794     16794   \n",
       "5            5   상업  ST-2035       194   1306  13073     -11767     11767   \n",
       "6            6   상업  ST-2044       190   1911  11044      -9133      9133   \n",
       "7            7   상업  ST-2569       176    889   4972      -4083      4083   \n",
       "8            8   상업  ST-2871       186   5501  10328      -4827      4827   \n",
       "9            9   상업  ST-2945       177   1201   6098      -4897      4897   \n",
       "10          10   상업  ST-3094       185   3151   9502      -6351      6351   \n",
       "11          11   상업  ST-3128       191    574   9570      -8996      8996   \n",
       "12          12   상업  ST-3251       192    769  10360      -9591      9591   \n",
       "13          13   주거  ST-1253       184   6247    652       5595      5595   \n",
       "14          14   주거  ST-1352       181   6358   1513       4845      4845   \n",
       "15          15   주거  ST-1645       187   7193    903       6290      6290   \n",
       "16          16   주거  ST-2050       189   8593    806       7787      7787   \n",
       "17          17   주거  ST-2056       179   6728   1794       4934      4934   \n",
       "18          18   주거  ST-2557       178   8743   3994       4749      4749   \n",
       "19          19   주거  ST-2965       183   6400   1023       5377      5377   \n",
       "\n",
       "    총이용량_출근  퇴근대여량  퇴근반납량  대여-반납량_퇴근  차이절대값_퇴근  총이용량_퇴근  출퇴근_총이용량  차이절대값합  \n",
       "0     12253   9005   5562       3443      3443    14567     26820    8168  \n",
       "1      7898   7922   3320       4602      4602    11242     19140   10738  \n",
       "2     11906   7548    754       6794      6794     8302     20208   17304  \n",
       "3     40984  27533  22552       4981      4981    50085     91069    8643  \n",
       "4     18648  14171   3574      10597     10597    17745     36393   27391  \n",
       "5     14379  10752   3553       7199      7199    14305     28684   18966  \n",
       "6     12955   6995   1434       5561      5561     8429     21384   14694  \n",
       "7      5861   4068   1503       2565      2565     5571     11432    6648  \n",
       "8     15829  10568   6131       4437      4437    16699     32528    9264  \n",
       "9      7299   5019   2183       2836      2836     7202     14501    7733  \n",
       "10    12653   8887   6352       2535      2535    15239     27892    8886  \n",
       "11    10144   6531    715       5816      5816     7246     17390   14812  \n",
       "12    11129   6434    444       5990      5990     6878     18007   15581  \n",
       "13     6899   3257   6462      -3205      3205     9719     16618    8800  \n",
       "14     7871   4304   7732      -3428      3428    12036     19907    8273  \n",
       "15     8096   3332   7134      -3802      3802    10466     18562   10092  \n",
       "16     9399   2765   7986      -5221      5221    10751     20150   13008  \n",
       "17     8522   4114   7311      -3197      3197    11425     19947    8131  \n",
       "18    12737   6461   9527      -3066      3066    15988     28725    7815  \n",
       "19     7423   2366   5696      -3330      3330     8062     15485    8707  "
      ]
     },
     "execution_count": 4,
     "metadata": {},
     "output_type": "execute_result"
    }
   ],
   "source": [
    "상위20대여소"
   ]
  },
  {
   "cell_type": "code",
   "execution_count": 5,
   "metadata": {},
   "outputs": [],
   "source": [
    "강서_따릉이_데이터 = pd.read_csv('../../Data/따릉이/강서_따릉이_데이터_01.csv',encoding='utf-8')"
   ]
  },
  {
   "cell_type": "code",
   "execution_count": 6,
   "metadata": {},
   "outputs": [],
   "source": [
    "출근 = 강서_따릉이_데이터[(강서_따릉이_데이터['기준_시간대'] >= 600) & (강서_따릉이_데이터['기준_시간대'] <= 1000)]\n",
    "퇴근 = 강서_따릉이_데이터[(강서_따릉이_데이터['기준_시간대'] >= 1700) & (강서_따릉이_데이터['기준_시간대'] <= 2100)]"
   ]
  },
  {
   "cell_type": "code",
   "execution_count": 7,
   "metadata": {},
   "outputs": [
    {
     "data": {
      "text/html": [
       "<div>\n",
       "<style scoped>\n",
       "    .dataframe tbody tr th:only-of-type {\n",
       "        vertical-align: middle;\n",
       "    }\n",
       "\n",
       "    .dataframe tbody tr th {\n",
       "        vertical-align: top;\n",
       "    }\n",
       "\n",
       "    .dataframe thead th {\n",
       "        text-align: right;\n",
       "    }\n",
       "</style>\n",
       "<table border=\"1\" class=\"dataframe\">\n",
       "  <thead>\n",
       "    <tr style=\"text-align: right;\">\n",
       "      <th></th>\n",
       "      <th>기준_날짜</th>\n",
       "      <th>기준_시간대</th>\n",
       "      <th>시작_대여소_ID</th>\n",
       "      <th>종료_대여소_ID</th>\n",
       "      <th>전체_건수</th>\n",
       "      <th>전체_이용_분</th>\n",
       "      <th>전체_이용_거리</th>\n",
       "      <th>요일</th>\n",
       "      <th>주말</th>\n",
       "      <th>휴일</th>\n",
       "    </tr>\n",
       "  </thead>\n",
       "  <tbody>\n",
       "    <tr>\n",
       "      <th>609</th>\n",
       "      <td>2023-05-08</td>\n",
       "      <td>600</td>\n",
       "      <td>ST-1253</td>\n",
       "      <td>ST-1676</td>\n",
       "      <td>1</td>\n",
       "      <td>10</td>\n",
       "      <td>1248</td>\n",
       "      <td>0</td>\n",
       "      <td>0</td>\n",
       "      <td>0</td>\n",
       "    </tr>\n",
       "    <tr>\n",
       "      <th>610</th>\n",
       "      <td>2023-05-08</td>\n",
       "      <td>600</td>\n",
       "      <td>ST-1253</td>\n",
       "      <td>ST-1718</td>\n",
       "      <td>1</td>\n",
       "      <td>3</td>\n",
       "      <td>762</td>\n",
       "      <td>0</td>\n",
       "      <td>0</td>\n",
       "      <td>0</td>\n",
       "    </tr>\n",
       "    <tr>\n",
       "      <th>611</th>\n",
       "      <td>2023-05-08</td>\n",
       "      <td>600</td>\n",
       "      <td>ST-1253</td>\n",
       "      <td>ST-2031</td>\n",
       "      <td>1</td>\n",
       "      <td>3</td>\n",
       "      <td>830</td>\n",
       "      <td>0</td>\n",
       "      <td>0</td>\n",
       "      <td>0</td>\n",
       "    </tr>\n",
       "    <tr>\n",
       "      <th>612</th>\n",
       "      <td>2023-05-08</td>\n",
       "      <td>600</td>\n",
       "      <td>ST-1254</td>\n",
       "      <td>ST-2858</td>\n",
       "      <td>1</td>\n",
       "      <td>4</td>\n",
       "      <td>1104</td>\n",
       "      <td>0</td>\n",
       "      <td>0</td>\n",
       "      <td>0</td>\n",
       "    </tr>\n",
       "    <tr>\n",
       "      <th>613</th>\n",
       "      <td>2023-05-08</td>\n",
       "      <td>600</td>\n",
       "      <td>ST-1351</td>\n",
       "      <td>ST-2550</td>\n",
       "      <td>1</td>\n",
       "      <td>8</td>\n",
       "      <td>2010</td>\n",
       "      <td>0</td>\n",
       "      <td>0</td>\n",
       "      <td>0</td>\n",
       "    </tr>\n",
       "    <tr>\n",
       "      <th>...</th>\n",
       "      <td>...</td>\n",
       "      <td>...</td>\n",
       "      <td>...</td>\n",
       "      <td>...</td>\n",
       "      <td>...</td>\n",
       "      <td>...</td>\n",
       "      <td>...</td>\n",
       "      <td>...</td>\n",
       "      <td>...</td>\n",
       "      <td>...</td>\n",
       "    </tr>\n",
       "    <tr>\n",
       "      <th>1733236</th>\n",
       "      <td>2023-12-06</td>\n",
       "      <td>1000</td>\n",
       "      <td>ST-2557</td>\n",
       "      <td>ST-1249</td>\n",
       "      <td>1</td>\n",
       "      <td>5</td>\n",
       "      <td>870</td>\n",
       "      <td>2</td>\n",
       "      <td>0</td>\n",
       "      <td>0</td>\n",
       "    </tr>\n",
       "    <tr>\n",
       "      <th>1733237</th>\n",
       "      <td>2023-12-06</td>\n",
       "      <td>1000</td>\n",
       "      <td>ST-2056</td>\n",
       "      <td>ST-2049</td>\n",
       "      <td>1</td>\n",
       "      <td>1</td>\n",
       "      <td>270</td>\n",
       "      <td>2</td>\n",
       "      <td>0</td>\n",
       "      <td>0</td>\n",
       "    </tr>\n",
       "    <tr>\n",
       "      <th>1733238</th>\n",
       "      <td>2023-12-06</td>\n",
       "      <td>1000</td>\n",
       "      <td>ST-2045</td>\n",
       "      <td>ST-2042</td>\n",
       "      <td>1</td>\n",
       "      <td>4</td>\n",
       "      <td>746</td>\n",
       "      <td>2</td>\n",
       "      <td>0</td>\n",
       "      <td>0</td>\n",
       "    </tr>\n",
       "    <tr>\n",
       "      <th>1733239</th>\n",
       "      <td>2023-12-06</td>\n",
       "      <td>1000</td>\n",
       "      <td>ST-1251</td>\n",
       "      <td>ST-2044</td>\n",
       "      <td>1</td>\n",
       "      <td>8</td>\n",
       "      <td>1118</td>\n",
       "      <td>2</td>\n",
       "      <td>0</td>\n",
       "      <td>0</td>\n",
       "    </tr>\n",
       "    <tr>\n",
       "      <th>1733240</th>\n",
       "      <td>2023-12-06</td>\n",
       "      <td>1000</td>\n",
       "      <td>ST-2027</td>\n",
       "      <td>ST-2993</td>\n",
       "      <td>1</td>\n",
       "      <td>17</td>\n",
       "      <td>2814</td>\n",
       "      <td>2</td>\n",
       "      <td>0</td>\n",
       "      <td>0</td>\n",
       "    </tr>\n",
       "  </tbody>\n",
       "</table>\n",
       "<p>451128 rows × 10 columns</p>\n",
       "</div>"
      ],
      "text/plain": [
       "              기준_날짜  기준_시간대 시작_대여소_ID 종료_대여소_ID  전체_건수  전체_이용_분  전체_이용_거리  요일  \\\n",
       "609      2023-05-08     600   ST-1253   ST-1676      1       10      1248   0   \n",
       "610      2023-05-08     600   ST-1253   ST-1718      1        3       762   0   \n",
       "611      2023-05-08     600   ST-1253   ST-2031      1        3       830   0   \n",
       "612      2023-05-08     600   ST-1254   ST-2858      1        4      1104   0   \n",
       "613      2023-05-08     600   ST-1351   ST-2550      1        8      2010   0   \n",
       "...             ...     ...       ...       ...    ...      ...       ...  ..   \n",
       "1733236  2023-12-06    1000   ST-2557   ST-1249      1        5       870   2   \n",
       "1733237  2023-12-06    1000   ST-2056   ST-2049      1        1       270   2   \n",
       "1733238  2023-12-06    1000   ST-2045   ST-2042      1        4       746   2   \n",
       "1733239  2023-12-06    1000   ST-1251   ST-2044      1        8      1118   2   \n",
       "1733240  2023-12-06    1000   ST-2027   ST-2993      1       17      2814   2   \n",
       "\n",
       "         주말  휴일  \n",
       "609       0   0  \n",
       "610       0   0  \n",
       "611       0   0  \n",
       "612       0   0  \n",
       "613       0   0  \n",
       "...      ..  ..  \n",
       "1733236   0   0  \n",
       "1733237   0   0  \n",
       "1733238   0   0  \n",
       "1733239   0   0  \n",
       "1733240   0   0  \n",
       "\n",
       "[451128 rows x 10 columns]"
      ]
     },
     "execution_count": 7,
     "metadata": {},
     "output_type": "execute_result"
    }
   ],
   "source": [
    "출근"
   ]
  },
  {
   "cell_type": "code",
   "execution_count": 8,
   "metadata": {},
   "outputs": [
    {
     "data": {
      "text/html": [
       "<div>\n",
       "<style scoped>\n",
       "    .dataframe tbody tr th:only-of-type {\n",
       "        vertical-align: middle;\n",
       "    }\n",
       "\n",
       "    .dataframe tbody tr th {\n",
       "        vertical-align: top;\n",
       "    }\n",
       "\n",
       "    .dataframe thead th {\n",
       "        text-align: right;\n",
       "    }\n",
       "</style>\n",
       "<table border=\"1\" class=\"dataframe\">\n",
       "  <thead>\n",
       "    <tr style=\"text-align: right;\">\n",
       "      <th></th>\n",
       "      <th>기준_날짜</th>\n",
       "      <th>시작_대여소_ID</th>\n",
       "      <th>전체_건수</th>\n",
       "    </tr>\n",
       "  </thead>\n",
       "  <tbody>\n",
       "    <tr>\n",
       "      <th>0</th>\n",
       "      <td>2023-04-03</td>\n",
       "      <td>ST-1062</td>\n",
       "      <td>32</td>\n",
       "    </tr>\n",
       "    <tr>\n",
       "      <th>1</th>\n",
       "      <td>2023-04-03</td>\n",
       "      <td>ST-1063</td>\n",
       "      <td>61</td>\n",
       "    </tr>\n",
       "    <tr>\n",
       "      <th>2</th>\n",
       "      <td>2023-04-03</td>\n",
       "      <td>ST-1064</td>\n",
       "      <td>34</td>\n",
       "    </tr>\n",
       "    <tr>\n",
       "      <th>3</th>\n",
       "      <td>2023-04-03</td>\n",
       "      <td>ST-1065</td>\n",
       "      <td>57</td>\n",
       "    </tr>\n",
       "    <tr>\n",
       "      <th>4</th>\n",
       "      <td>2023-04-03</td>\n",
       "      <td>ST-1067</td>\n",
       "      <td>32</td>\n",
       "    </tr>\n",
       "    <tr>\n",
       "      <th>...</th>\n",
       "      <td>...</td>\n",
       "      <td>...</td>\n",
       "      <td>...</td>\n",
       "    </tr>\n",
       "    <tr>\n",
       "      <th>21485</th>\n",
       "      <td>2024-03-27</td>\n",
       "      <td>ST-829</td>\n",
       "      <td>10</td>\n",
       "    </tr>\n",
       "    <tr>\n",
       "      <th>21486</th>\n",
       "      <td>2024-03-27</td>\n",
       "      <td>ST-831</td>\n",
       "      <td>18</td>\n",
       "    </tr>\n",
       "    <tr>\n",
       "      <th>21487</th>\n",
       "      <td>2024-03-27</td>\n",
       "      <td>ST-834</td>\n",
       "      <td>22</td>\n",
       "    </tr>\n",
       "    <tr>\n",
       "      <th>21488</th>\n",
       "      <td>2024-03-27</td>\n",
       "      <td>ST-835</td>\n",
       "      <td>30</td>\n",
       "    </tr>\n",
       "    <tr>\n",
       "      <th>21489</th>\n",
       "      <td>2024-03-27</td>\n",
       "      <td>ST-975</td>\n",
       "      <td>36</td>\n",
       "    </tr>\n",
       "  </tbody>\n",
       "</table>\n",
       "<p>21490 rows × 3 columns</p>\n",
       "</div>"
      ],
      "text/plain": [
       "           기준_날짜 시작_대여소_ID  전체_건수\n",
       "0     2023-04-03   ST-1062     32\n",
       "1     2023-04-03   ST-1063     61\n",
       "2     2023-04-03   ST-1064     34\n",
       "3     2023-04-03   ST-1065     57\n",
       "4     2023-04-03   ST-1067     32\n",
       "...          ...       ...    ...\n",
       "21485 2024-03-27    ST-829     10\n",
       "21486 2024-03-27    ST-831     18\n",
       "21487 2024-03-27    ST-834     22\n",
       "21488 2024-03-27    ST-835     30\n",
       "21489 2024-03-27    ST-975     36\n",
       "\n",
       "[21490 rows x 3 columns]"
      ]
     },
     "execution_count": 8,
     "metadata": {},
     "output_type": "execute_result"
    }
   ],
   "source": [
    "temp_df = 출근.groupby(['기준_날짜','시작_대여소_ID'])['전체_건수'].sum()\n",
    "temp_df = pd.DataFrame(temp_df)\n",
    "temp_df = temp_df.reset_index()\n",
    "temp_df['기준_날짜'] = pd.to_datetime(temp_df['기준_날짜'])\n",
    "temp_df"
   ]
  },
  {
   "cell_type": "code",
   "execution_count": 9,
   "metadata": {},
   "outputs": [],
   "source": [
    "testdf = temp_df.copy()"
   ]
  },
  {
   "cell_type": "code",
   "execution_count": 10,
   "metadata": {},
   "outputs": [
    {
     "data": {
      "text/html": [
       "<div>\n",
       "<style scoped>\n",
       "    .dataframe tbody tr th:only-of-type {\n",
       "        vertical-align: middle;\n",
       "    }\n",
       "\n",
       "    .dataframe tbody tr th {\n",
       "        vertical-align: top;\n",
       "    }\n",
       "\n",
       "    .dataframe thead th {\n",
       "        text-align: right;\n",
       "    }\n",
       "</style>\n",
       "<table border=\"1\" class=\"dataframe\">\n",
       "  <thead>\n",
       "    <tr style=\"text-align: right;\">\n",
       "      <th></th>\n",
       "      <th>기준_날짜</th>\n",
       "      <th>시작_대여소_ID</th>\n",
       "      <th>전체_건수</th>\n",
       "    </tr>\n",
       "  </thead>\n",
       "  <tbody>\n",
       "    <tr>\n",
       "      <th>0</th>\n",
       "      <td>2023-04-03</td>\n",
       "      <td>ST-1062</td>\n",
       "      <td>32</td>\n",
       "    </tr>\n",
       "    <tr>\n",
       "      <th>1</th>\n",
       "      <td>2023-04-03</td>\n",
       "      <td>ST-1063</td>\n",
       "      <td>61</td>\n",
       "    </tr>\n",
       "    <tr>\n",
       "      <th>2</th>\n",
       "      <td>2023-04-03</td>\n",
       "      <td>ST-1064</td>\n",
       "      <td>34</td>\n",
       "    </tr>\n",
       "    <tr>\n",
       "      <th>3</th>\n",
       "      <td>2023-04-03</td>\n",
       "      <td>ST-1065</td>\n",
       "      <td>57</td>\n",
       "    </tr>\n",
       "    <tr>\n",
       "      <th>4</th>\n",
       "      <td>2023-04-03</td>\n",
       "      <td>ST-1067</td>\n",
       "      <td>32</td>\n",
       "    </tr>\n",
       "    <tr>\n",
       "      <th>...</th>\n",
       "      <td>...</td>\n",
       "      <td>...</td>\n",
       "      <td>...</td>\n",
       "    </tr>\n",
       "    <tr>\n",
       "      <th>21485</th>\n",
       "      <td>2024-03-27</td>\n",
       "      <td>ST-829</td>\n",
       "      <td>10</td>\n",
       "    </tr>\n",
       "    <tr>\n",
       "      <th>21486</th>\n",
       "      <td>2024-03-27</td>\n",
       "      <td>ST-831</td>\n",
       "      <td>18</td>\n",
       "    </tr>\n",
       "    <tr>\n",
       "      <th>21487</th>\n",
       "      <td>2024-03-27</td>\n",
       "      <td>ST-834</td>\n",
       "      <td>22</td>\n",
       "    </tr>\n",
       "    <tr>\n",
       "      <th>21488</th>\n",
       "      <td>2024-03-27</td>\n",
       "      <td>ST-835</td>\n",
       "      <td>30</td>\n",
       "    </tr>\n",
       "    <tr>\n",
       "      <th>21489</th>\n",
       "      <td>2024-03-27</td>\n",
       "      <td>ST-975</td>\n",
       "      <td>36</td>\n",
       "    </tr>\n",
       "  </tbody>\n",
       "</table>\n",
       "<p>21490 rows × 3 columns</p>\n",
       "</div>"
      ],
      "text/plain": [
       "           기준_날짜 시작_대여소_ID  전체_건수\n",
       "0     2023-04-03   ST-1062     32\n",
       "1     2023-04-03   ST-1063     61\n",
       "2     2023-04-03   ST-1064     34\n",
       "3     2023-04-03   ST-1065     57\n",
       "4     2023-04-03   ST-1067     32\n",
       "...          ...       ...    ...\n",
       "21485 2024-03-27    ST-829     10\n",
       "21486 2024-03-27    ST-831     18\n",
       "21487 2024-03-27    ST-834     22\n",
       "21488 2024-03-27    ST-835     30\n",
       "21489 2024-03-27    ST-975     36\n",
       "\n",
       "[21490 rows x 3 columns]"
      ]
     },
     "execution_count": 10,
     "metadata": {},
     "output_type": "execute_result"
    }
   ],
   "source": [
    "testdf"
   ]
  },
  {
   "cell_type": "code",
   "execution_count": 11,
   "metadata": {},
   "outputs": [],
   "source": [
    "testdf = testdf[testdf['시작_대여소_ID'] == 'ST-1062']"
   ]
  },
  {
   "cell_type": "code",
   "execution_count": 12,
   "metadata": {},
   "outputs": [
    {
     "data": {
      "text/html": [
       "<div>\n",
       "<style scoped>\n",
       "    .dataframe tbody tr th:only-of-type {\n",
       "        vertical-align: middle;\n",
       "    }\n",
       "\n",
       "    .dataframe tbody tr th {\n",
       "        vertical-align: top;\n",
       "    }\n",
       "\n",
       "    .dataframe thead th {\n",
       "        text-align: right;\n",
       "    }\n",
       "</style>\n",
       "<table border=\"1\" class=\"dataframe\">\n",
       "  <thead>\n",
       "    <tr style=\"text-align: right;\">\n",
       "      <th></th>\n",
       "      <th>기준_날짜</th>\n",
       "      <th>시작_대여소_ID</th>\n",
       "      <th>전체_건수</th>\n",
       "    </tr>\n",
       "  </thead>\n",
       "  <tbody>\n",
       "    <tr>\n",
       "      <th>0</th>\n",
       "      <td>2023-04-03</td>\n",
       "      <td>ST-1062</td>\n",
       "      <td>32</td>\n",
       "    </tr>\n",
       "    <tr>\n",
       "      <th>252</th>\n",
       "      <td>2023-04-10</td>\n",
       "      <td>ST-1062</td>\n",
       "      <td>30</td>\n",
       "    </tr>\n",
       "    <tr>\n",
       "      <th>432</th>\n",
       "      <td>2023-04-11</td>\n",
       "      <td>ST-1062</td>\n",
       "      <td>31</td>\n",
       "    </tr>\n",
       "    <tr>\n",
       "      <th>612</th>\n",
       "      <td>2023-04-14</td>\n",
       "      <td>ST-1062</td>\n",
       "      <td>20</td>\n",
       "    </tr>\n",
       "    <tr>\n",
       "      <th>793</th>\n",
       "      <td>2023-04-17</td>\n",
       "      <td>ST-1062</td>\n",
       "      <td>19</td>\n",
       "    </tr>\n",
       "    <tr>\n",
       "      <th>...</th>\n",
       "      <td>...</td>\n",
       "      <td>...</td>\n",
       "      <td>...</td>\n",
       "    </tr>\n",
       "    <tr>\n",
       "      <th>20563</th>\n",
       "      <td>2024-03-18</td>\n",
       "      <td>ST-1062</td>\n",
       "      <td>28</td>\n",
       "    </tr>\n",
       "    <tr>\n",
       "      <th>20748</th>\n",
       "      <td>2024-03-19</td>\n",
       "      <td>ST-1062</td>\n",
       "      <td>25</td>\n",
       "    </tr>\n",
       "    <tr>\n",
       "      <th>20932</th>\n",
       "      <td>2024-03-21</td>\n",
       "      <td>ST-1062</td>\n",
       "      <td>34</td>\n",
       "    </tr>\n",
       "    <tr>\n",
       "      <th>21118</th>\n",
       "      <td>2024-03-25</td>\n",
       "      <td>ST-1062</td>\n",
       "      <td>37</td>\n",
       "    </tr>\n",
       "    <tr>\n",
       "      <th>21304</th>\n",
       "      <td>2024-03-27</td>\n",
       "      <td>ST-1062</td>\n",
       "      <td>29</td>\n",
       "    </tr>\n",
       "  </tbody>\n",
       "</table>\n",
       "<p>119 rows × 3 columns</p>\n",
       "</div>"
      ],
      "text/plain": [
       "           기준_날짜 시작_대여소_ID  전체_건수\n",
       "0     2023-04-03   ST-1062     32\n",
       "252   2023-04-10   ST-1062     30\n",
       "432   2023-04-11   ST-1062     31\n",
       "612   2023-04-14   ST-1062     20\n",
       "793   2023-04-17   ST-1062     19\n",
       "...          ...       ...    ...\n",
       "20563 2024-03-18   ST-1062     28\n",
       "20748 2024-03-19   ST-1062     25\n",
       "20932 2024-03-21   ST-1062     34\n",
       "21118 2024-03-25   ST-1062     37\n",
       "21304 2024-03-27   ST-1062     29\n",
       "\n",
       "[119 rows x 3 columns]"
      ]
     },
     "execution_count": 12,
     "metadata": {},
     "output_type": "execute_result"
    }
   ],
   "source": [
    "testdf"
   ]
  },
  {
   "cell_type": "code",
   "execution_count": 13,
   "metadata": {},
   "outputs": [
    {
     "name": "stderr",
     "output_type": "stream",
     "text": [
      "C:\\Users\\USER\\AppData\\Local\\Temp\\ipykernel_17632\\3902244988.py:1: SettingWithCopyWarning: \n",
      "A value is trying to be set on a copy of a slice from a DataFrame.\n",
      "Try using .loc[row_indexer,col_indexer] = value instead\n",
      "\n",
      "See the caveats in the documentation: https://pandas.pydata.org/pandas-docs/stable/user_guide/indexing.html#returning-a-view-versus-a-copy\n",
      "  testdf['Timestamp'] = testdf['기준_날짜'].astype('int64')\n"
     ]
    }
   ],
   "source": [
    "testdf['Timestamp'] = testdf['기준_날짜'].astype('int64')"
   ]
  },
  {
   "cell_type": "code",
   "execution_count": 14,
   "metadata": {},
   "outputs": [
    {
     "data": {
      "text/html": [
       "<div>\n",
       "<style scoped>\n",
       "    .dataframe tbody tr th:only-of-type {\n",
       "        vertical-align: middle;\n",
       "    }\n",
       "\n",
       "    .dataframe tbody tr th {\n",
       "        vertical-align: top;\n",
       "    }\n",
       "\n",
       "    .dataframe thead th {\n",
       "        text-align: right;\n",
       "    }\n",
       "</style>\n",
       "<table border=\"1\" class=\"dataframe\">\n",
       "  <thead>\n",
       "    <tr style=\"text-align: right;\">\n",
       "      <th></th>\n",
       "      <th>기준_날짜</th>\n",
       "      <th>시작_대여소_ID</th>\n",
       "      <th>전체_건수</th>\n",
       "      <th>Timestamp</th>\n",
       "    </tr>\n",
       "  </thead>\n",
       "  <tbody>\n",
       "    <tr>\n",
       "      <th>0</th>\n",
       "      <td>2023-04-03</td>\n",
       "      <td>ST-1062</td>\n",
       "      <td>32</td>\n",
       "      <td>1680480000000000000</td>\n",
       "    </tr>\n",
       "    <tr>\n",
       "      <th>252</th>\n",
       "      <td>2023-04-10</td>\n",
       "      <td>ST-1062</td>\n",
       "      <td>30</td>\n",
       "      <td>1681084800000000000</td>\n",
       "    </tr>\n",
       "    <tr>\n",
       "      <th>432</th>\n",
       "      <td>2023-04-11</td>\n",
       "      <td>ST-1062</td>\n",
       "      <td>31</td>\n",
       "      <td>1681171200000000000</td>\n",
       "    </tr>\n",
       "    <tr>\n",
       "      <th>612</th>\n",
       "      <td>2023-04-14</td>\n",
       "      <td>ST-1062</td>\n",
       "      <td>20</td>\n",
       "      <td>1681430400000000000</td>\n",
       "    </tr>\n",
       "    <tr>\n",
       "      <th>793</th>\n",
       "      <td>2023-04-17</td>\n",
       "      <td>ST-1062</td>\n",
       "      <td>19</td>\n",
       "      <td>1681689600000000000</td>\n",
       "    </tr>\n",
       "    <tr>\n",
       "      <th>...</th>\n",
       "      <td>...</td>\n",
       "      <td>...</td>\n",
       "      <td>...</td>\n",
       "      <td>...</td>\n",
       "    </tr>\n",
       "    <tr>\n",
       "      <th>20563</th>\n",
       "      <td>2024-03-18</td>\n",
       "      <td>ST-1062</td>\n",
       "      <td>28</td>\n",
       "      <td>1710720000000000000</td>\n",
       "    </tr>\n",
       "    <tr>\n",
       "      <th>20748</th>\n",
       "      <td>2024-03-19</td>\n",
       "      <td>ST-1062</td>\n",
       "      <td>25</td>\n",
       "      <td>1710806400000000000</td>\n",
       "    </tr>\n",
       "    <tr>\n",
       "      <th>20932</th>\n",
       "      <td>2024-03-21</td>\n",
       "      <td>ST-1062</td>\n",
       "      <td>34</td>\n",
       "      <td>1710979200000000000</td>\n",
       "    </tr>\n",
       "    <tr>\n",
       "      <th>21118</th>\n",
       "      <td>2024-03-25</td>\n",
       "      <td>ST-1062</td>\n",
       "      <td>37</td>\n",
       "      <td>1711324800000000000</td>\n",
       "    </tr>\n",
       "    <tr>\n",
       "      <th>21304</th>\n",
       "      <td>2024-03-27</td>\n",
       "      <td>ST-1062</td>\n",
       "      <td>29</td>\n",
       "      <td>1711497600000000000</td>\n",
       "    </tr>\n",
       "  </tbody>\n",
       "</table>\n",
       "<p>119 rows × 4 columns</p>\n",
       "</div>"
      ],
      "text/plain": [
       "           기준_날짜 시작_대여소_ID  전체_건수            Timestamp\n",
       "0     2023-04-03   ST-1062     32  1680480000000000000\n",
       "252   2023-04-10   ST-1062     30  1681084800000000000\n",
       "432   2023-04-11   ST-1062     31  1681171200000000000\n",
       "612   2023-04-14   ST-1062     20  1681430400000000000\n",
       "793   2023-04-17   ST-1062     19  1681689600000000000\n",
       "...          ...       ...    ...                  ...\n",
       "20563 2024-03-18   ST-1062     28  1710720000000000000\n",
       "20748 2024-03-19   ST-1062     25  1710806400000000000\n",
       "20932 2024-03-21   ST-1062     34  1710979200000000000\n",
       "21118 2024-03-25   ST-1062     37  1711324800000000000\n",
       "21304 2024-03-27   ST-1062     29  1711497600000000000\n",
       "\n",
       "[119 rows x 4 columns]"
      ]
     },
     "execution_count": 14,
     "metadata": {},
     "output_type": "execute_result"
    }
   ],
   "source": [
    "testdf"
   ]
  },
  {
   "cell_type": "code",
   "execution_count": 15,
   "metadata": {},
   "outputs": [
    {
     "data": {
      "text/plain": [
       "array([1680480000000000000, 1681084800000000000, 1681171200000000000,\n",
       "       1681430400000000000, 1681689600000000000, 1681862400000000000,\n",
       "       1682294400000000000, 1682380800000000000, 1682553600000000000,\n",
       "       1682640000000000000, 1683504000000000000, 1683590400000000000,\n",
       "       1683676800000000000, 1683849600000000000, 1684108800000000000,\n",
       "       1684195200000000000, 1684281600000000000, 1684454400000000000,\n",
       "       1684800000000000000, 1685059200000000000, 1685577600000000000,\n",
       "       1685664000000000000, 1686182400000000000, 1686268800000000000,\n",
       "       1686873600000000000, 1687392000000000000, 1687478400000000000,\n",
       "       1687996800000000000, 1688601600000000000, 1688688000000000000,\n",
       "       1688947200000000000, 1689033600000000000, 1689120000000000000,\n",
       "       1689638400000000000, 1689811200000000000, 1689897600000000000,\n",
       "       1690156800000000000, 1690243200000000000, 1690329600000000000,\n",
       "       1690761600000000000, 1690934400000000000, 1691020800000000000,\n",
       "       1691107200000000000, 1691625600000000000, 1692144000000000000,\n",
       "       1692316800000000000, 1692576000000000000, 1692662400000000000,\n",
       "       1692921600000000000, 1693180800000000000, 1693440000000000000,\n",
       "       1693958400000000000, 1694044800000000000, 1694390400000000000,\n",
       "       1694476800000000000, 1694563200000000000, 1694649600000000000,\n",
       "       1694736000000000000, 1695081600000000000, 1695254400000000000,\n",
       "       1695340800000000000, 1696377600000000000, 1696464000000000000,\n",
       "       1696550400000000000, 1696896000000000000, 1697500800000000000,\n",
       "       1698105600000000000, 1698192000000000000, 1698364800000000000,\n",
       "       1698710400000000000, 1698796800000000000, 1698883200000000000,\n",
       "       1699228800000000000, 1699315200000000000, 1699574400000000000,\n",
       "       1699920000000000000, 1700006400000000000, 1700092800000000000,\n",
       "       1700611200000000000, 1701043200000000000, 1701129600000000000,\n",
       "       1701388800000000000, 1701734400000000000, 1701820800000000000,\n",
       "       1701993600000000000, 1702339200000000000, 1702425600000000000,\n",
       "       1702857600000000000, 1702944000000000000, 1703030400000000000,\n",
       "       1703203200000000000, 1703721600000000000, 1704326400000000000,\n",
       "       1704844800000000000, 1705017600000000000, 1705276800000000000,\n",
       "       1705363200000000000, 1705449600000000000, 1705622400000000000,\n",
       "       1706572800000000000, 1706659200000000000, 1706832000000000000,\n",
       "       1707264000000000000, 1707350400000000000, 1708041600000000000,\n",
       "       1708560000000000000, 1708646400000000000, 1709164800000000000,\n",
       "       1709596800000000000, 1709769600000000000, 1709856000000000000,\n",
       "       1710201600000000000, 1710288000000000000, 1710460800000000000,\n",
       "       1710720000000000000, 1710806400000000000, 1710979200000000000,\n",
       "       1711324800000000000, 1711497600000000000], dtype=int64)"
      ]
     },
     "execution_count": 15,
     "metadata": {},
     "output_type": "execute_result"
    }
   ],
   "source": [
    "testdf['Timestamp'].values"
   ]
  },
  {
   "cell_type": "code",
   "execution_count": 16,
   "metadata": {},
   "outputs": [],
   "source": [
    "# import seaborn as sns\n",
    "# import pandas as pd\n",
    "# import numpy as np\n",
    "# from sklearn.linear_model import LinearRegression\n",
    "# from sklearn.preprocessing import PolynomialFeatures\n",
    "# import statsmodels.api as sm\n",
    "\n",
    "# X = testdf['Timestamp']\n",
    "# Y = temp_df['전체_건수']\n",
    "\n",
    "# sns.scatterplot(x=X, y=Y, data=testdf)\n",
    "# plt.title('출근시간 대여소별 대여량 산점도')\n",
    "\n",
    "# sns.lmplot(x=X, y=Y, data=testdf)\n",
    "# plt.title('출근시간 대여소별 대여량 산점도')\n",
    "\n",
    "# # 다항 회귀 모델 설정\n",
    "# poly = PolynomialFeatures(degree=2)  # 추세선의 차수를 3으로 설정\n",
    "# X_poly = poly.fit_transform(X)\n",
    "\n",
    "# # 회귀 분석 결과 요약 구하는 코드\n",
    "# model = sm.OLS(Y, X_poly)\n",
    "\n",
    "# result = model.fit()\n",
    "\n",
    "# print(result.summary())\n",
    "\n",
    "# plt.show()"
   ]
  },
  {
   "cell_type": "code",
   "execution_count": 18,
   "metadata": {},
   "outputs": [],
   "source": [
    "# # Sample DataFrame with Timestamp and '전체_건수' (Usage) data\n",
    "# X = testdf['Timestamp']\n",
    "# Y = testdf['전체_건수']\n",
    "\n",
    "# # Scatterplot\n",
    "# plt.figure(figsize=(10, 6))\n",
    "# sns.scatterplot(x=X, y=Y, data=testdf)\n",
    "# plt.title('Scatterplot of Usage by Timestamp')\n",
    "# plt.xlabel('Timestamp')\n",
    "# plt.ylabel('Usage')\n",
    "\n",
    "# # Polynomial regression model fitting\n",
    "# poly = PolynomialFeatures(degree=3)  # Degree 2 polynomial\n",
    "# X_poly = poly.fit_transform(X.values.reshape(-1, 1))\n",
    "\n",
    "# # Fit the regression model\n",
    "# model = sm.OLS(Y, X_poly)\n",
    "# result = model.fit()\n",
    "\n",
    "# # Visualize the regression line\n",
    "# x_values = np.linspace(X.min(), X.max(), 100)\n",
    "# x_values_poly = poly.fit_transform(x_values.reshape(-1, 1))\n",
    "# predicted_values = result.predict(x_values_poly)\n",
    "\n",
    "# plt.plot(x_values, predicted_values, color='red', label='Polynomial Regression')\n",
    "# plt.legend()\n",
    "# plt.show()\n",
    "\n",
    "# # Print the regression model summary\n",
    "# print(result.summary())"
   ]
  },
  {
   "cell_type": "code",
   "execution_count": 19,
   "metadata": {},
   "outputs": [
    {
     "name": "stdout",
     "output_type": "stream",
     "text": [
      "                            OLS Regression Results                            \n",
      "==============================================================================\n",
      "Dep. Variable:                  전체_건수   R-squared:                      -0.010\n",
      "Model:                            OLS   Adj. R-squared:                 -0.010\n",
      "Method:                 Least Squares   F-statistic:                       nan\n",
      "Date:                Thu, 09 May 2024   Prob (F-statistic):                nan\n",
      "Time:                        10:00:48   Log-Likelihood:                -481.48\n",
      "No. Observations:                 119   AIC:                             965.0\n",
      "Df Residuals:                     118   BIC:                             967.7\n",
      "Df Model:                           0                                         \n",
      "Covariance Type:            nonrobust                                         \n",
      "==============================================================================\n",
      "                 coef    std err          t      P>|t|      [0.025      0.975]\n",
      "------------------------------------------------------------------------------\n",
      "const       1.093e-35   4.43e-37     24.676      0.000       1e-35    1.18e-35\n",
      "Timestamp   1.853e-17   7.51e-19     24.676      0.000     1.7e-17       2e-17\n",
      "==============================================================================\n",
      "Omnibus:                        0.977   Durbin-Watson:                   1.222\n",
      "Prob(Omnibus):                  0.614   Jarque-Bera (JB):                0.977\n",
      "Skew:                          -0.069   Prob(JB):                        0.614\n",
      "Kurtosis:                       2.578   Cond. No.                     3.20e+20\n",
      "==============================================================================\n",
      "\n",
      "Notes:\n",
      "[1] Standard Errors assume that the covariance matrix of the errors is correctly specified.\n",
      "[2] The condition number is large, 3.2e+20. This might indicate that there are\n",
      "strong multicollinearity or other numerical problems.\n"
     ]
    },
    {
     "name": "stderr",
     "output_type": "stream",
     "text": [
      "C:\\Users\\USER\\AppData\\Local\\Temp\\ipykernel_17632\\544817888.py:4: SettingWithCopyWarning: \n",
      "A value is trying to be set on a copy of a slice from a DataFrame\n",
      "\n",
      "See the caveats in the documentation: https://pandas.pydata.org/pandas-docs/stable/user_guide/indexing.html#returning-a-view-versus-a-copy\n",
      "  testdf.dropna(inplace=True)  # 결측치가 있는 행 제거\n"
     ]
    }
   ],
   "source": [
    "import statsmodels.api as sm\n",
    "\n",
    "# 회귀 분석을 위한 데이터셋 준비\n",
    "testdf.dropna(inplace=True)  # 결측치가 있는 행 제거\n",
    "X = testdf['Timestamp']\n",
    "y = testdf['전체_건수']\n",
    "\n",
    "# 상수항 추가\n",
    "X = sm.add_constant(X)\n",
    "\n",
    "# 회귀 모델 적합\n",
    "model = sm.OLS(y, X).fit()\n",
    "\n",
    "# 회귀 결과 요약\n",
    "print(model.summary())"
   ]
  },
  {
   "cell_type": "code",
   "execution_count": 20,
   "metadata": {},
   "outputs": [
    {
     "data": {
      "text/html": [
       "<div>\n",
       "<style scoped>\n",
       "    .dataframe tbody tr th:only-of-type {\n",
       "        vertical-align: middle;\n",
       "    }\n",
       "\n",
       "    .dataframe tbody tr th {\n",
       "        vertical-align: top;\n",
       "    }\n",
       "\n",
       "    .dataframe thead th {\n",
       "        text-align: right;\n",
       "    }\n",
       "</style>\n",
       "<table border=\"1\" class=\"dataframe\">\n",
       "  <thead>\n",
       "    <tr style=\"text-align: right;\">\n",
       "      <th></th>\n",
       "      <th>Unnamed: 0</th>\n",
       "      <th>최종용도</th>\n",
       "      <th>대여소_ID</th>\n",
       "      <th>temp_num</th>\n",
       "      <th>출근대여량</th>\n",
       "      <th>출근반납량</th>\n",
       "      <th>대여-반납량_출근</th>\n",
       "      <th>차이절대값_출근</th>\n",
       "      <th>총이용량_출근</th>\n",
       "      <th>퇴근대여량</th>\n",
       "      <th>퇴근반납량</th>\n",
       "      <th>대여-반납량_퇴근</th>\n",
       "      <th>차이절대값_퇴근</th>\n",
       "      <th>총이용량_퇴근</th>\n",
       "      <th>출퇴근_총이용량</th>\n",
       "      <th>차이절대값합</th>\n",
       "    </tr>\n",
       "  </thead>\n",
       "  <tbody>\n",
       "    <tr>\n",
       "      <th>0</th>\n",
       "      <td>0</td>\n",
       "      <td>상업</td>\n",
       "      <td>ST-1064</td>\n",
       "      <td>180</td>\n",
       "      <td>3764</td>\n",
       "      <td>8489</td>\n",
       "      <td>-4725</td>\n",
       "      <td>4725</td>\n",
       "      <td>12253</td>\n",
       "      <td>9005</td>\n",
       "      <td>5562</td>\n",
       "      <td>3443</td>\n",
       "      <td>3443</td>\n",
       "      <td>14567</td>\n",
       "      <td>26820</td>\n",
       "      <td>8168</td>\n",
       "    </tr>\n",
       "    <tr>\n",
       "      <th>1</th>\n",
       "      <td>1</td>\n",
       "      <td>상업</td>\n",
       "      <td>ST-1688</td>\n",
       "      <td>188</td>\n",
       "      <td>881</td>\n",
       "      <td>7017</td>\n",
       "      <td>-6136</td>\n",
       "      <td>6136</td>\n",
       "      <td>7898</td>\n",
       "      <td>7922</td>\n",
       "      <td>3320</td>\n",
       "      <td>4602</td>\n",
       "      <td>4602</td>\n",
       "      <td>11242</td>\n",
       "      <td>19140</td>\n",
       "      <td>10738</td>\n",
       "    </tr>\n",
       "    <tr>\n",
       "      <th>2</th>\n",
       "      <td>2</td>\n",
       "      <td>상업</td>\n",
       "      <td>ST-1712</td>\n",
       "      <td>193</td>\n",
       "      <td>698</td>\n",
       "      <td>11208</td>\n",
       "      <td>-10510</td>\n",
       "      <td>10510</td>\n",
       "      <td>11906</td>\n",
       "      <td>7548</td>\n",
       "      <td>754</td>\n",
       "      <td>6794</td>\n",
       "      <td>6794</td>\n",
       "      <td>8302</td>\n",
       "      <td>20208</td>\n",
       "      <td>17304</td>\n",
       "    </tr>\n",
       "    <tr>\n",
       "      <th>3</th>\n",
       "      <td>3</td>\n",
       "      <td>상업</td>\n",
       "      <td>ST-2031</td>\n",
       "      <td>182</td>\n",
       "      <td>18661</td>\n",
       "      <td>22323</td>\n",
       "      <td>-3662</td>\n",
       "      <td>3662</td>\n",
       "      <td>40984</td>\n",
       "      <td>27533</td>\n",
       "      <td>22552</td>\n",
       "      <td>4981</td>\n",
       "      <td>4981</td>\n",
       "      <td>50085</td>\n",
       "      <td>91069</td>\n",
       "      <td>8643</td>\n",
       "    </tr>\n",
       "    <tr>\n",
       "      <th>4</th>\n",
       "      <td>4</td>\n",
       "      <td>상업</td>\n",
       "      <td>ST-2033</td>\n",
       "      <td>195</td>\n",
       "      <td>927</td>\n",
       "      <td>17721</td>\n",
       "      <td>-16794</td>\n",
       "      <td>16794</td>\n",
       "      <td>18648</td>\n",
       "      <td>14171</td>\n",
       "      <td>3574</td>\n",
       "      <td>10597</td>\n",
       "      <td>10597</td>\n",
       "      <td>17745</td>\n",
       "      <td>36393</td>\n",
       "      <td>27391</td>\n",
       "    </tr>\n",
       "    <tr>\n",
       "      <th>5</th>\n",
       "      <td>5</td>\n",
       "      <td>상업</td>\n",
       "      <td>ST-2035</td>\n",
       "      <td>194</td>\n",
       "      <td>1306</td>\n",
       "      <td>13073</td>\n",
       "      <td>-11767</td>\n",
       "      <td>11767</td>\n",
       "      <td>14379</td>\n",
       "      <td>10752</td>\n",
       "      <td>3553</td>\n",
       "      <td>7199</td>\n",
       "      <td>7199</td>\n",
       "      <td>14305</td>\n",
       "      <td>28684</td>\n",
       "      <td>18966</td>\n",
       "    </tr>\n",
       "    <tr>\n",
       "      <th>6</th>\n",
       "      <td>6</td>\n",
       "      <td>상업</td>\n",
       "      <td>ST-2044</td>\n",
       "      <td>190</td>\n",
       "      <td>1911</td>\n",
       "      <td>11044</td>\n",
       "      <td>-9133</td>\n",
       "      <td>9133</td>\n",
       "      <td>12955</td>\n",
       "      <td>6995</td>\n",
       "      <td>1434</td>\n",
       "      <td>5561</td>\n",
       "      <td>5561</td>\n",
       "      <td>8429</td>\n",
       "      <td>21384</td>\n",
       "      <td>14694</td>\n",
       "    </tr>\n",
       "    <tr>\n",
       "      <th>7</th>\n",
       "      <td>7</td>\n",
       "      <td>상업</td>\n",
       "      <td>ST-2569</td>\n",
       "      <td>176</td>\n",
       "      <td>889</td>\n",
       "      <td>4972</td>\n",
       "      <td>-4083</td>\n",
       "      <td>4083</td>\n",
       "      <td>5861</td>\n",
       "      <td>4068</td>\n",
       "      <td>1503</td>\n",
       "      <td>2565</td>\n",
       "      <td>2565</td>\n",
       "      <td>5571</td>\n",
       "      <td>11432</td>\n",
       "      <td>6648</td>\n",
       "    </tr>\n",
       "    <tr>\n",
       "      <th>8</th>\n",
       "      <td>8</td>\n",
       "      <td>상업</td>\n",
       "      <td>ST-2871</td>\n",
       "      <td>186</td>\n",
       "      <td>5501</td>\n",
       "      <td>10328</td>\n",
       "      <td>-4827</td>\n",
       "      <td>4827</td>\n",
       "      <td>15829</td>\n",
       "      <td>10568</td>\n",
       "      <td>6131</td>\n",
       "      <td>4437</td>\n",
       "      <td>4437</td>\n",
       "      <td>16699</td>\n",
       "      <td>32528</td>\n",
       "      <td>9264</td>\n",
       "    </tr>\n",
       "    <tr>\n",
       "      <th>9</th>\n",
       "      <td>9</td>\n",
       "      <td>상업</td>\n",
       "      <td>ST-2945</td>\n",
       "      <td>177</td>\n",
       "      <td>1201</td>\n",
       "      <td>6098</td>\n",
       "      <td>-4897</td>\n",
       "      <td>4897</td>\n",
       "      <td>7299</td>\n",
       "      <td>5019</td>\n",
       "      <td>2183</td>\n",
       "      <td>2836</td>\n",
       "      <td>2836</td>\n",
       "      <td>7202</td>\n",
       "      <td>14501</td>\n",
       "      <td>7733</td>\n",
       "    </tr>\n",
       "    <tr>\n",
       "      <th>10</th>\n",
       "      <td>10</td>\n",
       "      <td>상업</td>\n",
       "      <td>ST-3094</td>\n",
       "      <td>185</td>\n",
       "      <td>3151</td>\n",
       "      <td>9502</td>\n",
       "      <td>-6351</td>\n",
       "      <td>6351</td>\n",
       "      <td>12653</td>\n",
       "      <td>8887</td>\n",
       "      <td>6352</td>\n",
       "      <td>2535</td>\n",
       "      <td>2535</td>\n",
       "      <td>15239</td>\n",
       "      <td>27892</td>\n",
       "      <td>8886</td>\n",
       "    </tr>\n",
       "    <tr>\n",
       "      <th>11</th>\n",
       "      <td>11</td>\n",
       "      <td>상업</td>\n",
       "      <td>ST-3128</td>\n",
       "      <td>191</td>\n",
       "      <td>574</td>\n",
       "      <td>9570</td>\n",
       "      <td>-8996</td>\n",
       "      <td>8996</td>\n",
       "      <td>10144</td>\n",
       "      <td>6531</td>\n",
       "      <td>715</td>\n",
       "      <td>5816</td>\n",
       "      <td>5816</td>\n",
       "      <td>7246</td>\n",
       "      <td>17390</td>\n",
       "      <td>14812</td>\n",
       "    </tr>\n",
       "    <tr>\n",
       "      <th>12</th>\n",
       "      <td>12</td>\n",
       "      <td>상업</td>\n",
       "      <td>ST-3251</td>\n",
       "      <td>192</td>\n",
       "      <td>769</td>\n",
       "      <td>10360</td>\n",
       "      <td>-9591</td>\n",
       "      <td>9591</td>\n",
       "      <td>11129</td>\n",
       "      <td>6434</td>\n",
       "      <td>444</td>\n",
       "      <td>5990</td>\n",
       "      <td>5990</td>\n",
       "      <td>6878</td>\n",
       "      <td>18007</td>\n",
       "      <td>15581</td>\n",
       "    </tr>\n",
       "    <tr>\n",
       "      <th>13</th>\n",
       "      <td>13</td>\n",
       "      <td>주거</td>\n",
       "      <td>ST-1253</td>\n",
       "      <td>184</td>\n",
       "      <td>6247</td>\n",
       "      <td>652</td>\n",
       "      <td>5595</td>\n",
       "      <td>5595</td>\n",
       "      <td>6899</td>\n",
       "      <td>3257</td>\n",
       "      <td>6462</td>\n",
       "      <td>-3205</td>\n",
       "      <td>3205</td>\n",
       "      <td>9719</td>\n",
       "      <td>16618</td>\n",
       "      <td>8800</td>\n",
       "    </tr>\n",
       "    <tr>\n",
       "      <th>14</th>\n",
       "      <td>14</td>\n",
       "      <td>주거</td>\n",
       "      <td>ST-1352</td>\n",
       "      <td>181</td>\n",
       "      <td>6358</td>\n",
       "      <td>1513</td>\n",
       "      <td>4845</td>\n",
       "      <td>4845</td>\n",
       "      <td>7871</td>\n",
       "      <td>4304</td>\n",
       "      <td>7732</td>\n",
       "      <td>-3428</td>\n",
       "      <td>3428</td>\n",
       "      <td>12036</td>\n",
       "      <td>19907</td>\n",
       "      <td>8273</td>\n",
       "    </tr>\n",
       "    <tr>\n",
       "      <th>15</th>\n",
       "      <td>15</td>\n",
       "      <td>주거</td>\n",
       "      <td>ST-1645</td>\n",
       "      <td>187</td>\n",
       "      <td>7193</td>\n",
       "      <td>903</td>\n",
       "      <td>6290</td>\n",
       "      <td>6290</td>\n",
       "      <td>8096</td>\n",
       "      <td>3332</td>\n",
       "      <td>7134</td>\n",
       "      <td>-3802</td>\n",
       "      <td>3802</td>\n",
       "      <td>10466</td>\n",
       "      <td>18562</td>\n",
       "      <td>10092</td>\n",
       "    </tr>\n",
       "    <tr>\n",
       "      <th>16</th>\n",
       "      <td>16</td>\n",
       "      <td>주거</td>\n",
       "      <td>ST-2050</td>\n",
       "      <td>189</td>\n",
       "      <td>8593</td>\n",
       "      <td>806</td>\n",
       "      <td>7787</td>\n",
       "      <td>7787</td>\n",
       "      <td>9399</td>\n",
       "      <td>2765</td>\n",
       "      <td>7986</td>\n",
       "      <td>-5221</td>\n",
       "      <td>5221</td>\n",
       "      <td>10751</td>\n",
       "      <td>20150</td>\n",
       "      <td>13008</td>\n",
       "    </tr>\n",
       "    <tr>\n",
       "      <th>17</th>\n",
       "      <td>17</td>\n",
       "      <td>주거</td>\n",
       "      <td>ST-2056</td>\n",
       "      <td>179</td>\n",
       "      <td>6728</td>\n",
       "      <td>1794</td>\n",
       "      <td>4934</td>\n",
       "      <td>4934</td>\n",
       "      <td>8522</td>\n",
       "      <td>4114</td>\n",
       "      <td>7311</td>\n",
       "      <td>-3197</td>\n",
       "      <td>3197</td>\n",
       "      <td>11425</td>\n",
       "      <td>19947</td>\n",
       "      <td>8131</td>\n",
       "    </tr>\n",
       "    <tr>\n",
       "      <th>18</th>\n",
       "      <td>18</td>\n",
       "      <td>주거</td>\n",
       "      <td>ST-2557</td>\n",
       "      <td>178</td>\n",
       "      <td>8743</td>\n",
       "      <td>3994</td>\n",
       "      <td>4749</td>\n",
       "      <td>4749</td>\n",
       "      <td>12737</td>\n",
       "      <td>6461</td>\n",
       "      <td>9527</td>\n",
       "      <td>-3066</td>\n",
       "      <td>3066</td>\n",
       "      <td>15988</td>\n",
       "      <td>28725</td>\n",
       "      <td>7815</td>\n",
       "    </tr>\n",
       "    <tr>\n",
       "      <th>19</th>\n",
       "      <td>19</td>\n",
       "      <td>주거</td>\n",
       "      <td>ST-2965</td>\n",
       "      <td>183</td>\n",
       "      <td>6400</td>\n",
       "      <td>1023</td>\n",
       "      <td>5377</td>\n",
       "      <td>5377</td>\n",
       "      <td>7423</td>\n",
       "      <td>2366</td>\n",
       "      <td>5696</td>\n",
       "      <td>-3330</td>\n",
       "      <td>3330</td>\n",
       "      <td>8062</td>\n",
       "      <td>15485</td>\n",
       "      <td>8707</td>\n",
       "    </tr>\n",
       "  </tbody>\n",
       "</table>\n",
       "</div>"
      ],
      "text/plain": [
       "    Unnamed: 0 최종용도   대여소_ID  temp_num  출근대여량  출근반납량  대여-반납량_출근  차이절대값_출근  \\\n",
       "0            0   상업  ST-1064       180   3764   8489      -4725      4725   \n",
       "1            1   상업  ST-1688       188    881   7017      -6136      6136   \n",
       "2            2   상업  ST-1712       193    698  11208     -10510     10510   \n",
       "3            3   상업  ST-2031       182  18661  22323      -3662      3662   \n",
       "4            4   상업  ST-2033       195    927  17721     -16794     16794   \n",
       "5            5   상업  ST-2035       194   1306  13073     -11767     11767   \n",
       "6            6   상업  ST-2044       190   1911  11044      -9133      9133   \n",
       "7            7   상업  ST-2569       176    889   4972      -4083      4083   \n",
       "8            8   상업  ST-2871       186   5501  10328      -4827      4827   \n",
       "9            9   상업  ST-2945       177   1201   6098      -4897      4897   \n",
       "10          10   상업  ST-3094       185   3151   9502      -6351      6351   \n",
       "11          11   상업  ST-3128       191    574   9570      -8996      8996   \n",
       "12          12   상업  ST-3251       192    769  10360      -9591      9591   \n",
       "13          13   주거  ST-1253       184   6247    652       5595      5595   \n",
       "14          14   주거  ST-1352       181   6358   1513       4845      4845   \n",
       "15          15   주거  ST-1645       187   7193    903       6290      6290   \n",
       "16          16   주거  ST-2050       189   8593    806       7787      7787   \n",
       "17          17   주거  ST-2056       179   6728   1794       4934      4934   \n",
       "18          18   주거  ST-2557       178   8743   3994       4749      4749   \n",
       "19          19   주거  ST-2965       183   6400   1023       5377      5377   \n",
       "\n",
       "    총이용량_출근  퇴근대여량  퇴근반납량  대여-반납량_퇴근  차이절대값_퇴근  총이용량_퇴근  출퇴근_총이용량  차이절대값합  \n",
       "0     12253   9005   5562       3443      3443    14567     26820    8168  \n",
       "1      7898   7922   3320       4602      4602    11242     19140   10738  \n",
       "2     11906   7548    754       6794      6794     8302     20208   17304  \n",
       "3     40984  27533  22552       4981      4981    50085     91069    8643  \n",
       "4     18648  14171   3574      10597     10597    17745     36393   27391  \n",
       "5     14379  10752   3553       7199      7199    14305     28684   18966  \n",
       "6     12955   6995   1434       5561      5561     8429     21384   14694  \n",
       "7      5861   4068   1503       2565      2565     5571     11432    6648  \n",
       "8     15829  10568   6131       4437      4437    16699     32528    9264  \n",
       "9      7299   5019   2183       2836      2836     7202     14501    7733  \n",
       "10    12653   8887   6352       2535      2535    15239     27892    8886  \n",
       "11    10144   6531    715       5816      5816     7246     17390   14812  \n",
       "12    11129   6434    444       5990      5990     6878     18007   15581  \n",
       "13     6899   3257   6462      -3205      3205     9719     16618    8800  \n",
       "14     7871   4304   7732      -3428      3428    12036     19907    8273  \n",
       "15     8096   3332   7134      -3802      3802    10466     18562   10092  \n",
       "16     9399   2765   7986      -5221      5221    10751     20150   13008  \n",
       "17     8522   4114   7311      -3197      3197    11425     19947    8131  \n",
       "18    12737   6461   9527      -3066      3066    15988     28725    7815  \n",
       "19     7423   2366   5696      -3330      3330     8062     15485    8707  "
      ]
     },
     "execution_count": 20,
     "metadata": {},
     "output_type": "execute_result"
    }
   ],
   "source": [
    "상위20대여소"
   ]
  },
  {
   "cell_type": "code",
   "execution_count": 23,
   "metadata": {},
   "outputs": [
    {
     "data": {
      "application/vnd.plotly.v1+json": {
       "config": {
        "plotlyServerURL": "https://plot.ly"
       },
       "data": [
        {
         "marker": {
          "color": "#336666"
         },
         "name": "대여-반납량(출근)",
         "type": "bar",
         "x": [
          "ST-1064",
          "ST-1688",
          "ST-1712",
          "ST-2031",
          "ST-2033",
          "ST-2035",
          "ST-2044",
          "ST-2569",
          "ST-2871",
          "ST-2945",
          "ST-3094",
          "ST-3128",
          "ST-3251",
          "ST-1253",
          "ST-1352",
          "ST-1645",
          "ST-2050",
          "ST-2056",
          "ST-2557",
          "ST-2965"
         ],
         "y": [
          4725,
          6136,
          10510,
          3662,
          16794,
          11767,
          9133,
          4083,
          4827,
          4897,
          6351,
          8996,
          9591,
          5595,
          4845,
          6290,
          7787,
          4934,
          4749,
          5377
         ]
        },
        {
         "marker": {
          "color": "#33cc99"
         },
         "name": "대여-반납량(퇴근)",
         "type": "bar",
         "x": [
          "ST-1064",
          "ST-1688",
          "ST-1712",
          "ST-2031",
          "ST-2033",
          "ST-2035",
          "ST-2044",
          "ST-2569",
          "ST-2871",
          "ST-2945",
          "ST-3094",
          "ST-3128",
          "ST-3251",
          "ST-1253",
          "ST-1352",
          "ST-1645",
          "ST-2050",
          "ST-2056",
          "ST-2557",
          "ST-2965"
         ],
         "y": [
          3443,
          4602,
          6794,
          4981,
          10597,
          7199,
          5561,
          2565,
          4437,
          2836,
          2535,
          5816,
          5990,
          3205,
          3428,
          3802,
          5221,
          3197,
          3066,
          3330
         ]
        }
       ],
       "layout": {
        "height": 600,
        "template": {
         "data": {
          "bar": [
           {
            "error_x": {
             "color": "#2a3f5f"
            },
            "error_y": {
             "color": "#2a3f5f"
            },
            "marker": {
             "line": {
              "color": "#E5ECF6",
              "width": 0.5
             },
             "pattern": {
              "fillmode": "overlay",
              "size": 10,
              "solidity": 0.2
             }
            },
            "type": "bar"
           }
          ],
          "barpolar": [
           {
            "marker": {
             "line": {
              "color": "#E5ECF6",
              "width": 0.5
             },
             "pattern": {
              "fillmode": "overlay",
              "size": 10,
              "solidity": 0.2
             }
            },
            "type": "barpolar"
           }
          ],
          "carpet": [
           {
            "aaxis": {
             "endlinecolor": "#2a3f5f",
             "gridcolor": "white",
             "linecolor": "white",
             "minorgridcolor": "white",
             "startlinecolor": "#2a3f5f"
            },
            "baxis": {
             "endlinecolor": "#2a3f5f",
             "gridcolor": "white",
             "linecolor": "white",
             "minorgridcolor": "white",
             "startlinecolor": "#2a3f5f"
            },
            "type": "carpet"
           }
          ],
          "choropleth": [
           {
            "colorbar": {
             "outlinewidth": 0,
             "ticks": ""
            },
            "type": "choropleth"
           }
          ],
          "contour": [
           {
            "colorbar": {
             "outlinewidth": 0,
             "ticks": ""
            },
            "colorscale": [
             [
              0,
              "#0d0887"
             ],
             [
              0.1111111111111111,
              "#46039f"
             ],
             [
              0.2222222222222222,
              "#7201a8"
             ],
             [
              0.3333333333333333,
              "#9c179e"
             ],
             [
              0.4444444444444444,
              "#bd3786"
             ],
             [
              0.5555555555555556,
              "#d8576b"
             ],
             [
              0.6666666666666666,
              "#ed7953"
             ],
             [
              0.7777777777777778,
              "#fb9f3a"
             ],
             [
              0.8888888888888888,
              "#fdca26"
             ],
             [
              1,
              "#f0f921"
             ]
            ],
            "type": "contour"
           }
          ],
          "contourcarpet": [
           {
            "colorbar": {
             "outlinewidth": 0,
             "ticks": ""
            },
            "type": "contourcarpet"
           }
          ],
          "heatmap": [
           {
            "colorbar": {
             "outlinewidth": 0,
             "ticks": ""
            },
            "colorscale": [
             [
              0,
              "#0d0887"
             ],
             [
              0.1111111111111111,
              "#46039f"
             ],
             [
              0.2222222222222222,
              "#7201a8"
             ],
             [
              0.3333333333333333,
              "#9c179e"
             ],
             [
              0.4444444444444444,
              "#bd3786"
             ],
             [
              0.5555555555555556,
              "#d8576b"
             ],
             [
              0.6666666666666666,
              "#ed7953"
             ],
             [
              0.7777777777777778,
              "#fb9f3a"
             ],
             [
              0.8888888888888888,
              "#fdca26"
             ],
             [
              1,
              "#f0f921"
             ]
            ],
            "type": "heatmap"
           }
          ],
          "heatmapgl": [
           {
            "colorbar": {
             "outlinewidth": 0,
             "ticks": ""
            },
            "colorscale": [
             [
              0,
              "#0d0887"
             ],
             [
              0.1111111111111111,
              "#46039f"
             ],
             [
              0.2222222222222222,
              "#7201a8"
             ],
             [
              0.3333333333333333,
              "#9c179e"
             ],
             [
              0.4444444444444444,
              "#bd3786"
             ],
             [
              0.5555555555555556,
              "#d8576b"
             ],
             [
              0.6666666666666666,
              "#ed7953"
             ],
             [
              0.7777777777777778,
              "#fb9f3a"
             ],
             [
              0.8888888888888888,
              "#fdca26"
             ],
             [
              1,
              "#f0f921"
             ]
            ],
            "type": "heatmapgl"
           }
          ],
          "histogram": [
           {
            "marker": {
             "pattern": {
              "fillmode": "overlay",
              "size": 10,
              "solidity": 0.2
             }
            },
            "type": "histogram"
           }
          ],
          "histogram2d": [
           {
            "colorbar": {
             "outlinewidth": 0,
             "ticks": ""
            },
            "colorscale": [
             [
              0,
              "#0d0887"
             ],
             [
              0.1111111111111111,
              "#46039f"
             ],
             [
              0.2222222222222222,
              "#7201a8"
             ],
             [
              0.3333333333333333,
              "#9c179e"
             ],
             [
              0.4444444444444444,
              "#bd3786"
             ],
             [
              0.5555555555555556,
              "#d8576b"
             ],
             [
              0.6666666666666666,
              "#ed7953"
             ],
             [
              0.7777777777777778,
              "#fb9f3a"
             ],
             [
              0.8888888888888888,
              "#fdca26"
             ],
             [
              1,
              "#f0f921"
             ]
            ],
            "type": "histogram2d"
           }
          ],
          "histogram2dcontour": [
           {
            "colorbar": {
             "outlinewidth": 0,
             "ticks": ""
            },
            "colorscale": [
             [
              0,
              "#0d0887"
             ],
             [
              0.1111111111111111,
              "#46039f"
             ],
             [
              0.2222222222222222,
              "#7201a8"
             ],
             [
              0.3333333333333333,
              "#9c179e"
             ],
             [
              0.4444444444444444,
              "#bd3786"
             ],
             [
              0.5555555555555556,
              "#d8576b"
             ],
             [
              0.6666666666666666,
              "#ed7953"
             ],
             [
              0.7777777777777778,
              "#fb9f3a"
             ],
             [
              0.8888888888888888,
              "#fdca26"
             ],
             [
              1,
              "#f0f921"
             ]
            ],
            "type": "histogram2dcontour"
           }
          ],
          "mesh3d": [
           {
            "colorbar": {
             "outlinewidth": 0,
             "ticks": ""
            },
            "type": "mesh3d"
           }
          ],
          "parcoords": [
           {
            "line": {
             "colorbar": {
              "outlinewidth": 0,
              "ticks": ""
             }
            },
            "type": "parcoords"
           }
          ],
          "pie": [
           {
            "automargin": true,
            "type": "pie"
           }
          ],
          "scatter": [
           {
            "fillpattern": {
             "fillmode": "overlay",
             "size": 10,
             "solidity": 0.2
            },
            "type": "scatter"
           }
          ],
          "scatter3d": [
           {
            "line": {
             "colorbar": {
              "outlinewidth": 0,
              "ticks": ""
             }
            },
            "marker": {
             "colorbar": {
              "outlinewidth": 0,
              "ticks": ""
             }
            },
            "type": "scatter3d"
           }
          ],
          "scattercarpet": [
           {
            "marker": {
             "colorbar": {
              "outlinewidth": 0,
              "ticks": ""
             }
            },
            "type": "scattercarpet"
           }
          ],
          "scattergeo": [
           {
            "marker": {
             "colorbar": {
              "outlinewidth": 0,
              "ticks": ""
             }
            },
            "type": "scattergeo"
           }
          ],
          "scattergl": [
           {
            "marker": {
             "colorbar": {
              "outlinewidth": 0,
              "ticks": ""
             }
            },
            "type": "scattergl"
           }
          ],
          "scattermapbox": [
           {
            "marker": {
             "colorbar": {
              "outlinewidth": 0,
              "ticks": ""
             }
            },
            "type": "scattermapbox"
           }
          ],
          "scatterpolar": [
           {
            "marker": {
             "colorbar": {
              "outlinewidth": 0,
              "ticks": ""
             }
            },
            "type": "scatterpolar"
           }
          ],
          "scatterpolargl": [
           {
            "marker": {
             "colorbar": {
              "outlinewidth": 0,
              "ticks": ""
             }
            },
            "type": "scatterpolargl"
           }
          ],
          "scatterternary": [
           {
            "marker": {
             "colorbar": {
              "outlinewidth": 0,
              "ticks": ""
             }
            },
            "type": "scatterternary"
           }
          ],
          "surface": [
           {
            "colorbar": {
             "outlinewidth": 0,
             "ticks": ""
            },
            "colorscale": [
             [
              0,
              "#0d0887"
             ],
             [
              0.1111111111111111,
              "#46039f"
             ],
             [
              0.2222222222222222,
              "#7201a8"
             ],
             [
              0.3333333333333333,
              "#9c179e"
             ],
             [
              0.4444444444444444,
              "#bd3786"
             ],
             [
              0.5555555555555556,
              "#d8576b"
             ],
             [
              0.6666666666666666,
              "#ed7953"
             ],
             [
              0.7777777777777778,
              "#fb9f3a"
             ],
             [
              0.8888888888888888,
              "#fdca26"
             ],
             [
              1,
              "#f0f921"
             ]
            ],
            "type": "surface"
           }
          ],
          "table": [
           {
            "cells": {
             "fill": {
              "color": "#EBF0F8"
             },
             "line": {
              "color": "white"
             }
            },
            "header": {
             "fill": {
              "color": "#C8D4E3"
             },
             "line": {
              "color": "white"
             }
            },
            "type": "table"
           }
          ]
         },
         "layout": {
          "annotationdefaults": {
           "arrowcolor": "#2a3f5f",
           "arrowhead": 0,
           "arrowwidth": 1
          },
          "autotypenumbers": "strict",
          "coloraxis": {
           "colorbar": {
            "outlinewidth": 0,
            "ticks": ""
           }
          },
          "colorscale": {
           "diverging": [
            [
             0,
             "#8e0152"
            ],
            [
             0.1,
             "#c51b7d"
            ],
            [
             0.2,
             "#de77ae"
            ],
            [
             0.3,
             "#f1b6da"
            ],
            [
             0.4,
             "#fde0ef"
            ],
            [
             0.5,
             "#f7f7f7"
            ],
            [
             0.6,
             "#e6f5d0"
            ],
            [
             0.7,
             "#b8e186"
            ],
            [
             0.8,
             "#7fbc41"
            ],
            [
             0.9,
             "#4d9221"
            ],
            [
             1,
             "#276419"
            ]
           ],
           "sequential": [
            [
             0,
             "#0d0887"
            ],
            [
             0.1111111111111111,
             "#46039f"
            ],
            [
             0.2222222222222222,
             "#7201a8"
            ],
            [
             0.3333333333333333,
             "#9c179e"
            ],
            [
             0.4444444444444444,
             "#bd3786"
            ],
            [
             0.5555555555555556,
             "#d8576b"
            ],
            [
             0.6666666666666666,
             "#ed7953"
            ],
            [
             0.7777777777777778,
             "#fb9f3a"
            ],
            [
             0.8888888888888888,
             "#fdca26"
            ],
            [
             1,
             "#f0f921"
            ]
           ],
           "sequentialminus": [
            [
             0,
             "#0d0887"
            ],
            [
             0.1111111111111111,
             "#46039f"
            ],
            [
             0.2222222222222222,
             "#7201a8"
            ],
            [
             0.3333333333333333,
             "#9c179e"
            ],
            [
             0.4444444444444444,
             "#bd3786"
            ],
            [
             0.5555555555555556,
             "#d8576b"
            ],
            [
             0.6666666666666666,
             "#ed7953"
            ],
            [
             0.7777777777777778,
             "#fb9f3a"
            ],
            [
             0.8888888888888888,
             "#fdca26"
            ],
            [
             1,
             "#f0f921"
            ]
           ]
          },
          "colorway": [
           "#636efa",
           "#EF553B",
           "#00cc96",
           "#ab63fa",
           "#FFA15A",
           "#19d3f3",
           "#FF6692",
           "#B6E880",
           "#FF97FF",
           "#FECB52"
          ],
          "font": {
           "color": "#2a3f5f"
          },
          "geo": {
           "bgcolor": "white",
           "lakecolor": "white",
           "landcolor": "#E5ECF6",
           "showlakes": true,
           "showland": true,
           "subunitcolor": "white"
          },
          "hoverlabel": {
           "align": "left"
          },
          "hovermode": "closest",
          "mapbox": {
           "style": "light"
          },
          "paper_bgcolor": "white",
          "plot_bgcolor": "#E5ECF6",
          "polar": {
           "angularaxis": {
            "gridcolor": "white",
            "linecolor": "white",
            "ticks": ""
           },
           "bgcolor": "#E5ECF6",
           "radialaxis": {
            "gridcolor": "white",
            "linecolor": "white",
            "ticks": ""
           }
          },
          "scene": {
           "xaxis": {
            "backgroundcolor": "#E5ECF6",
            "gridcolor": "white",
            "gridwidth": 2,
            "linecolor": "white",
            "showbackground": true,
            "ticks": "",
            "zerolinecolor": "white"
           },
           "yaxis": {
            "backgroundcolor": "#E5ECF6",
            "gridcolor": "white",
            "gridwidth": 2,
            "linecolor": "white",
            "showbackground": true,
            "ticks": "",
            "zerolinecolor": "white"
           },
           "zaxis": {
            "backgroundcolor": "#E5ECF6",
            "gridcolor": "white",
            "gridwidth": 2,
            "linecolor": "white",
            "showbackground": true,
            "ticks": "",
            "zerolinecolor": "white"
           }
          },
          "shapedefaults": {
           "line": {
            "color": "#2a3f5f"
           }
          },
          "ternary": {
           "aaxis": {
            "gridcolor": "white",
            "linecolor": "white",
            "ticks": ""
           },
           "baxis": {
            "gridcolor": "white",
            "linecolor": "white",
            "ticks": ""
           },
           "bgcolor": "#E5ECF6",
           "caxis": {
            "gridcolor": "white",
            "linecolor": "white",
            "ticks": ""
           }
          },
          "title": {
           "x": 0.05
          },
          "xaxis": {
           "automargin": true,
           "gridcolor": "white",
           "linecolor": "white",
           "ticks": "",
           "title": {
            "standoff": 15
           },
           "zerolinecolor": "white",
           "zerolinewidth": 2
          },
          "yaxis": {
           "automargin": true,
           "gridcolor": "white",
           "linecolor": "white",
           "ticks": "",
           "title": {
            "standoff": 15
           },
           "zerolinecolor": "white",
           "zerolinewidth": 2
          }
         }
        },
        "title": {
         "text": "상위 20개 대여소 비교"
        },
        "width": 800,
        "xaxis": {
         "title": {
          "text": "대여소 ID"
         }
        },
        "yaxis": {
         "title": {
          "text": "대여-반납량의 절대값"
         }
        }
       }
      }
     },
     "metadata": {},
     "output_type": "display_data"
    }
   ],
   "source": [
    "import plotly.graph_objects as go\n",
    "\n",
    "x = 상위20대여소['대여소_ID']\n",
    "y1 = 상위20대여소['대여-반납량_출근'].abs()\n",
    "y2 = 상위20대여소['대여-반납량_퇴근'].abs()\n",
    "\n",
    "bar_color = '#336666'\n",
    "bar_color2 = '#33cc99'\n",
    "\n",
    "fig = go.Figure()\n",
    "\n",
    "fig.add_trace(go.Bar(x=x, y=y1, name='대여-반납량(출근)', marker=dict(color=bar_color)))\n",
    "fig.add_trace(go.Bar(x=x, y=y2, name='대여-반납량(퇴근)', marker=dict(color=bar_color2)))\n",
    "\n",
    "fig.update_layout(title='상위 20개 대여소 비교', xaxis_title='대여소 ID', yaxis_title='대여-반납량의 절대값')\n",
    "\n",
    "fig.update_layout(width=800, height=600)\n",
    "fig.show()"
   ]
  },
  {
   "cell_type": "code",
   "execution_count": 24,
   "metadata": {},
   "outputs": [
    {
     "data": {
      "application/vnd.plotly.v1+json": {
       "config": {
        "plotlyServerURL": "https://plot.ly"
       },
       "data": [
        {
         "marker": {
          "color": "#336666"
         },
         "name": "쏠림정도 수치화",
         "type": "bar",
         "x": [
          "ST-1064",
          "ST-1688",
          "ST-1712",
          "ST-2031",
          "ST-2033",
          "ST-2035",
          "ST-2044",
          "ST-2569",
          "ST-2871",
          "ST-2945",
          "ST-3094",
          "ST-3128",
          "ST-3251",
          "ST-1253",
          "ST-1352",
          "ST-1645",
          "ST-2050",
          "ST-2056",
          "ST-2557",
          "ST-2965"
         ],
         "y": [
          8168,
          10738,
          17304,
          8643,
          27391,
          18966,
          14694,
          6648,
          9264,
          7733,
          8886,
          14812,
          15581,
          8800,
          8273,
          10092,
          13008,
          8131,
          7815,
          8707
         ]
        }
       ],
       "layout": {
        "height": 600,
        "template": {
         "data": {
          "bar": [
           {
            "error_x": {
             "color": "#2a3f5f"
            },
            "error_y": {
             "color": "#2a3f5f"
            },
            "marker": {
             "line": {
              "color": "#E5ECF6",
              "width": 0.5
             },
             "pattern": {
              "fillmode": "overlay",
              "size": 10,
              "solidity": 0.2
             }
            },
            "type": "bar"
           }
          ],
          "barpolar": [
           {
            "marker": {
             "line": {
              "color": "#E5ECF6",
              "width": 0.5
             },
             "pattern": {
              "fillmode": "overlay",
              "size": 10,
              "solidity": 0.2
             }
            },
            "type": "barpolar"
           }
          ],
          "carpet": [
           {
            "aaxis": {
             "endlinecolor": "#2a3f5f",
             "gridcolor": "white",
             "linecolor": "white",
             "minorgridcolor": "white",
             "startlinecolor": "#2a3f5f"
            },
            "baxis": {
             "endlinecolor": "#2a3f5f",
             "gridcolor": "white",
             "linecolor": "white",
             "minorgridcolor": "white",
             "startlinecolor": "#2a3f5f"
            },
            "type": "carpet"
           }
          ],
          "choropleth": [
           {
            "colorbar": {
             "outlinewidth": 0,
             "ticks": ""
            },
            "type": "choropleth"
           }
          ],
          "contour": [
           {
            "colorbar": {
             "outlinewidth": 0,
             "ticks": ""
            },
            "colorscale": [
             [
              0,
              "#0d0887"
             ],
             [
              0.1111111111111111,
              "#46039f"
             ],
             [
              0.2222222222222222,
              "#7201a8"
             ],
             [
              0.3333333333333333,
              "#9c179e"
             ],
             [
              0.4444444444444444,
              "#bd3786"
             ],
             [
              0.5555555555555556,
              "#d8576b"
             ],
             [
              0.6666666666666666,
              "#ed7953"
             ],
             [
              0.7777777777777778,
              "#fb9f3a"
             ],
             [
              0.8888888888888888,
              "#fdca26"
             ],
             [
              1,
              "#f0f921"
             ]
            ],
            "type": "contour"
           }
          ],
          "contourcarpet": [
           {
            "colorbar": {
             "outlinewidth": 0,
             "ticks": ""
            },
            "type": "contourcarpet"
           }
          ],
          "heatmap": [
           {
            "colorbar": {
             "outlinewidth": 0,
             "ticks": ""
            },
            "colorscale": [
             [
              0,
              "#0d0887"
             ],
             [
              0.1111111111111111,
              "#46039f"
             ],
             [
              0.2222222222222222,
              "#7201a8"
             ],
             [
              0.3333333333333333,
              "#9c179e"
             ],
             [
              0.4444444444444444,
              "#bd3786"
             ],
             [
              0.5555555555555556,
              "#d8576b"
             ],
             [
              0.6666666666666666,
              "#ed7953"
             ],
             [
              0.7777777777777778,
              "#fb9f3a"
             ],
             [
              0.8888888888888888,
              "#fdca26"
             ],
             [
              1,
              "#f0f921"
             ]
            ],
            "type": "heatmap"
           }
          ],
          "heatmapgl": [
           {
            "colorbar": {
             "outlinewidth": 0,
             "ticks": ""
            },
            "colorscale": [
             [
              0,
              "#0d0887"
             ],
             [
              0.1111111111111111,
              "#46039f"
             ],
             [
              0.2222222222222222,
              "#7201a8"
             ],
             [
              0.3333333333333333,
              "#9c179e"
             ],
             [
              0.4444444444444444,
              "#bd3786"
             ],
             [
              0.5555555555555556,
              "#d8576b"
             ],
             [
              0.6666666666666666,
              "#ed7953"
             ],
             [
              0.7777777777777778,
              "#fb9f3a"
             ],
             [
              0.8888888888888888,
              "#fdca26"
             ],
             [
              1,
              "#f0f921"
             ]
            ],
            "type": "heatmapgl"
           }
          ],
          "histogram": [
           {
            "marker": {
             "pattern": {
              "fillmode": "overlay",
              "size": 10,
              "solidity": 0.2
             }
            },
            "type": "histogram"
           }
          ],
          "histogram2d": [
           {
            "colorbar": {
             "outlinewidth": 0,
             "ticks": ""
            },
            "colorscale": [
             [
              0,
              "#0d0887"
             ],
             [
              0.1111111111111111,
              "#46039f"
             ],
             [
              0.2222222222222222,
              "#7201a8"
             ],
             [
              0.3333333333333333,
              "#9c179e"
             ],
             [
              0.4444444444444444,
              "#bd3786"
             ],
             [
              0.5555555555555556,
              "#d8576b"
             ],
             [
              0.6666666666666666,
              "#ed7953"
             ],
             [
              0.7777777777777778,
              "#fb9f3a"
             ],
             [
              0.8888888888888888,
              "#fdca26"
             ],
             [
              1,
              "#f0f921"
             ]
            ],
            "type": "histogram2d"
           }
          ],
          "histogram2dcontour": [
           {
            "colorbar": {
             "outlinewidth": 0,
             "ticks": ""
            },
            "colorscale": [
             [
              0,
              "#0d0887"
             ],
             [
              0.1111111111111111,
              "#46039f"
             ],
             [
              0.2222222222222222,
              "#7201a8"
             ],
             [
              0.3333333333333333,
              "#9c179e"
             ],
             [
              0.4444444444444444,
              "#bd3786"
             ],
             [
              0.5555555555555556,
              "#d8576b"
             ],
             [
              0.6666666666666666,
              "#ed7953"
             ],
             [
              0.7777777777777778,
              "#fb9f3a"
             ],
             [
              0.8888888888888888,
              "#fdca26"
             ],
             [
              1,
              "#f0f921"
             ]
            ],
            "type": "histogram2dcontour"
           }
          ],
          "mesh3d": [
           {
            "colorbar": {
             "outlinewidth": 0,
             "ticks": ""
            },
            "type": "mesh3d"
           }
          ],
          "parcoords": [
           {
            "line": {
             "colorbar": {
              "outlinewidth": 0,
              "ticks": ""
             }
            },
            "type": "parcoords"
           }
          ],
          "pie": [
           {
            "automargin": true,
            "type": "pie"
           }
          ],
          "scatter": [
           {
            "fillpattern": {
             "fillmode": "overlay",
             "size": 10,
             "solidity": 0.2
            },
            "type": "scatter"
           }
          ],
          "scatter3d": [
           {
            "line": {
             "colorbar": {
              "outlinewidth": 0,
              "ticks": ""
             }
            },
            "marker": {
             "colorbar": {
              "outlinewidth": 0,
              "ticks": ""
             }
            },
            "type": "scatter3d"
           }
          ],
          "scattercarpet": [
           {
            "marker": {
             "colorbar": {
              "outlinewidth": 0,
              "ticks": ""
             }
            },
            "type": "scattercarpet"
           }
          ],
          "scattergeo": [
           {
            "marker": {
             "colorbar": {
              "outlinewidth": 0,
              "ticks": ""
             }
            },
            "type": "scattergeo"
           }
          ],
          "scattergl": [
           {
            "marker": {
             "colorbar": {
              "outlinewidth": 0,
              "ticks": ""
             }
            },
            "type": "scattergl"
           }
          ],
          "scattermapbox": [
           {
            "marker": {
             "colorbar": {
              "outlinewidth": 0,
              "ticks": ""
             }
            },
            "type": "scattermapbox"
           }
          ],
          "scatterpolar": [
           {
            "marker": {
             "colorbar": {
              "outlinewidth": 0,
              "ticks": ""
             }
            },
            "type": "scatterpolar"
           }
          ],
          "scatterpolargl": [
           {
            "marker": {
             "colorbar": {
              "outlinewidth": 0,
              "ticks": ""
             }
            },
            "type": "scatterpolargl"
           }
          ],
          "scatterternary": [
           {
            "marker": {
             "colorbar": {
              "outlinewidth": 0,
              "ticks": ""
             }
            },
            "type": "scatterternary"
           }
          ],
          "surface": [
           {
            "colorbar": {
             "outlinewidth": 0,
             "ticks": ""
            },
            "colorscale": [
             [
              0,
              "#0d0887"
             ],
             [
              0.1111111111111111,
              "#46039f"
             ],
             [
              0.2222222222222222,
              "#7201a8"
             ],
             [
              0.3333333333333333,
              "#9c179e"
             ],
             [
              0.4444444444444444,
              "#bd3786"
             ],
             [
              0.5555555555555556,
              "#d8576b"
             ],
             [
              0.6666666666666666,
              "#ed7953"
             ],
             [
              0.7777777777777778,
              "#fb9f3a"
             ],
             [
              0.8888888888888888,
              "#fdca26"
             ],
             [
              1,
              "#f0f921"
             ]
            ],
            "type": "surface"
           }
          ],
          "table": [
           {
            "cells": {
             "fill": {
              "color": "#EBF0F8"
             },
             "line": {
              "color": "white"
             }
            },
            "header": {
             "fill": {
              "color": "#C8D4E3"
             },
             "line": {
              "color": "white"
             }
            },
            "type": "table"
           }
          ]
         },
         "layout": {
          "annotationdefaults": {
           "arrowcolor": "#2a3f5f",
           "arrowhead": 0,
           "arrowwidth": 1
          },
          "autotypenumbers": "strict",
          "coloraxis": {
           "colorbar": {
            "outlinewidth": 0,
            "ticks": ""
           }
          },
          "colorscale": {
           "diverging": [
            [
             0,
             "#8e0152"
            ],
            [
             0.1,
             "#c51b7d"
            ],
            [
             0.2,
             "#de77ae"
            ],
            [
             0.3,
             "#f1b6da"
            ],
            [
             0.4,
             "#fde0ef"
            ],
            [
             0.5,
             "#f7f7f7"
            ],
            [
             0.6,
             "#e6f5d0"
            ],
            [
             0.7,
             "#b8e186"
            ],
            [
             0.8,
             "#7fbc41"
            ],
            [
             0.9,
             "#4d9221"
            ],
            [
             1,
             "#276419"
            ]
           ],
           "sequential": [
            [
             0,
             "#0d0887"
            ],
            [
             0.1111111111111111,
             "#46039f"
            ],
            [
             0.2222222222222222,
             "#7201a8"
            ],
            [
             0.3333333333333333,
             "#9c179e"
            ],
            [
             0.4444444444444444,
             "#bd3786"
            ],
            [
             0.5555555555555556,
             "#d8576b"
            ],
            [
             0.6666666666666666,
             "#ed7953"
            ],
            [
             0.7777777777777778,
             "#fb9f3a"
            ],
            [
             0.8888888888888888,
             "#fdca26"
            ],
            [
             1,
             "#f0f921"
            ]
           ],
           "sequentialminus": [
            [
             0,
             "#0d0887"
            ],
            [
             0.1111111111111111,
             "#46039f"
            ],
            [
             0.2222222222222222,
             "#7201a8"
            ],
            [
             0.3333333333333333,
             "#9c179e"
            ],
            [
             0.4444444444444444,
             "#bd3786"
            ],
            [
             0.5555555555555556,
             "#d8576b"
            ],
            [
             0.6666666666666666,
             "#ed7953"
            ],
            [
             0.7777777777777778,
             "#fb9f3a"
            ],
            [
             0.8888888888888888,
             "#fdca26"
            ],
            [
             1,
             "#f0f921"
            ]
           ]
          },
          "colorway": [
           "#636efa",
           "#EF553B",
           "#00cc96",
           "#ab63fa",
           "#FFA15A",
           "#19d3f3",
           "#FF6692",
           "#B6E880",
           "#FF97FF",
           "#FECB52"
          ],
          "font": {
           "color": "#2a3f5f"
          },
          "geo": {
           "bgcolor": "white",
           "lakecolor": "white",
           "landcolor": "#E5ECF6",
           "showlakes": true,
           "showland": true,
           "subunitcolor": "white"
          },
          "hoverlabel": {
           "align": "left"
          },
          "hovermode": "closest",
          "mapbox": {
           "style": "light"
          },
          "paper_bgcolor": "white",
          "plot_bgcolor": "#E5ECF6",
          "polar": {
           "angularaxis": {
            "gridcolor": "white",
            "linecolor": "white",
            "ticks": ""
           },
           "bgcolor": "#E5ECF6",
           "radialaxis": {
            "gridcolor": "white",
            "linecolor": "white",
            "ticks": ""
           }
          },
          "scene": {
           "xaxis": {
            "backgroundcolor": "#E5ECF6",
            "gridcolor": "white",
            "gridwidth": 2,
            "linecolor": "white",
            "showbackground": true,
            "ticks": "",
            "zerolinecolor": "white"
           },
           "yaxis": {
            "backgroundcolor": "#E5ECF6",
            "gridcolor": "white",
            "gridwidth": 2,
            "linecolor": "white",
            "showbackground": true,
            "ticks": "",
            "zerolinecolor": "white"
           },
           "zaxis": {
            "backgroundcolor": "#E5ECF6",
            "gridcolor": "white",
            "gridwidth": 2,
            "linecolor": "white",
            "showbackground": true,
            "ticks": "",
            "zerolinecolor": "white"
           }
          },
          "shapedefaults": {
           "line": {
            "color": "#2a3f5f"
           }
          },
          "ternary": {
           "aaxis": {
            "gridcolor": "white",
            "linecolor": "white",
            "ticks": ""
           },
           "baxis": {
            "gridcolor": "white",
            "linecolor": "white",
            "ticks": ""
           },
           "bgcolor": "#E5ECF6",
           "caxis": {
            "gridcolor": "white",
            "linecolor": "white",
            "ticks": ""
           }
          },
          "title": {
           "x": 0.05
          },
          "xaxis": {
           "automargin": true,
           "gridcolor": "white",
           "linecolor": "white",
           "ticks": "",
           "title": {
            "standoff": 15
           },
           "zerolinecolor": "white",
           "zerolinewidth": 2
          },
          "yaxis": {
           "automargin": true,
           "gridcolor": "white",
           "linecolor": "white",
           "ticks": "",
           "title": {
            "standoff": 15
           },
           "zerolinecolor": "white",
           "zerolinewidth": 2
          }
         }
        },
        "title": {
         "text": "상위 20개 대여소 비교"
        },
        "width": 800,
        "xaxis": {
         "title": {
          "text": "대여소 ID"
         }
        },
        "yaxis": {
         "title": {
          "text": "쏠림정도 수치화"
         }
        }
       }
      }
     },
     "metadata": {},
     "output_type": "display_data"
    }
   ],
   "source": [
    "import plotly.graph_objects as go\n",
    "\n",
    "x = 상위20대여소['대여소_ID']\n",
    "y1 = 상위20대여소['차이절대값합']\n",
    "\n",
    "bar_color = '#336666'\n",
    "\n",
    "fig = go.Figure()\n",
    "\n",
    "fig.add_trace(go.Bar(x=x, y=y1, name='쏠림정도 수치화',marker=dict(color=bar_color)))\n",
    "\n",
    "fig.update_layout(title='상위 20개 대여소 비교', xaxis_title='대여소 ID', yaxis_title='쏠림정도 수치화')\n",
    "\n",
    "fig.update_layout(width=800, height=600)\n",
    "fig.show()"
   ]
  },
  {
   "cell_type": "code",
   "execution_count": null,
   "metadata": {},
   "outputs": [],
   "source": []
  }
 ],
 "metadata": {
  "kernelspec": {
   "display_name": "base",
   "language": "python",
   "name": "python3"
  },
  "language_info": {
   "codemirror_mode": {
    "name": "ipython",
    "version": 3
   },
   "file_extension": ".py",
   "mimetype": "text/x-python",
   "name": "python",
   "nbconvert_exporter": "python",
   "pygments_lexer": "ipython3",
   "version": "3.11.7"
  }
 },
 "nbformat": 4,
 "nbformat_minor": 2
}
