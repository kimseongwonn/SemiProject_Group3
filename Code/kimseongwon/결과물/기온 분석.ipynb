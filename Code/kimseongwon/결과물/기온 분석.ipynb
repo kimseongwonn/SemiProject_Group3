{
 "cells": [
  {
   "cell_type": "code",
   "execution_count": 2,
   "metadata": {},
   "outputs": [
    {
     "data": {
      "text/html": [
       "<div>\n",
       "<style scoped>\n",
       "    .dataframe tbody tr th:only-of-type {\n",
       "        vertical-align: middle;\n",
       "    }\n",
       "\n",
       "    .dataframe tbody tr th {\n",
       "        vertical-align: top;\n",
       "    }\n",
       "\n",
       "    .dataframe thead th {\n",
       "        text-align: right;\n",
       "    }\n",
       "</style>\n",
       "<table border=\"1\" class=\"dataframe\">\n",
       "  <thead>\n",
       "    <tr style=\"text-align: right;\">\n",
       "      <th></th>\n",
       "      <th>\\t\\t지점번호</th>\n",
       "      <th>지점명</th>\n",
       "      <th>일시</th>\n",
       "      <th>평균기온(℃)</th>\n",
       "      <th>최고기온(℃)</th>\n",
       "      <th>\\t최고기온시각</th>\n",
       "      <th>최저기온(℃)</th>\n",
       "      <th>최저기온시각</th>\n",
       "      <th>일교차</th>\n",
       "    </tr>\n",
       "  </thead>\n",
       "  <tbody>\n",
       "    <tr>\n",
       "      <th>0</th>\n",
       "      <td>108</td>\n",
       "      <td>서울</td>\n",
       "      <td>2023-01-01</td>\n",
       "      <td>-0.2</td>\n",
       "      <td>3.8</td>\n",
       "      <td>13:43</td>\n",
       "      <td>-4.3</td>\n",
       "      <td>23:50</td>\n",
       "      <td>8.1</td>\n",
       "    </tr>\n",
       "    <tr>\n",
       "      <th>1</th>\n",
       "      <td>108</td>\n",
       "      <td>서울</td>\n",
       "      <td>2023-01-02</td>\n",
       "      <td>-4.5</td>\n",
       "      <td>-0.4</td>\n",
       "      <td>15:25</td>\n",
       "      <td>-7.4</td>\n",
       "      <td>08:04</td>\n",
       "      <td>7.0</td>\n",
       "    </tr>\n",
       "    <tr>\n",
       "      <th>2</th>\n",
       "      <td>108</td>\n",
       "      <td>서울</td>\n",
       "      <td>2023-01-03</td>\n",
       "      <td>-5.0</td>\n",
       "      <td>0.6</td>\n",
       "      <td>15:55</td>\n",
       "      <td>-9.0</td>\n",
       "      <td>05:51</td>\n",
       "      <td>9.6</td>\n",
       "    </tr>\n",
       "    <tr>\n",
       "      <th>3</th>\n",
       "      <td>108</td>\n",
       "      <td>서울</td>\n",
       "      <td>2023-01-04</td>\n",
       "      <td>-1.8</td>\n",
       "      <td>3.3</td>\n",
       "      <td>15:10</td>\n",
       "      <td>-5.7</td>\n",
       "      <td>02:29</td>\n",
       "      <td>9.0</td>\n",
       "    </tr>\n",
       "    <tr>\n",
       "      <th>4</th>\n",
       "      <td>108</td>\n",
       "      <td>서울</td>\n",
       "      <td>2023-01-05</td>\n",
       "      <td>-1.6</td>\n",
       "      <td>3.6</td>\n",
       "      <td>15:36</td>\n",
       "      <td>-5.6</td>\n",
       "      <td>07:49</td>\n",
       "      <td>9.2</td>\n",
       "    </tr>\n",
       "    <tr>\n",
       "      <th>...</th>\n",
       "      <td>...</td>\n",
       "      <td>...</td>\n",
       "      <td>...</td>\n",
       "      <td>...</td>\n",
       "      <td>...</td>\n",
       "      <td>...</td>\n",
       "      <td>...</td>\n",
       "      <td>...</td>\n",
       "      <td>...</td>\n",
       "    </tr>\n",
       "    <tr>\n",
       "      <th>360</th>\n",
       "      <td>108</td>\n",
       "      <td>서울</td>\n",
       "      <td>2023-12-27</td>\n",
       "      <td>1.5</td>\n",
       "      <td>6.8</td>\n",
       "      <td>15:49</td>\n",
       "      <td>-2.8</td>\n",
       "      <td>08:13</td>\n",
       "      <td>9.6</td>\n",
       "    </tr>\n",
       "    <tr>\n",
       "      <th>361</th>\n",
       "      <td>108</td>\n",
       "      <td>서울</td>\n",
       "      <td>2023-12-28</td>\n",
       "      <td>1.2</td>\n",
       "      <td>4.4</td>\n",
       "      <td>14:53</td>\n",
       "      <td>-1.7</td>\n",
       "      <td>06:20</td>\n",
       "      <td>6.1</td>\n",
       "    </tr>\n",
       "    <tr>\n",
       "      <th>362</th>\n",
       "      <td>108</td>\n",
       "      <td>서울</td>\n",
       "      <td>2023-12-29</td>\n",
       "      <td>1.3</td>\n",
       "      <td>4.6</td>\n",
       "      <td>14:38</td>\n",
       "      <td>-1.5</td>\n",
       "      <td>07:25</td>\n",
       "      <td>6.1</td>\n",
       "    </tr>\n",
       "    <tr>\n",
       "      <th>363</th>\n",
       "      <td>108</td>\n",
       "      <td>서울</td>\n",
       "      <td>2023-12-30</td>\n",
       "      <td>0.6</td>\n",
       "      <td>2.1</td>\n",
       "      <td>23:54</td>\n",
       "      <td>-0.9</td>\n",
       "      <td>02:37</td>\n",
       "      <td>3.0</td>\n",
       "    </tr>\n",
       "    <tr>\n",
       "      <th>364</th>\n",
       "      <td>108</td>\n",
       "      <td>서울</td>\n",
       "      <td>2023-12-31</td>\n",
       "      <td>2.1</td>\n",
       "      <td>4.3</td>\n",
       "      <td>15:50</td>\n",
       "      <td>0.6</td>\n",
       "      <td>23:43</td>\n",
       "      <td>3.7</td>\n",
       "    </tr>\n",
       "  </tbody>\n",
       "</table>\n",
       "<p>365 rows × 9 columns</p>\n",
       "</div>"
      ],
      "text/plain": [
       "     \\t\\t지점번호 지점명          일시  평균기온(℃)  최고기온(℃) \\t최고기온시각  최저기온(℃) 최저기온시각  일교차\n",
       "0         108  서울  2023-01-01     -0.2      3.8    13:43     -4.3  23:50  8.1\n",
       "1         108  서울  2023-01-02     -4.5     -0.4    15:25     -7.4  08:04  7.0\n",
       "2         108  서울  2023-01-03     -5.0      0.6    15:55     -9.0  05:51  9.6\n",
       "3         108  서울  2023-01-04     -1.8      3.3    15:10     -5.7  02:29  9.0\n",
       "4         108  서울  2023-01-05     -1.6      3.6    15:36     -5.6  07:49  9.2\n",
       "..        ...  ..         ...      ...      ...      ...      ...    ...  ...\n",
       "360       108  서울  2023-12-27      1.5      6.8    15:49     -2.8  08:13  9.6\n",
       "361       108  서울  2023-12-28      1.2      4.4    14:53     -1.7  06:20  6.1\n",
       "362       108  서울  2023-12-29      1.3      4.6    14:38     -1.5  07:25  6.1\n",
       "363       108  서울  2023-12-30      0.6      2.1    23:54     -0.9  02:37  3.0\n",
       "364       108  서울  2023-12-31      2.1      4.3    15:50      0.6  23:43  3.7\n",
       "\n",
       "[365 rows x 9 columns]"
      ]
     },
     "execution_count": 2,
     "metadata": {},
     "output_type": "execute_result"
    }
   ],
   "source": [
    "import pandas as pd\n",
    "import numpy as np\n",
    "import matplotlib.pyplot as plt\n",
    "\n",
    "path = '../../Data/기상청/기상청.csv'\n",
    "\n",
    "pd.read_csv(path, encoding='utf-8', skiprows=11)"
   ]
  },
  {
   "cell_type": "code",
   "execution_count": 3,
   "metadata": {},
   "outputs": [],
   "source": [
    "raw = pd.read_csv(path, parse_dates=['일시'], encoding='utf-8', skiprows=11)"
   ]
  },
  {
   "cell_type": "code",
   "execution_count": 4,
   "metadata": {},
   "outputs": [
    {
     "name": "stdout",
     "output_type": "stream",
     "text": [
      "<class 'pandas.core.frame.DataFrame'>\n",
      "RangeIndex: 365 entries, 0 to 364\n",
      "Data columns (total 9 columns):\n",
      " #   Column   Non-Null Count  Dtype         \n",
      "---  ------   --------------  -----         \n",
      " 0   \t\t지점번호   365 non-null    int64         \n",
      " 1   지점명      365 non-null    object        \n",
      " 2   일시       365 non-null    datetime64[ns]\n",
      " 3   평균기온(℃)  365 non-null    float64       \n",
      " 4   최고기온(℃)  365 non-null    float64       \n",
      " 5   \t최고기온시각  365 non-null    object        \n",
      " 6   최저기온(℃)  365 non-null    float64       \n",
      " 7   최저기온시각   365 non-null    object        \n",
      " 8   일교차      365 non-null    float64       \n",
      "dtypes: datetime64[ns](1), float64(4), int64(1), object(3)\n",
      "memory usage: 25.8+ KB\n"
     ]
    }
   ],
   "source": [
    "df = raw.copy()\n",
    "\n",
    "df.info()"
   ]
  },
  {
   "cell_type": "code",
   "execution_count": 5,
   "metadata": {},
   "outputs": [
    {
     "data": {
      "text/html": [
       "<div>\n",
       "<style scoped>\n",
       "    .dataframe tbody tr th:only-of-type {\n",
       "        vertical-align: middle;\n",
       "    }\n",
       "\n",
       "    .dataframe tbody tr th {\n",
       "        vertical-align: top;\n",
       "    }\n",
       "\n",
       "    .dataframe thead th {\n",
       "        text-align: right;\n",
       "    }\n",
       "</style>\n",
       "<table border=\"1\" class=\"dataframe\">\n",
       "  <thead>\n",
       "    <tr style=\"text-align: right;\">\n",
       "      <th></th>\n",
       "      <th>\\t\\t지점번호</th>\n",
       "      <th>지점명</th>\n",
       "      <th>일시</th>\n",
       "      <th>평균기온(℃)</th>\n",
       "      <th>최고기온(℃)</th>\n",
       "      <th>\\t최고기온시각</th>\n",
       "      <th>최저기온(℃)</th>\n",
       "      <th>최저기온시각</th>\n",
       "      <th>일교차</th>\n",
       "    </tr>\n",
       "  </thead>\n",
       "  <tbody>\n",
       "    <tr>\n",
       "      <th>0</th>\n",
       "      <td>108</td>\n",
       "      <td>서울</td>\n",
       "      <td>2023-01-01</td>\n",
       "      <td>-0.2</td>\n",
       "      <td>3.8</td>\n",
       "      <td>13:43</td>\n",
       "      <td>-4.3</td>\n",
       "      <td>23:50</td>\n",
       "      <td>8.1</td>\n",
       "    </tr>\n",
       "    <tr>\n",
       "      <th>1</th>\n",
       "      <td>108</td>\n",
       "      <td>서울</td>\n",
       "      <td>2023-01-02</td>\n",
       "      <td>-4.5</td>\n",
       "      <td>-0.4</td>\n",
       "      <td>15:25</td>\n",
       "      <td>-7.4</td>\n",
       "      <td>08:04</td>\n",
       "      <td>7.0</td>\n",
       "    </tr>\n",
       "    <tr>\n",
       "      <th>2</th>\n",
       "      <td>108</td>\n",
       "      <td>서울</td>\n",
       "      <td>2023-01-03</td>\n",
       "      <td>-5.0</td>\n",
       "      <td>0.6</td>\n",
       "      <td>15:55</td>\n",
       "      <td>-9.0</td>\n",
       "      <td>05:51</td>\n",
       "      <td>9.6</td>\n",
       "    </tr>\n",
       "    <tr>\n",
       "      <th>3</th>\n",
       "      <td>108</td>\n",
       "      <td>서울</td>\n",
       "      <td>2023-01-04</td>\n",
       "      <td>-1.8</td>\n",
       "      <td>3.3</td>\n",
       "      <td>15:10</td>\n",
       "      <td>-5.7</td>\n",
       "      <td>02:29</td>\n",
       "      <td>9.0</td>\n",
       "    </tr>\n",
       "    <tr>\n",
       "      <th>4</th>\n",
       "      <td>108</td>\n",
       "      <td>서울</td>\n",
       "      <td>2023-01-05</td>\n",
       "      <td>-1.6</td>\n",
       "      <td>3.6</td>\n",
       "      <td>15:36</td>\n",
       "      <td>-5.6</td>\n",
       "      <td>07:49</td>\n",
       "      <td>9.2</td>\n",
       "    </tr>\n",
       "  </tbody>\n",
       "</table>\n",
       "</div>"
      ],
      "text/plain": [
       "   \\t\\t지점번호 지점명         일시  평균기온(℃)  최고기온(℃) \\t최고기온시각  최저기온(℃) 최저기온시각  일교차\n",
       "0       108  서울 2023-01-01     -0.2      3.8    13:43     -4.3  23:50  8.1\n",
       "1       108  서울 2023-01-02     -4.5     -0.4    15:25     -7.4  08:04  7.0\n",
       "2       108  서울 2023-01-03     -5.0      0.6    15:55     -9.0  05:51  9.6\n",
       "3       108  서울 2023-01-04     -1.8      3.3    15:10     -5.7  02:29  9.0\n",
       "4       108  서울 2023-01-05     -1.6      3.6    15:36     -5.6  07:49  9.2"
      ]
     },
     "execution_count": 5,
     "metadata": {},
     "output_type": "execute_result"
    }
   ],
   "source": [
    "df.head()"
   ]
  },
  {
   "cell_type": "code",
   "execution_count": 6,
   "metadata": {},
   "outputs": [
    {
     "data": {
      "text/plain": [
       "0     2023-01-01\n",
       "1     2023-01-02\n",
       "2     2023-01-03\n",
       "3     2023-01-04\n",
       "4     2023-01-05\n",
       "         ...    \n",
       "360   2023-12-27\n",
       "361   2023-12-28\n",
       "362   2023-12-29\n",
       "363   2023-12-30\n",
       "364   2023-12-31\n",
       "Name: 일시, Length: 365, dtype: datetime64[ns]"
      ]
     },
     "execution_count": 6,
     "metadata": {},
     "output_type": "execute_result"
    }
   ],
   "source": [
    "df['일시']"
   ]
  },
  {
   "cell_type": "code",
   "execution_count": 7,
   "metadata": {},
   "outputs": [],
   "source": [
    "df['월별'] = df['일시'].dt.month"
   ]
  },
  {
   "cell_type": "code",
   "execution_count": 8,
   "metadata": {},
   "outputs": [
    {
     "data": {
      "text/html": [
       "<div>\n",
       "<style scoped>\n",
       "    .dataframe tbody tr th:only-of-type {\n",
       "        vertical-align: middle;\n",
       "    }\n",
       "\n",
       "    .dataframe tbody tr th {\n",
       "        vertical-align: top;\n",
       "    }\n",
       "\n",
       "    .dataframe thead th {\n",
       "        text-align: right;\n",
       "    }\n",
       "</style>\n",
       "<table border=\"1\" class=\"dataframe\">\n",
       "  <thead>\n",
       "    <tr style=\"text-align: right;\">\n",
       "      <th></th>\n",
       "      <th>\\t\\t지점번호</th>\n",
       "      <th>지점명</th>\n",
       "      <th>일시</th>\n",
       "      <th>평균기온(℃)</th>\n",
       "      <th>최고기온(℃)</th>\n",
       "      <th>\\t최고기온시각</th>\n",
       "      <th>최저기온(℃)</th>\n",
       "      <th>최저기온시각</th>\n",
       "      <th>일교차</th>\n",
       "      <th>월별</th>\n",
       "    </tr>\n",
       "  </thead>\n",
       "  <tbody>\n",
       "    <tr>\n",
       "      <th>0</th>\n",
       "      <td>108</td>\n",
       "      <td>서울</td>\n",
       "      <td>2023-01-01</td>\n",
       "      <td>-0.2</td>\n",
       "      <td>3.8</td>\n",
       "      <td>13:43</td>\n",
       "      <td>-4.3</td>\n",
       "      <td>23:50</td>\n",
       "      <td>8.1</td>\n",
       "      <td>1</td>\n",
       "    </tr>\n",
       "    <tr>\n",
       "      <th>1</th>\n",
       "      <td>108</td>\n",
       "      <td>서울</td>\n",
       "      <td>2023-01-02</td>\n",
       "      <td>-4.5</td>\n",
       "      <td>-0.4</td>\n",
       "      <td>15:25</td>\n",
       "      <td>-7.4</td>\n",
       "      <td>08:04</td>\n",
       "      <td>7.0</td>\n",
       "      <td>1</td>\n",
       "    </tr>\n",
       "    <tr>\n",
       "      <th>2</th>\n",
       "      <td>108</td>\n",
       "      <td>서울</td>\n",
       "      <td>2023-01-03</td>\n",
       "      <td>-5.0</td>\n",
       "      <td>0.6</td>\n",
       "      <td>15:55</td>\n",
       "      <td>-9.0</td>\n",
       "      <td>05:51</td>\n",
       "      <td>9.6</td>\n",
       "      <td>1</td>\n",
       "    </tr>\n",
       "    <tr>\n",
       "      <th>3</th>\n",
       "      <td>108</td>\n",
       "      <td>서울</td>\n",
       "      <td>2023-01-04</td>\n",
       "      <td>-1.8</td>\n",
       "      <td>3.3</td>\n",
       "      <td>15:10</td>\n",
       "      <td>-5.7</td>\n",
       "      <td>02:29</td>\n",
       "      <td>9.0</td>\n",
       "      <td>1</td>\n",
       "    </tr>\n",
       "    <tr>\n",
       "      <th>4</th>\n",
       "      <td>108</td>\n",
       "      <td>서울</td>\n",
       "      <td>2023-01-05</td>\n",
       "      <td>-1.6</td>\n",
       "      <td>3.6</td>\n",
       "      <td>15:36</td>\n",
       "      <td>-5.6</td>\n",
       "      <td>07:49</td>\n",
       "      <td>9.2</td>\n",
       "      <td>1</td>\n",
       "    </tr>\n",
       "  </tbody>\n",
       "</table>\n",
       "</div>"
      ],
      "text/plain": [
       "   \\t\\t지점번호 지점명         일시  평균기온(℃)  최고기온(℃) \\t최고기온시각  최저기온(℃) 최저기온시각  일교차  월별\n",
       "0       108  서울 2023-01-01     -0.2      3.8    13:43     -4.3  23:50  8.1   1\n",
       "1       108  서울 2023-01-02     -4.5     -0.4    15:25     -7.4  08:04  7.0   1\n",
       "2       108  서울 2023-01-03     -5.0      0.6    15:55     -9.0  05:51  9.6   1\n",
       "3       108  서울 2023-01-04     -1.8      3.3    15:10     -5.7  02:29  9.0   1\n",
       "4       108  서울 2023-01-05     -1.6      3.6    15:36     -5.6  07:49  9.2   1"
      ]
     },
     "execution_count": 8,
     "metadata": {},
     "output_type": "execute_result"
    }
   ],
   "source": [
    "df.head()"
   ]
  },
  {
   "cell_type": "code",
   "execution_count": 9,
   "metadata": {},
   "outputs": [],
   "source": [
    "df['일별'] = df['일시'].dt.day"
   ]
  },
  {
   "cell_type": "code",
   "execution_count": 10,
   "metadata": {},
   "outputs": [
    {
     "data": {
      "text/html": [
       "<div>\n",
       "<style scoped>\n",
       "    .dataframe tbody tr th:only-of-type {\n",
       "        vertical-align: middle;\n",
       "    }\n",
       "\n",
       "    .dataframe tbody tr th {\n",
       "        vertical-align: top;\n",
       "    }\n",
       "\n",
       "    .dataframe thead th {\n",
       "        text-align: right;\n",
       "    }\n",
       "</style>\n",
       "<table border=\"1\" class=\"dataframe\">\n",
       "  <thead>\n",
       "    <tr style=\"text-align: right;\">\n",
       "      <th></th>\n",
       "      <th>\\t\\t지점번호</th>\n",
       "      <th>지점명</th>\n",
       "      <th>일시</th>\n",
       "      <th>평균기온(℃)</th>\n",
       "      <th>최고기온(℃)</th>\n",
       "      <th>\\t최고기온시각</th>\n",
       "      <th>최저기온(℃)</th>\n",
       "      <th>최저기온시각</th>\n",
       "      <th>일교차</th>\n",
       "      <th>월별</th>\n",
       "      <th>일별</th>\n",
       "    </tr>\n",
       "  </thead>\n",
       "  <tbody>\n",
       "    <tr>\n",
       "      <th>0</th>\n",
       "      <td>108</td>\n",
       "      <td>서울</td>\n",
       "      <td>2023-01-01</td>\n",
       "      <td>-0.2</td>\n",
       "      <td>3.8</td>\n",
       "      <td>13:43</td>\n",
       "      <td>-4.3</td>\n",
       "      <td>23:50</td>\n",
       "      <td>8.1</td>\n",
       "      <td>1</td>\n",
       "      <td>1</td>\n",
       "    </tr>\n",
       "    <tr>\n",
       "      <th>1</th>\n",
       "      <td>108</td>\n",
       "      <td>서울</td>\n",
       "      <td>2023-01-02</td>\n",
       "      <td>-4.5</td>\n",
       "      <td>-0.4</td>\n",
       "      <td>15:25</td>\n",
       "      <td>-7.4</td>\n",
       "      <td>08:04</td>\n",
       "      <td>7.0</td>\n",
       "      <td>1</td>\n",
       "      <td>2</td>\n",
       "    </tr>\n",
       "    <tr>\n",
       "      <th>2</th>\n",
       "      <td>108</td>\n",
       "      <td>서울</td>\n",
       "      <td>2023-01-03</td>\n",
       "      <td>-5.0</td>\n",
       "      <td>0.6</td>\n",
       "      <td>15:55</td>\n",
       "      <td>-9.0</td>\n",
       "      <td>05:51</td>\n",
       "      <td>9.6</td>\n",
       "      <td>1</td>\n",
       "      <td>3</td>\n",
       "    </tr>\n",
       "    <tr>\n",
       "      <th>3</th>\n",
       "      <td>108</td>\n",
       "      <td>서울</td>\n",
       "      <td>2023-01-04</td>\n",
       "      <td>-1.8</td>\n",
       "      <td>3.3</td>\n",
       "      <td>15:10</td>\n",
       "      <td>-5.7</td>\n",
       "      <td>02:29</td>\n",
       "      <td>9.0</td>\n",
       "      <td>1</td>\n",
       "      <td>4</td>\n",
       "    </tr>\n",
       "    <tr>\n",
       "      <th>4</th>\n",
       "      <td>108</td>\n",
       "      <td>서울</td>\n",
       "      <td>2023-01-05</td>\n",
       "      <td>-1.6</td>\n",
       "      <td>3.6</td>\n",
       "      <td>15:36</td>\n",
       "      <td>-5.6</td>\n",
       "      <td>07:49</td>\n",
       "      <td>9.2</td>\n",
       "      <td>1</td>\n",
       "      <td>5</td>\n",
       "    </tr>\n",
       "  </tbody>\n",
       "</table>\n",
       "</div>"
      ],
      "text/plain": [
       "   \\t\\t지점번호 지점명         일시  평균기온(℃)  최고기온(℃) \\t최고기온시각  최저기온(℃) 최저기온시각  일교차  \\\n",
       "0       108  서울 2023-01-01     -0.2      3.8    13:43     -4.3  23:50  8.1   \n",
       "1       108  서울 2023-01-02     -4.5     -0.4    15:25     -7.4  08:04  7.0   \n",
       "2       108  서울 2023-01-03     -5.0      0.6    15:55     -9.0  05:51  9.6   \n",
       "3       108  서울 2023-01-04     -1.8      3.3    15:10     -5.7  02:29  9.0   \n",
       "4       108  서울 2023-01-05     -1.6      3.6    15:36     -5.6  07:49  9.2   \n",
       "\n",
       "   월별  일별  \n",
       "0   1   1  \n",
       "1   1   2  \n",
       "2   1   3  \n",
       "3   1   4  \n",
       "4   1   5  "
      ]
     },
     "execution_count": 10,
     "metadata": {},
     "output_type": "execute_result"
    }
   ],
   "source": [
    "df.head()"
   ]
  },
  {
   "cell_type": "code",
   "execution_count": 11,
   "metadata": {},
   "outputs": [
    {
     "data": {
      "text/plain": [
       "Index(['\\t\\t지점번호', '지점명', '일시', '평균기온(℃)', '최고기온(℃)', '\\t최고기온시각', '최저기온(℃)',\n",
       "       '최저기온시각', '일교차', '월별', '일별'],\n",
       "      dtype='object')"
      ]
     },
     "execution_count": 11,
     "metadata": {},
     "output_type": "execute_result"
    }
   ],
   "source": [
    "df.columns"
   ]
  },
  {
   "cell_type": "code",
   "execution_count": 12,
   "metadata": {},
   "outputs": [
    {
     "data": {
      "text/html": [
       "<div>\n",
       "<style scoped>\n",
       "    .dataframe tbody tr th:only-of-type {\n",
       "        vertical-align: middle;\n",
       "    }\n",
       "\n",
       "    .dataframe tbody tr th {\n",
       "        vertical-align: top;\n",
       "    }\n",
       "\n",
       "    .dataframe thead th {\n",
       "        text-align: right;\n",
       "    }\n",
       "</style>\n",
       "<table border=\"1\" class=\"dataframe\">\n",
       "  <thead>\n",
       "    <tr style=\"text-align: right;\">\n",
       "      <th></th>\n",
       "      <th>\\t\\t지점번호</th>\n",
       "      <th>지점명</th>\n",
       "      <th>일시</th>\n",
       "      <th>평균기온(℃)</th>\n",
       "      <th>최고기온(℃)</th>\n",
       "      <th>\\t최고기온시각</th>\n",
       "      <th>최저기온(℃)</th>\n",
       "      <th>최저기온시각</th>\n",
       "      <th>일교차</th>\n",
       "      <th>월별</th>\n",
       "      <th>일별</th>\n",
       "    </tr>\n",
       "  </thead>\n",
       "  <tbody>\n",
       "    <tr>\n",
       "      <th>0</th>\n",
       "      <td>108</td>\n",
       "      <td>서울</td>\n",
       "      <td>2023-01-01</td>\n",
       "      <td>-0.2</td>\n",
       "      <td>3.8</td>\n",
       "      <td>13:43</td>\n",
       "      <td>-4.3</td>\n",
       "      <td>23:50</td>\n",
       "      <td>8.1</td>\n",
       "      <td>1</td>\n",
       "      <td>1</td>\n",
       "    </tr>\n",
       "    <tr>\n",
       "      <th>1</th>\n",
       "      <td>108</td>\n",
       "      <td>서울</td>\n",
       "      <td>2023-01-02</td>\n",
       "      <td>-4.5</td>\n",
       "      <td>-0.4</td>\n",
       "      <td>15:25</td>\n",
       "      <td>-7.4</td>\n",
       "      <td>08:04</td>\n",
       "      <td>7.0</td>\n",
       "      <td>1</td>\n",
       "      <td>2</td>\n",
       "    </tr>\n",
       "    <tr>\n",
       "      <th>2</th>\n",
       "      <td>108</td>\n",
       "      <td>서울</td>\n",
       "      <td>2023-01-03</td>\n",
       "      <td>-5.0</td>\n",
       "      <td>0.6</td>\n",
       "      <td>15:55</td>\n",
       "      <td>-9.0</td>\n",
       "      <td>05:51</td>\n",
       "      <td>9.6</td>\n",
       "      <td>1</td>\n",
       "      <td>3</td>\n",
       "    </tr>\n",
       "    <tr>\n",
       "      <th>3</th>\n",
       "      <td>108</td>\n",
       "      <td>서울</td>\n",
       "      <td>2023-01-04</td>\n",
       "      <td>-1.8</td>\n",
       "      <td>3.3</td>\n",
       "      <td>15:10</td>\n",
       "      <td>-5.7</td>\n",
       "      <td>02:29</td>\n",
       "      <td>9.0</td>\n",
       "      <td>1</td>\n",
       "      <td>4</td>\n",
       "    </tr>\n",
       "    <tr>\n",
       "      <th>4</th>\n",
       "      <td>108</td>\n",
       "      <td>서울</td>\n",
       "      <td>2023-01-05</td>\n",
       "      <td>-1.6</td>\n",
       "      <td>3.6</td>\n",
       "      <td>15:36</td>\n",
       "      <td>-5.6</td>\n",
       "      <td>07:49</td>\n",
       "      <td>9.2</td>\n",
       "      <td>1</td>\n",
       "      <td>5</td>\n",
       "    </tr>\n",
       "  </tbody>\n",
       "</table>\n",
       "</div>"
      ],
      "text/plain": [
       "   \\t\\t지점번호 지점명         일시  평균기온(℃)  최고기온(℃) \\t최고기온시각  최저기온(℃) 최저기온시각  일교차  \\\n",
       "0       108  서울 2023-01-01     -0.2      3.8    13:43     -4.3  23:50  8.1   \n",
       "1       108  서울 2023-01-02     -4.5     -0.4    15:25     -7.4  08:04  7.0   \n",
       "2       108  서울 2023-01-03     -5.0      0.6    15:55     -9.0  05:51  9.6   \n",
       "3       108  서울 2023-01-04     -1.8      3.3    15:10     -5.7  02:29  9.0   \n",
       "4       108  서울 2023-01-05     -1.6      3.6    15:36     -5.6  07:49  9.2   \n",
       "\n",
       "   월별  일별  \n",
       "0   1   1  \n",
       "1   1   2  \n",
       "2   1   3  \n",
       "3   1   4  \n",
       "4   1   5  "
      ]
     },
     "execution_count": 12,
     "metadata": {},
     "output_type": "execute_result"
    }
   ],
   "source": [
    "df.head()"
   ]
  },
  {
   "cell_type": "code",
   "execution_count": 13,
   "metadata": {},
   "outputs": [
    {
     "data": {
      "text/plain": [
       "0       1\n",
       "1       1\n",
       "2       1\n",
       "3       1\n",
       "4       1\n",
       "       ..\n",
       "360    12\n",
       "361    12\n",
       "362    12\n",
       "363    12\n",
       "364    12\n",
       "Name: 월별, Length: 365, dtype: int32"
      ]
     },
     "execution_count": 13,
     "metadata": {},
     "output_type": "execute_result"
    }
   ],
   "source": [
    "df['월별']"
   ]
  },
  {
   "cell_type": "code",
   "execution_count": 14,
   "metadata": {},
   "outputs": [
    {
     "data": {
      "text/plain": [
       "월별\n",
       "1    -1.522581\n",
       "2     2.300000\n",
       "3     9.780645\n",
       "4    13.800000\n",
       "5    19.522581\n",
       "Name: 평균기온(℃), dtype: float64"
      ]
     },
     "execution_count": 14,
     "metadata": {},
     "output_type": "execute_result"
    }
   ],
   "source": [
    "df.groupby('월별')['평균기온(℃)'].agg('mean')\n",
    "\n",
    "result = df.groupby('월별')['평균기온(℃)'].agg('mean')\n",
    "\n",
    "result[:5]"
   ]
  },
  {
   "cell_type": "code",
   "execution_count": 15,
   "metadata": {},
   "outputs": [
    {
     "data": {
      "image/png": "[encoded data removed]",
      "text/plain": [
       "<Figure size 1200x600 with 1 Axes>"
      ]
     },
     "metadata": {},
     "output_type": "display_data"
    }
   ],
   "source": [
    "fig, ax = plt.subplots(figsize=(12,6))\n",
    "\n",
    "ax.plot(result.index, result.values)\n",
    "\n",
    "ax.set_title('average temp of month', size=10)\n",
    "ax.set_xlabel('month')\n",
    "ax.set_ylabel('temp(℃)')\n",
    "plt.xticks(ticks=range(1, 13))\n",
    "plt.yticks(ticks=range(-10, 40, 5))\n",
    "\n",
    "plt.grid(True)\n",
    "plt.show()"
   ]
  },
  {
   "cell_type": "code",
   "execution_count": 16,
   "metadata": {},
   "outputs": [],
   "source": [
    "month01 = df[(df['월별'] == 1)]\n",
    "month02 = df[(df['월별'] == 2)]\n",
    "month03 = df[(df['월별'] == 3)]\n",
    "month04 = df[(df['월별'] == 4)]\n",
    "month05 = df[(df['월별'] == 5)]\n",
    "month06 = df[(df['월별'] == 6)]\n",
    "month07 = df[(df['월별'] == 7)]\n",
    "month08 = df[(df['월별'] == 8)]\n",
    "month09 = df[(df['월별'] == 9)]\n",
    "month10 = df[(df['월별'] == 10)]\n",
    "month11 = df[(df['월별'] == 11)]\n",
    "month12 = df[(df['월별'] == 12)]"
   ]
  },
  {
   "cell_type": "code",
   "execution_count": 17,
   "metadata": {},
   "outputs": [
    {
     "data": {
      "text/plain": [
       "Text(0, 0.5, 'temp(℃)')"
      ]
     },
     "execution_count": 17,
     "metadata": {},
     "output_type": "execute_result"
    },
    {
     "data": {
      "image/png": "[encoded data removed]",
      "text/plain": [
       "<Figure size 1200x600 with 1 Axes>"
      ]
     },
     "metadata": {},
     "output_type": "display_data"
    }
   ],
   "source": [
    "fig, ax = plt.subplots(figsize=(12,6))\n",
    "\n",
    "box = ax.boxplot(x = [month01['평균기온(℃)'],\n",
    "                  month02['평균기온(℃)'],\n",
    "                  month03['평균기온(℃)'],\n",
    "                  month04['평균기온(℃)'],\n",
    "                  month05['평균기온(℃)'],\n",
    "                  month06['평균기온(℃)'],\n",
    "                  month07['평균기온(℃)'],\n",
    "                  month08['평균기온(℃)'],\n",
    "                  month09['평균기온(℃)'],\n",
    "                  month10['평균기온(℃)'],\n",
    "                  month11['평균기온(℃)'],\n",
    "                  month12['평균기온(℃)']])\n",
    "\n",
    "ax.set_xlabel('month')\n",
    "ax.set_ylabel('temp(℃)')\n"
   ]
  },
  {
   "cell_type": "code",
   "execution_count": 18,
   "metadata": {},
   "outputs": [
    {
     "data": {
      "text/plain": [
       "0     2023-01-01\n",
       "1     2023-01-02\n",
       "2     2023-01-03\n",
       "3     2023-01-04\n",
       "4     2023-01-05\n",
       "         ...    \n",
       "360   2023-12-27\n",
       "361   2023-12-28\n",
       "362   2023-12-29\n",
       "363   2023-12-30\n",
       "364   2023-12-31\n",
       "Name: 일시, Length: 365, dtype: datetime64[ns]"
      ]
     },
     "execution_count": 18,
     "metadata": {},
     "output_type": "execute_result"
    }
   ],
   "source": [
    "df['일시']"
   ]
  },
  {
   "cell_type": "code",
   "execution_count": 39,
   "metadata": {},
   "outputs": [
    {
     "data": {
      "text/plain": [
       "RangeIndex(start=0, stop=365, step=1)"
      ]
     },
     "execution_count": 39,
     "metadata": {},
     "output_type": "execute_result"
    }
   ],
   "source": [
    "df['일별'].index\n"
   ]
  },
  {
   "cell_type": "code",
   "execution_count": 36,
   "metadata": {},
   "outputs": [
    {
     "ename": "TypeError",
     "evalue": "'str' object cannot be interpreted as an integer",
     "output_type": "error",
     "traceback": [
      "\u001b[1;31m---------------------------------------------------------------------------\u001b[0m",
      "\u001b[1;31mTypeError\u001b[0m                                 Traceback (most recent call last)",
      "Cell \u001b[1;32mIn[36], line 6\u001b[0m\n\u001b[0;32m      4\u001b[0m plt\u001b[38;5;241m.\u001b[39mxlabel(\u001b[38;5;124m'\u001b[39m\u001b[38;5;124mdate\u001b[39m\u001b[38;5;124m'\u001b[39m)\n\u001b[0;32m      5\u001b[0m plt\u001b[38;5;241m.\u001b[39mylabel(\u001b[38;5;124m'\u001b[39m\u001b[38;5;124mtemp(℃)\u001b[39m\u001b[38;5;124m'\u001b[39m)\n\u001b[1;32m----> 6\u001b[0m plt\u001b[38;5;241m.\u001b[39mxticks(ticks\u001b[38;5;241m=\u001b[39m\u001b[38;5;28mrange\u001b[39m(\u001b[38;5;124m'\u001b[39m\u001b[38;5;124m2023-01-01\u001b[39m\u001b[38;5;124m'\u001b[39m, \u001b[38;5;124m'\u001b[39m\u001b[38;5;124m2023-12-31\u001b[39m\u001b[38;5;124m'\u001b[39m, \u001b[38;5;241m10\u001b[39m))\n",
      "\u001b[1;31mTypeError\u001b[0m: 'str' object cannot be interpreted as an integer"
     ]
    },
    {
     "data": {
      "image/png": "[encoded data removed]",
      "text/plain": [
       "<Figure size 1200x600 with 1 Axes>"
      ]
     },
     "metadata": {},
     "output_type": "display_data"
    }
   ],
   "source": [
    "# fig, ax = plt.subplots(figsize=(12,6))\n",
    "\n",
    "# ax.bar(df['일별'], df['평균기온(℃)'])\n",
    "# plt.xlabel('date')\n",
    "# plt.ylabel('temp(℃)')\n",
    "# plt.xticks(ticks=range('2023-01-01', '2023-12-31', 10))"
   ]
  },
  {
   "cell_type": "code",
   "execution_count": null,
   "metadata": {},
   "outputs": [],
   "source": []
  }
 ],
 "metadata": {
  "kernelspec": {
   "display_name": "base",
   "language": "python",
   "name": "python3"
  },
  "language_info": {
   "codemirror_mode": {
    "name": "ipython",
    "version": 3
   },
   "file_extension": ".py",
   "mimetype": "text/x-python",
   "name": "python",
   "nbconvert_exporter": "python",
   "pygments_lexer": "ipython3",
   "version": "3.11.7"
  }
 },
 "nbformat": 4,
 "nbformat_minor": 2
}
