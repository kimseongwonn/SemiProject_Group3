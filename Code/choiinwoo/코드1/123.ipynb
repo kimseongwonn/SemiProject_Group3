{
 "cells": [
  {
   "cell_type": "code",
   "execution_count": 3,
   "metadata": {},
   "outputs": [
    {
     "name": "stdout",
     "output_type": "stream",
     "text": [
      "               기준_날짜  기준_시간대 시작_대여소_ID 종료_대여소_ID  전체_건수\n",
      "64        20230101.0     115    ST-808    ST-808      1\n",
      "134       20230101.0     255   ST-3078   ST-3078      2\n",
      "281       20230101.0     910   ST-3077   ST-3077      1\n",
      "289       20230101.0     920   ST-2678   ST-2678      1\n",
      "333       20230101.0    1035   ST-1181   ST-1181      1\n",
      "...              ...     ...       ...       ...    ...\n",
      "86433931  20231231.0    2345    ST-803    ST-797      1\n",
      "86433963  20231231.0    2345   ST-1186   ST-2474      1\n",
      "86434033  20231231.0    2350   ST-2870    ST-958      1\n",
      "86434053  20231231.0    2350   ST-1185   ST-1364      1\n",
      "86434204  20231231.0    2355   ST-1185   ST-1364      1\n",
      "\n",
      "[1937449 rows x 5 columns]\n"
     ]
    }
   ],
   "source": [
    "import numpy as np\n",
    "import pandas as pd\n",
    "\n",
    "data2 = pd.read_csv('./강남_따릉이_combined_data.csv', encoding='utf-8')\n",
    "강남_대여소_ID = pd.read_csv('./전처리1/강남_따릉이_대여소_ID.csv',encoding='utf-8')\n",
    "강남_대여소_ID = 강남_대여소_ID['대여소_ID']\n",
    "\n",
    "따릉이_data = data2[['기준_날짜', '기준_시간대', '시작_대여소_ID', '종료_대여소_ID', '전체_건수']]\n",
    "\n",
    "# 출발 대여소 ID가 강남구 대여소 ID에 해당하는지 확인하는 조건 추가\n",
    "강남출발_mask = 따릉이_data['시작_대여소_ID'].isin(강남_대여소_ID)\n",
    "\n",
    "# 도착 대여소 ID가 강남구 대여소 ID에 해당하는지 확인하는 조건 추가\n",
    "강남도착_mask = 따릉이_data['종료_대여소_ID'].isin(강남_대여소_ID)\n",
    "\n",
    "# 출발 혹은 도착 대여소 ID가 강남구 대여소 ID에 해당하는 데이터만 남기기\n",
    "강남_따릉이_data = 따릉이_data[강남출발_mask & 강남도착_mask]\n",
    "# 시작 대여소명에서 동만 추출하여 새로운 열 추가하기\n",
    "\n",
    "print(강남_따릉이_data)\n"
   ]
  }
 ],
 "metadata": {
  "kernelspec": {
   "display_name": "base",
   "language": "python",
   "name": "python3"
  },
  "language_info": {
   "codemirror_mode": {
    "name": "ipython",
    "version": 3
   },
   "file_extension": ".py",
   "mimetype": "text/x-python",
   "name": "python",
   "nbconvert_exporter": "python",
   "pygments_lexer": "ipython3",
   "version": "3.11.7"
  }
 },
 "nbformat": 4,
 "nbformat_minor": 2
}
