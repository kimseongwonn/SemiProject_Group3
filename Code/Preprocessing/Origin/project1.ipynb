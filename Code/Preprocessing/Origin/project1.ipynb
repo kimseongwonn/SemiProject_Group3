{
 "cells": [
  {
   "cell_type": "markdown",
   "metadata": {},
   "source": [
    "대여소 ID, 구 단위 저장\n"
   ]
  },
  {
   "cell_type": "code",
   "execution_count": 46,
   "metadata": {},
   "outputs": [
    {
     "name": "stdout",
     "output_type": "stream",
     "text": [
      "36       ST-966\n",
      "39       ST-963\n",
      "40       ST-962\n",
      "41       ST-961\n",
      "42       ST-960\n",
      "         ...   \n",
      "3090    ST-1174\n",
      "3091    ST-1173\n",
      "3092    ST-1172\n",
      "3093    ST-1171\n",
      "3094    ST-1170\n",
      "Name: 대여소_ID, Length: 191, dtype: object\n"
     ]
    },
    {
     "name": "stderr",
     "output_type": "stream",
     "text": [
      "C:\\Users\\ciw96\\AppData\\Local\\Temp\\ipykernel_51184\\2551918976.py:9: SettingWithCopyWarning: \n",
      "A value is trying to be set on a copy of a slice from a DataFrame.\n",
      "Try using .loc[row_indexer,col_indexer] = value instead\n",
      "\n",
      "See the caveats in the documentation: https://pandas.pydata.org/pandas-docs/stable/user_guide/indexing.html#returning-a-view-versus-a-copy\n",
      "  대여소_data['주소1'] = data['주소1'].str.extract(r'(\\S+)구')\n"
     ]
    }
   ],
   "source": [
    "import numpy as np\n",
    "import pandas as pd\n",
    "\n",
    "\n",
    "data= pd.read_csv('./따릉이/서울시 따릉이대여소 마스터 정보.csv',encoding='cp949')\n",
    "\n",
    "대여소_data = data[['대여소_ID', '주소1']]\n",
    "\n",
    "대여소_data['주소1'] = data['주소1'].str.extract(r'(\\S+)구')\n",
    "\n",
    "강남_대여소_ID = 대여소_data.loc[대여소_data['주소1'] == '강남', '대여소_ID']\n",
    "강남_대여소_ID_df = pd.DataFrame({'대여소_ID': 강남_대여소_ID})\n",
    "\n",
    "print(강남_대여소_ID)"
   ]
  },
  {
   "cell_type": "markdown",
   "metadata": {},
   "source": [
    "따릉이 데이터"
   ]
  },
  {
   "cell_type": "code",
   "execution_count": 20,
   "metadata": {},
   "outputs": [
    {
     "name": "stdout",
     "output_type": "stream",
     "text": [
      "           기준_날짜   기준_시간대 시작_대여소_ID 종료_대여소_ID  전체_건수\n",
      "34      20240423    0시 0분   ST-1365   ST-3188      1\n",
      "53      20240423    0시 0분   ST-1578   ST-2796      1\n",
      "75      20240423    0시 0분    ST-187    ST-823      1\n",
      "76      20240423    0시 0분   ST-1888   ST-1185      1\n",
      "77      20240423    0시 0분   ST-1893   ST-1560      1\n",
      "...          ...      ...       ...       ...    ...\n",
      "296479  20240423  23시 50분   ST-1888   ST-1364      1\n",
      "296480  20240423  23시 50분   ST-1922    ST-813      1\n",
      "296542  20240423  23시 50분    ST-815   ST-1247      1\n",
      "296543  20240423  23시 50분    ST-823    ST-823      1\n",
      "296808  20240423  23시 55분   ST-1407   ST-1364      1\n",
      "\n",
      "[6933 rows x 5 columns]\n"
     ]
    },
    {
     "name": "stderr",
     "output_type": "stream",
     "text": [
      "C:\\Users\\ciw96\\AppData\\Local\\Temp\\ipykernel_51184\\4124904032.py:9: SettingWithCopyWarning: \n",
      "A value is trying to be set on a copy of a slice from a DataFrame.\n",
      "Try using .loc[row_indexer,col_indexer] = value instead\n",
      "\n",
      "See the caveats in the documentation: https://pandas.pydata.org/pandas-docs/stable/user_guide/indexing.html#returning-a-view-versus-a-copy\n",
      "  따릉이_data['기준_시간대'] = 따릉이_data['기준_시간대'].astype(str).apply(lambda x: f\"{int(x)//100}시 {int(x)%100}분\")\n"
     ]
    }
   ],
   "source": [
    "import numpy as np\n",
    "import pandas as pd\n",
    "\n",
    "data2 = pd.read_csv('./따릉이/tpss_bcycl_od_statnhm_20240423.csv', encoding='cp949')\n",
    "\n",
    "data2 = data2[data2['집계_기준'] != '도착시간']\n",
    "\n",
    "따릉이_data = data2[['기준_날짜', '기준_시간대', '시작_대여소_ID', '종료_대여소_ID', '전체_건수']]\n",
    "따릉이_data['기준_시간대'] = 따릉이_data['기준_시간대'].astype(str).apply(lambda x: f\"{int(x)//100}시 {int(x)%100}분\")\n",
    "\n",
    "\n",
    "# 출발 대여소 ID가 강남구 대여소 ID에 해당하는지 확인하는 조건 추가\n",
    "강남출발_mask = 따릉이_data['시작_대여소_ID'].isin(강남_대여소_ID)\n",
    "\n",
    "# 도착 대여소 ID가 강남구 대여소 ID에 해당하는지 확인하는 조건 추가\n",
    "강남도착_mask = 따릉이_data['종료_대여소_ID'].isin(강남_대여소_ID)\n",
    "\n",
    "# 출발 혹은 도착 대여소 ID가 강남구 대여소 ID에 해당하는 데이터만 남기기\n",
    "강남_따릉이_data = 따릉이_data[강남출발_mask | 강남도착_mask]\n",
    "\n",
    "print(강남_따릉이_data)\n"
   ]
  },
  {
   "cell_type": "markdown",
   "metadata": {},
   "source": [
    "굳이 할 필요 없던거.... \n",
    "강남구 하루 이용 횟수 출발, 도착"
   ]
  },
  {
   "cell_type": "code",
   "execution_count": 21,
   "metadata": {},
   "outputs": [
    {
     "name": "stdout",
     "output_type": "stream",
     "text": [
      "강남에서 출발한 대여 건수: 5666\n",
      "강남으로 도착한 대여 건수: 5476\n"
     ]
    }
   ],
   "source": [
    "\n",
    "강남_출발_num = 0\n",
    "강남_도착_num = 0\n",
    "\n",
    "for i,따릉이 in 강남_따릉이_data.iterrows():\n",
    "    시작_대여소_ID = 따릉이['시작_대여소_ID']\n",
    "    종료_대여소_ID = 따릉이['종료_대여소_ID']\n",
    "  \n",
    "    if 시작_대여소_ID in 강남_대여소_ID_df.values:\n",
    "        강남_출발_num += 따릉이['전체_건수']\n",
    "    \n",
    "    if 종료_대여소_ID in 강남_대여소_ID_df.values:\n",
    "        강남_도착_num += 따릉이['전체_건수']\n",
    "\n",
    "\n",
    "print(\"강남에서 출발한 대여 건수:\", 강남_출발_num)\n",
    "print(\"강남으로 도착한 대여 건수:\", 강남_도착_num)"
   ]
  },
  {
   "cell_type": "markdown",
   "metadata": {},
   "source": [
    "기상청 데이터\n",
    "\n",
    "기온 : 평균 기온? 최고 최저는 편차가 심하면 못 쓸 가능성 높음\n"
   ]
  },
  {
   "cell_type": "code",
   "execution_count": 43,
   "metadata": {},
   "outputs": [
    {
     "name": "stdout",
     "output_type": "stream",
     "text": [
      "        기준_날짜  평균_기온  최고_기온  최저_기온\n",
      "108  20230101   -0.2    3.8   -4.3\n",
      "108  20230102   -4.5   -0.4   -7.4\n",
      "108  20230103   -5.0    0.6   -9.0\n",
      "108  20230104   -1.8    3.3   -5.7\n",
      "108  20230105   -1.6    3.6   -5.6\n",
      "..        ...    ...    ...    ...\n",
      "108  20231227    1.5    6.8   -2.8\n",
      "108  20231228    1.2    4.4   -1.7\n",
      "108  20231229    1.3    4.6   -1.5\n",
      "108  20231230    0.6    2.1   -0.9\n",
      "108  20231231    2.1    4.3    0.6\n",
      "\n",
      "[365 rows x 4 columns]\n"
     ]
    }
   ],
   "source": [
    "import numpy as np\n",
    "import pandas as pd\n",
    "\n",
    "def convert_date_to_numeric(date):\n",
    "    date_str = str(date).replace('-', '')\n",
    "    return int(date_str)\n",
    "\n",
    "data3 = pd.read_csv('./기상청/기상청.csv',encoding='cp949',skiprows=8)\n",
    "\n",
    "열이름 = ['기준_날짜','평균_기온','최고_기온']\n",
    "기온 = data3.iloc[:,1:4]\n",
    "기온.columns = 열이름\n",
    "기온['최저_기온'] = data3.iloc[:,5]\n",
    "기온['기준_날짜'] = 기온['기준_날짜'].apply(convert_date_to_numeric)\n",
    "print(기온)\n"
   ]
  },
  {
   "cell_type": "markdown",
   "metadata": {},
   "source": [
    "강수량 : "
   ]
  },
  {
   "cell_type": "code",
   "execution_count": 44,
   "metadata": {},
   "outputs": [
    {
     "name": "stdout",
     "output_type": "stream",
     "text": [
      "        기준_날짜   강수량\n",
      "5    20230106   3.9\n",
      "6    20230107   0.1\n",
      "11   20230112   0.0\n",
      "12   20230113  37.3\n",
      "13   20230114   1.6\n",
      "..        ...   ...\n",
      "353  20231220   0.8\n",
      "357  20231224   1.1\n",
      "358  20231225   0.7\n",
      "363  20231230  13.1\n",
      "364  20231231   4.7\n",
      "\n",
      "[150 rows x 2 columns]\n"
     ]
    }
   ],
   "source": [
    "import numpy as np\n",
    "import pandas as pd\n",
    "\n",
    "def convert_date_to_numeric(date):\n",
    "    date_str = str(date).replace('-', '')\n",
    "    return int(date_str)\n",
    "\n",
    "\n",
    "data4 = pd.read_csv('./기상청/강수량.csv',encoding='cp949',skiprows=6)\n",
    "data4 = data4.dropna()\n",
    "\n",
    "강수량 = data4[['날짜', '강수량(mm)']]\n",
    "강수량 = 강수량.rename(columns={'날짜': '기준_날짜'})\n",
    "강수량 = 강수량.rename(columns={'강수량(mm)': '강수량'})\n",
    "강수량['기준_날짜'] = 강수량['기준_날짜'].apply(convert_date_to_numeric)\n",
    "\n",
    "print(강수량)"
   ]
  },
  {
   "cell_type": "markdown",
   "metadata": {},
   "source": [
    "미세먼지"
   ]
  },
  {
   "cell_type": "code",
   "execution_count": 45,
   "metadata": {},
   "outputs": [
    {
     "name": "stdout",
     "output_type": "stream",
     "text": [
      "미세먼지\n",
      "         기준_날짜  미세먼지(㎍/㎥)\n",
      "0     20230101       52.0\n",
      "25    20230102       24.0\n",
      "50    20230103       29.0\n",
      "75    20230104       35.0\n",
      "100   20230105       47.0\n",
      "...        ...        ...\n",
      "9000  20231227       69.0\n",
      "9025  20231228       48.0\n",
      "9050  20231229       44.0\n",
      "9075  20231230       42.0\n",
      "9100  20231231       23.0\n",
      "\n",
      "[365 rows x 2 columns]\n"
     ]
    }
   ],
   "source": [
    "import numpy as np\n",
    "import pandas as pd\n",
    "\n",
    "data5 = pd.read_csv('./기상청/미세먼지.csv',encoding='cp949')\n",
    "\n",
    "미세먼지_강남구_data = data5[data5['측정소명']=='강남구']\n",
    "미세먼지_강남구_data = 미세먼지_강남구_data.rename(columns={'측정일시': '기준_날짜'})\n",
    "미세먼지 = 미세먼지_강남구_data[['기준_날짜','미세먼지(㎍/㎥)']]\n",
    "\n",
    "print('미세먼지')\n",
    "print(미세먼지)"
   ]
  }
 ],
 "metadata": {
  "kernelspec": {
   "display_name": "base",
   "language": "python",
   "name": "python3"
  },
  "language_info": {
   "codemirror_mode": {
    "name": "ipython",
    "version": 3
   },
   "file_extension": ".py",
   "mimetype": "text/x-python",
   "name": "python",
   "nbconvert_exporter": "python",
   "pygments_lexer": "ipython3",
   "version": "3.10.9"
  }
 },
 "nbformat": 4,
 "nbformat_minor": 2
}
